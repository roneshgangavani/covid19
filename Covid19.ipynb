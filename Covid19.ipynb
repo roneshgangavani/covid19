{
 "cells": [
  {
   "cell_type": "code",
   "execution_count": 66,
   "metadata": {},
   "outputs": [],
   "source": [
    "import dash\n",
    "import flask\n",
    "import dash_core_components as dcc\n",
    "import dash_html_components as html\n",
    "import pandas as pd\n",
    "from dash.dependencies import Output,Input\n",
    "import plotly.graph_objs as go\n",
    "import plotly.express as px\n"
   ]
  },
  {
   "cell_type": "code",
   "execution_count": 44,
   "metadata": {},
   "outputs": [],
   "source": [
    "df=pd.read_excel(\"covid19.xlsx\",sheet_name='Sheet1')"
   ]
  },
  {
   "cell_type": "code",
   "execution_count": 45,
   "metadata": {},
   "outputs": [],
   "source": [
    "df1=df.groupby('Date Announced')['Patient Number'].count()\n"
   ]
  },
  {
   "cell_type": "code",
   "execution_count": 46,
   "metadata": {},
   "outputs": [],
   "source": [
    "df1=df1.reset_index()"
   ]
  },
  {
   "cell_type": "code",
   "execution_count": 38,
   "metadata": {},
   "outputs": [],
   "source": [
    "df1=pd.DataFrame(df1)"
   ]
  },
  {
   "cell_type": "code",
   "execution_count": 47,
   "metadata": {},
   "outputs": [
    {
     "data": {
      "text/html": [
       "<div>\n",
       "<style scoped>\n",
       "    .dataframe tbody tr th:only-of-type {\n",
       "        vertical-align: middle;\n",
       "    }\n",
       "\n",
       "    .dataframe tbody tr th {\n",
       "        vertical-align: top;\n",
       "    }\n",
       "\n",
       "    .dataframe thead th {\n",
       "        text-align: right;\n",
       "    }\n",
       "</style>\n",
       "<table border=\"1\" class=\"dataframe\">\n",
       "  <thead>\n",
       "    <tr style=\"text-align: right;\">\n",
       "      <th></th>\n",
       "      <th>Date Announced</th>\n",
       "      <th>Patient Number</th>\n",
       "    </tr>\n",
       "  </thead>\n",
       "  <tbody>\n",
       "    <tr>\n",
       "      <td>0</td>\n",
       "      <td>2020-01-30</td>\n",
       "      <td>1</td>\n",
       "    </tr>\n",
       "    <tr>\n",
       "      <td>1</td>\n",
       "      <td>2020-02-02</td>\n",
       "      <td>2</td>\n",
       "    </tr>\n",
       "    <tr>\n",
       "      <td>2</td>\n",
       "      <td>2020-02-03</td>\n",
       "      <td>2</td>\n",
       "    </tr>\n",
       "    <tr>\n",
       "      <td>3</td>\n",
       "      <td>2020-03-03</td>\n",
       "      <td>1</td>\n",
       "    </tr>\n",
       "    <tr>\n",
       "      <td>4</td>\n",
       "      <td>2020-03-04</td>\n",
       "      <td>22</td>\n",
       "    </tr>\n",
       "    <tr>\n",
       "      <td>5</td>\n",
       "      <td>2020-03-05</td>\n",
       "      <td>2</td>\n",
       "    </tr>\n",
       "    <tr>\n",
       "      <td>6</td>\n",
       "      <td>2020-03-07</td>\n",
       "      <td>4</td>\n",
       "    </tr>\n",
       "    <tr>\n",
       "      <td>7</td>\n",
       "      <td>2020-03-08</td>\n",
       "      <td>5</td>\n",
       "    </tr>\n",
       "    <tr>\n",
       "      <td>8</td>\n",
       "      <td>2020-03-09</td>\n",
       "      <td>9</td>\n",
       "    </tr>\n",
       "    <tr>\n",
       "      <td>9</td>\n",
       "      <td>2020-03-10</td>\n",
       "      <td>15</td>\n",
       "    </tr>\n",
       "    <tr>\n",
       "      <td>10</td>\n",
       "      <td>2020-03-11</td>\n",
       "      <td>7</td>\n",
       "    </tr>\n",
       "    <tr>\n",
       "      <td>11</td>\n",
       "      <td>2020-03-12</td>\n",
       "      <td>12</td>\n",
       "    </tr>\n",
       "    <tr>\n",
       "      <td>12</td>\n",
       "      <td>2020-03-13</td>\n",
       "      <td>9</td>\n",
       "    </tr>\n",
       "    <tr>\n",
       "      <td>13</td>\n",
       "      <td>2020-03-14</td>\n",
       "      <td>11</td>\n",
       "    </tr>\n",
       "    <tr>\n",
       "      <td>14</td>\n",
       "      <td>2020-03-15</td>\n",
       "      <td>10</td>\n",
       "    </tr>\n",
       "    <tr>\n",
       "      <td>15</td>\n",
       "      <td>2020-03-16</td>\n",
       "      <td>14</td>\n",
       "    </tr>\n",
       "    <tr>\n",
       "      <td>16</td>\n",
       "      <td>2020-03-17</td>\n",
       "      <td>20</td>\n",
       "    </tr>\n",
       "    <tr>\n",
       "      <td>17</td>\n",
       "      <td>2020-03-18</td>\n",
       "      <td>25</td>\n",
       "    </tr>\n",
       "    <tr>\n",
       "      <td>18</td>\n",
       "      <td>2020-03-19</td>\n",
       "      <td>27</td>\n",
       "    </tr>\n",
       "    <tr>\n",
       "      <td>19</td>\n",
       "      <td>2020-03-20</td>\n",
       "      <td>58</td>\n",
       "    </tr>\n",
       "    <tr>\n",
       "      <td>20</td>\n",
       "      <td>2020-03-21</td>\n",
       "      <td>78</td>\n",
       "    </tr>\n",
       "    <tr>\n",
       "      <td>21</td>\n",
       "      <td>2020-03-22</td>\n",
       "      <td>69</td>\n",
       "    </tr>\n",
       "    <tr>\n",
       "      <td>22</td>\n",
       "      <td>2020-03-23</td>\n",
       "      <td>94</td>\n",
       "    </tr>\n",
       "    <tr>\n",
       "      <td>23</td>\n",
       "      <td>2020-03-24</td>\n",
       "      <td>74</td>\n",
       "    </tr>\n",
       "    <tr>\n",
       "      <td>24</td>\n",
       "      <td>2020-03-25</td>\n",
       "      <td>86</td>\n",
       "    </tr>\n",
       "    <tr>\n",
       "      <td>25</td>\n",
       "      <td>2020-03-26</td>\n",
       "      <td>73</td>\n",
       "    </tr>\n",
       "    <tr>\n",
       "      <td>26</td>\n",
       "      <td>2020-03-27</td>\n",
       "      <td>153</td>\n",
       "    </tr>\n",
       "    <tr>\n",
       "      <td>27</td>\n",
       "      <td>2020-03-28</td>\n",
       "      <td>136</td>\n",
       "    </tr>\n",
       "    <tr>\n",
       "      <td>28</td>\n",
       "      <td>2020-03-29</td>\n",
       "      <td>120</td>\n",
       "    </tr>\n",
       "    <tr>\n",
       "      <td>29</td>\n",
       "      <td>2020-03-30</td>\n",
       "      <td>187</td>\n",
       "    </tr>\n",
       "    <tr>\n",
       "      <td>30</td>\n",
       "      <td>2020-03-31</td>\n",
       "      <td>309</td>\n",
       "    </tr>\n",
       "    <tr>\n",
       "      <td>31</td>\n",
       "      <td>2020-04-01</td>\n",
       "      <td>425</td>\n",
       "    </tr>\n",
       "    <tr>\n",
       "      <td>32</td>\n",
       "      <td>2020-04-02</td>\n",
       "      <td>485</td>\n",
       "    </tr>\n",
       "    <tr>\n",
       "      <td>33</td>\n",
       "      <td>2020-04-03</td>\n",
       "      <td>563</td>\n",
       "    </tr>\n",
       "    <tr>\n",
       "      <td>34</td>\n",
       "      <td>2020-04-04</td>\n",
       "      <td>567</td>\n",
       "    </tr>\n",
       "    <tr>\n",
       "      <td>35</td>\n",
       "      <td>2020-04-05</td>\n",
       "      <td>614</td>\n",
       "    </tr>\n",
       "    <tr>\n",
       "      <td>36</td>\n",
       "      <td>2020-04-06</td>\n",
       "      <td>489</td>\n",
       "    </tr>\n",
       "    <tr>\n",
       "      <td>37</td>\n",
       "      <td>2020-04-07</td>\n",
       "      <td>573</td>\n",
       "    </tr>\n",
       "    <tr>\n",
       "      <td>38</td>\n",
       "      <td>2020-04-08</td>\n",
       "      <td>565</td>\n",
       "    </tr>\n",
       "    <tr>\n",
       "      <td>39</td>\n",
       "      <td>2020-04-09</td>\n",
       "      <td>813</td>\n",
       "    </tr>\n",
       "    <tr>\n",
       "      <td>40</td>\n",
       "      <td>2020-04-10</td>\n",
       "      <td>871</td>\n",
       "    </tr>\n",
       "    <tr>\n",
       "      <td>41</td>\n",
       "      <td>2020-04-11</td>\n",
       "      <td>854</td>\n",
       "    </tr>\n",
       "    <tr>\n",
       "      <td>42</td>\n",
       "      <td>2020-04-12</td>\n",
       "      <td>758</td>\n",
       "    </tr>\n",
       "    <tr>\n",
       "      <td>43</td>\n",
       "      <td>2020-04-13</td>\n",
       "      <td>1243</td>\n",
       "    </tr>\n",
       "    <tr>\n",
       "      <td>44</td>\n",
       "      <td>2020-04-14</td>\n",
       "      <td>1031</td>\n",
       "    </tr>\n",
       "    <tr>\n",
       "      <td>45</td>\n",
       "      <td>2020-04-15</td>\n",
       "      <td>886</td>\n",
       "    </tr>\n",
       "    <tr>\n",
       "      <td>46</td>\n",
       "      <td>2020-04-16</td>\n",
       "      <td>1061</td>\n",
       "    </tr>\n",
       "    <tr>\n",
       "      <td>47</td>\n",
       "      <td>2020-04-17</td>\n",
       "      <td>922</td>\n",
       "    </tr>\n",
       "    <tr>\n",
       "      <td>48</td>\n",
       "      <td>2020-04-18</td>\n",
       "      <td>1371</td>\n",
       "    </tr>\n",
       "    <tr>\n",
       "      <td>49</td>\n",
       "      <td>2020-04-19</td>\n",
       "      <td>1581</td>\n",
       "    </tr>\n",
       "    <tr>\n",
       "      <td>50</td>\n",
       "      <td>2020-04-20</td>\n",
       "      <td>738</td>\n",
       "    </tr>\n",
       "  </tbody>\n",
       "</table>\n",
       "</div>"
      ],
      "text/plain": [
       "   Date Announced  Patient Number\n",
       "0      2020-01-30               1\n",
       "1      2020-02-02               2\n",
       "2      2020-02-03               2\n",
       "3      2020-03-03               1\n",
       "4      2020-03-04              22\n",
       "5      2020-03-05               2\n",
       "6      2020-03-07               4\n",
       "7      2020-03-08               5\n",
       "8      2020-03-09               9\n",
       "9      2020-03-10              15\n",
       "10     2020-03-11               7\n",
       "11     2020-03-12              12\n",
       "12     2020-03-13               9\n",
       "13     2020-03-14              11\n",
       "14     2020-03-15              10\n",
       "15     2020-03-16              14\n",
       "16     2020-03-17              20\n",
       "17     2020-03-18              25\n",
       "18     2020-03-19              27\n",
       "19     2020-03-20              58\n",
       "20     2020-03-21              78\n",
       "21     2020-03-22              69\n",
       "22     2020-03-23              94\n",
       "23     2020-03-24              74\n",
       "24     2020-03-25              86\n",
       "25     2020-03-26              73\n",
       "26     2020-03-27             153\n",
       "27     2020-03-28             136\n",
       "28     2020-03-29             120\n",
       "29     2020-03-30             187\n",
       "30     2020-03-31             309\n",
       "31     2020-04-01             425\n",
       "32     2020-04-02             485\n",
       "33     2020-04-03             563\n",
       "34     2020-04-04             567\n",
       "35     2020-04-05             614\n",
       "36     2020-04-06             489\n",
       "37     2020-04-07             573\n",
       "38     2020-04-08             565\n",
       "39     2020-04-09             813\n",
       "40     2020-04-10             871\n",
       "41     2020-04-11             854\n",
       "42     2020-04-12             758\n",
       "43     2020-04-13            1243\n",
       "44     2020-04-14            1031\n",
       "45     2020-04-15             886\n",
       "46     2020-04-16            1061\n",
       "47     2020-04-17             922\n",
       "48     2020-04-18            1371\n",
       "49     2020-04-19            1581\n",
       "50     2020-04-20             738"
      ]
     },
     "execution_count": 47,
     "metadata": {},
     "output_type": "execute_result"
    }
   ],
   "source": [
    "df1"
   ]
  },
  {
   "cell_type": "code",
   "execution_count": 53,
   "metadata": {},
   "outputs": [
    {
     "data": {
      "text/plain": [
       "Index(['Unnamed: 0', 'Patient Number', 'State Patient Number',\n",
       "       'Date Announced', 'Age Bracket', 'Gender', 'Detected City',\n",
       "       'Detected District', 'Detected State', 'State code', 'Current Status',\n",
       "       'Notes', 'Contracted from which Patient (Suspected)', 'Nationality',\n",
       "       'Type of transmission', 'Status Change Date', 'Source_1', 'Source_2',\n",
       "       'Source_3', 'Backup Notes'],\n",
       "      dtype='object')"
      ]
     },
     "execution_count": 53,
     "metadata": {},
     "output_type": "execute_result"
    }
   ],
   "source": [
    "df.columns"
   ]
  },
  {
   "cell_type": "code",
   "execution_count": 98,
   "metadata": {},
   "outputs": [],
   "source": [
    "df2=df.groupby(['Date Announced','Detected State'])['Patient Number'].count()"
   ]
  },
  {
   "cell_type": "code",
   "execution_count": 99,
   "metadata": {},
   "outputs": [],
   "source": [
    "df2=df2.reset_index()"
   ]
  },
  {
   "cell_type": "code",
   "execution_count": 100,
   "metadata": {},
   "outputs": [
    {
     "data": {
      "text/html": [
       "<div>\n",
       "<style scoped>\n",
       "    .dataframe tbody tr th:only-of-type {\n",
       "        vertical-align: middle;\n",
       "    }\n",
       "\n",
       "    .dataframe tbody tr th {\n",
       "        vertical-align: top;\n",
       "    }\n",
       "\n",
       "    .dataframe thead th {\n",
       "        text-align: right;\n",
       "    }\n",
       "</style>\n",
       "<table border=\"1\" class=\"dataframe\">\n",
       "  <thead>\n",
       "    <tr style=\"text-align: right;\">\n",
       "      <th></th>\n",
       "      <th>Date Announced</th>\n",
       "      <th>Detected State</th>\n",
       "      <th>Patient Number</th>\n",
       "    </tr>\n",
       "  </thead>\n",
       "  <tbody>\n",
       "    <tr>\n",
       "      <td>0</td>\n",
       "      <td>2020-01-30</td>\n",
       "      <td>Kerala</td>\n",
       "      <td>1</td>\n",
       "    </tr>\n",
       "    <tr>\n",
       "      <td>1</td>\n",
       "      <td>2020-02-02</td>\n",
       "      <td>Kerala</td>\n",
       "      <td>2</td>\n",
       "    </tr>\n",
       "    <tr>\n",
       "      <td>2</td>\n",
       "      <td>2020-02-03</td>\n",
       "      <td>Delhi</td>\n",
       "      <td>1</td>\n",
       "    </tr>\n",
       "    <tr>\n",
       "      <td>3</td>\n",
       "      <td>2020-02-03</td>\n",
       "      <td>Telangana</td>\n",
       "      <td>1</td>\n",
       "    </tr>\n",
       "    <tr>\n",
       "      <td>4</td>\n",
       "      <td>2020-03-03</td>\n",
       "      <td>Rajasthan</td>\n",
       "      <td>1</td>\n",
       "    </tr>\n",
       "    <tr>\n",
       "      <td>...</td>\n",
       "      <td>...</td>\n",
       "      <td>...</td>\n",
       "      <td>...</td>\n",
       "    </tr>\n",
       "    <tr>\n",
       "      <td>721</td>\n",
       "      <td>2020-04-20</td>\n",
       "      <td>Tiruppur</td>\n",
       "      <td>1</td>\n",
       "    </tr>\n",
       "    <tr>\n",
       "      <td>722</td>\n",
       "      <td>2020-04-20</td>\n",
       "      <td>Vadodara</td>\n",
       "      <td>1</td>\n",
       "    </tr>\n",
       "    <tr>\n",
       "      <td>723</td>\n",
       "      <td>2020-04-20</td>\n",
       "      <td>Vijayapura</td>\n",
       "      <td>11</td>\n",
       "    </tr>\n",
       "    <tr>\n",
       "      <td>724</td>\n",
       "      <td>2020-04-20</td>\n",
       "      <td>Viluppuram</td>\n",
       "      <td>3</td>\n",
       "    </tr>\n",
       "    <tr>\n",
       "      <td>725</td>\n",
       "      <td>2020-04-20</td>\n",
       "      <td>Y.S.R.</td>\n",
       "      <td>3</td>\n",
       "    </tr>\n",
       "  </tbody>\n",
       "</table>\n",
       "<p>726 rows × 3 columns</p>\n",
       "</div>"
      ],
      "text/plain": [
       "    Date Announced Detected State  Patient Number\n",
       "0       2020-01-30         Kerala               1\n",
       "1       2020-02-02         Kerala               2\n",
       "2       2020-02-03          Delhi               1\n",
       "3       2020-02-03      Telangana               1\n",
       "4       2020-03-03      Rajasthan               1\n",
       "..             ...            ...             ...\n",
       "721     2020-04-20       Tiruppur               1\n",
       "722     2020-04-20       Vadodara               1\n",
       "723     2020-04-20     Vijayapura              11\n",
       "724     2020-04-20     Viluppuram               3\n",
       "725     2020-04-20         Y.S.R.               3\n",
       "\n",
       "[726 rows x 3 columns]"
      ]
     },
     "execution_count": 100,
     "metadata": {},
     "output_type": "execute_result"
    }
   ],
   "source": [
    "df2"
   ]
  },
  {
   "cell_type": "code",
   "execution_count": 79,
   "metadata": {},
   "outputs": [],
   "source": [
    "data2=go.Scatter(\n",
    "    x=df1['Date Announced'],\n",
    "    y=df1['Patient Number'],\n",
    "    text=df1['Patient Number'],\n",
    "    mode=\"lines+markers\"\n",
    ")\n"
   ]
  },
  {
   "cell_type": "code",
   "execution_count": 91,
   "metadata": {},
   "outputs": [],
   "source": [
    "data1=go.Scatter(\n",
    "    x=df2['Detected State'],\n",
    "    y=df2['Patient Number'],\n",
    "    text=df2['Detected State'],\n",
    "    mode=\"lines+markers\"\n",
    ")\n"
   ]
  },
  {
   "cell_type": "code",
   "execution_count": 92,
   "metadata": {},
   "outputs": [],
   "source": [
    "layout=dict(\n",
    "    xaxis={\n",
    "        'title': \"Date\"\n",
    "\n",
    "    },\n",
    "    yaxis={\n",
    "        'title': \"Number of cases\"\n",
    "\n",
    "    }\n",
    ")\n"
   ]
  },
  {
   "cell_type": "code",
   "execution_count": 81,
   "metadata": {},
   "outputs": [],
   "source": [
    "data=[data2]"
   ]
  },
  {
   "cell_type": "code",
   "execution_count": 82,
   "metadata": {},
   "outputs": [
    {
     "data": {
      "application/vnd.plotly.v1+json": {
       "config": {
        "plotlyServerURL": "https://plot.ly"
       },
       "data": [
        {
         "mode": "lines+markers",
         "text": [
          1,
          2,
          2,
          1,
          22,
          2,
          4,
          5,
          9,
          15,
          7,
          12,
          9,
          11,
          10,
          14,
          20,
          25,
          27,
          58,
          78,
          69,
          94,
          74,
          86,
          73,
          153,
          136,
          120,
          187,
          309,
          425,
          485,
          563,
          567,
          614,
          489,
          573,
          565,
          813,
          871,
          854,
          758,
          1243,
          1031,
          886,
          1061,
          922,
          1371,
          1581,
          738
         ],
         "type": "scatter",
         "x": [
          "2020-01-30T00:00:00",
          "2020-02-02T00:00:00",
          "2020-02-03T00:00:00",
          "2020-03-03T00:00:00",
          "2020-03-04T00:00:00",
          "2020-03-05T00:00:00",
          "2020-03-07T00:00:00",
          "2020-03-08T00:00:00",
          "2020-03-09T00:00:00",
          "2020-03-10T00:00:00",
          "2020-03-11T00:00:00",
          "2020-03-12T00:00:00",
          "2020-03-13T00:00:00",
          "2020-03-14T00:00:00",
          "2020-03-15T00:00:00",
          "2020-03-16T00:00:00",
          "2020-03-17T00:00:00",
          "2020-03-18T00:00:00",
          "2020-03-19T00:00:00",
          "2020-03-20T00:00:00",
          "2020-03-21T00:00:00",
          "2020-03-22T00:00:00",
          "2020-03-23T00:00:00",
          "2020-03-24T00:00:00",
          "2020-03-25T00:00:00",
          "2020-03-26T00:00:00",
          "2020-03-27T00:00:00",
          "2020-03-28T00:00:00",
          "2020-03-29T00:00:00",
          "2020-03-30T00:00:00",
          "2020-03-31T00:00:00",
          "2020-04-01T00:00:00",
          "2020-04-02T00:00:00",
          "2020-04-03T00:00:00",
          "2020-04-04T00:00:00",
          "2020-04-05T00:00:00",
          "2020-04-06T00:00:00",
          "2020-04-07T00:00:00",
          "2020-04-08T00:00:00",
          "2020-04-09T00:00:00",
          "2020-04-10T00:00:00",
          "2020-04-11T00:00:00",
          "2020-04-12T00:00:00",
          "2020-04-13T00:00:00",
          "2020-04-14T00:00:00",
          "2020-04-15T00:00:00",
          "2020-04-16T00:00:00",
          "2020-04-17T00:00:00",
          "2020-04-18T00:00:00",
          "2020-04-19T00:00:00",
          "2020-04-20T00:00:00"
         ],
         "y": [
          1,
          2,
          2,
          1,
          22,
          2,
          4,
          5,
          9,
          15,
          7,
          12,
          9,
          11,
          10,
          14,
          20,
          25,
          27,
          58,
          78,
          69,
          94,
          74,
          86,
          73,
          153,
          136,
          120,
          187,
          309,
          425,
          485,
          563,
          567,
          614,
          489,
          573,
          565,
          813,
          871,
          854,
          758,
          1243,
          1031,
          886,
          1061,
          922,
          1371,
          1581,
          738
         ]
        }
       ],
       "layout": {
        "template": {
         "data": {
          "bar": [
           {
            "error_x": {
             "color": "#2a3f5f"
            },
            "error_y": {
             "color": "#2a3f5f"
            },
            "marker": {
             "line": {
              "color": "#E5ECF6",
              "width": 0.5
             }
            },
            "type": "bar"
           }
          ],
          "barpolar": [
           {
            "marker": {
             "line": {
              "color": "#E5ECF6",
              "width": 0.5
             }
            },
            "type": "barpolar"
           }
          ],
          "carpet": [
           {
            "aaxis": {
             "endlinecolor": "#2a3f5f",
             "gridcolor": "white",
             "linecolor": "white",
             "minorgridcolor": "white",
             "startlinecolor": "#2a3f5f"
            },
            "baxis": {
             "endlinecolor": "#2a3f5f",
             "gridcolor": "white",
             "linecolor": "white",
             "minorgridcolor": "white",
             "startlinecolor": "#2a3f5f"
            },
            "type": "carpet"
           }
          ],
          "choropleth": [
           {
            "colorbar": {
             "outlinewidth": 0,
             "ticks": ""
            },
            "type": "choropleth"
           }
          ],
          "contour": [
           {
            "colorbar": {
             "outlinewidth": 0,
             "ticks": ""
            },
            "colorscale": [
             [
              0,
              "#0d0887"
             ],
             [
              0.1111111111111111,
              "#46039f"
             ],
             [
              0.2222222222222222,
              "#7201a8"
             ],
             [
              0.3333333333333333,
              "#9c179e"
             ],
             [
              0.4444444444444444,
              "#bd3786"
             ],
             [
              0.5555555555555556,
              "#d8576b"
             ],
             [
              0.6666666666666666,
              "#ed7953"
             ],
             [
              0.7777777777777778,
              "#fb9f3a"
             ],
             [
              0.8888888888888888,
              "#fdca26"
             ],
             [
              1,
              "#f0f921"
             ]
            ],
            "type": "contour"
           }
          ],
          "contourcarpet": [
           {
            "colorbar": {
             "outlinewidth": 0,
             "ticks": ""
            },
            "type": "contourcarpet"
           }
          ],
          "heatmap": [
           {
            "colorbar": {
             "outlinewidth": 0,
             "ticks": ""
            },
            "colorscale": [
             [
              0,
              "#0d0887"
             ],
             [
              0.1111111111111111,
              "#46039f"
             ],
             [
              0.2222222222222222,
              "#7201a8"
             ],
             [
              0.3333333333333333,
              "#9c179e"
             ],
             [
              0.4444444444444444,
              "#bd3786"
             ],
             [
              0.5555555555555556,
              "#d8576b"
             ],
             [
              0.6666666666666666,
              "#ed7953"
             ],
             [
              0.7777777777777778,
              "#fb9f3a"
             ],
             [
              0.8888888888888888,
              "#fdca26"
             ],
             [
              1,
              "#f0f921"
             ]
            ],
            "type": "heatmap"
           }
          ],
          "heatmapgl": [
           {
            "colorbar": {
             "outlinewidth": 0,
             "ticks": ""
            },
            "colorscale": [
             [
              0,
              "#0d0887"
             ],
             [
              0.1111111111111111,
              "#46039f"
             ],
             [
              0.2222222222222222,
              "#7201a8"
             ],
             [
              0.3333333333333333,
              "#9c179e"
             ],
             [
              0.4444444444444444,
              "#bd3786"
             ],
             [
              0.5555555555555556,
              "#d8576b"
             ],
             [
              0.6666666666666666,
              "#ed7953"
             ],
             [
              0.7777777777777778,
              "#fb9f3a"
             ],
             [
              0.8888888888888888,
              "#fdca26"
             ],
             [
              1,
              "#f0f921"
             ]
            ],
            "type": "heatmapgl"
           }
          ],
          "histogram": [
           {
            "marker": {
             "colorbar": {
              "outlinewidth": 0,
              "ticks": ""
             }
            },
            "type": "histogram"
           }
          ],
          "histogram2d": [
           {
            "colorbar": {
             "outlinewidth": 0,
             "ticks": ""
            },
            "colorscale": [
             [
              0,
              "#0d0887"
             ],
             [
              0.1111111111111111,
              "#46039f"
             ],
             [
              0.2222222222222222,
              "#7201a8"
             ],
             [
              0.3333333333333333,
              "#9c179e"
             ],
             [
              0.4444444444444444,
              "#bd3786"
             ],
             [
              0.5555555555555556,
              "#d8576b"
             ],
             [
              0.6666666666666666,
              "#ed7953"
             ],
             [
              0.7777777777777778,
              "#fb9f3a"
             ],
             [
              0.8888888888888888,
              "#fdca26"
             ],
             [
              1,
              "#f0f921"
             ]
            ],
            "type": "histogram2d"
           }
          ],
          "histogram2dcontour": [
           {
            "colorbar": {
             "outlinewidth": 0,
             "ticks": ""
            },
            "colorscale": [
             [
              0,
              "#0d0887"
             ],
             [
              0.1111111111111111,
              "#46039f"
             ],
             [
              0.2222222222222222,
              "#7201a8"
             ],
             [
              0.3333333333333333,
              "#9c179e"
             ],
             [
              0.4444444444444444,
              "#bd3786"
             ],
             [
              0.5555555555555556,
              "#d8576b"
             ],
             [
              0.6666666666666666,
              "#ed7953"
             ],
             [
              0.7777777777777778,
              "#fb9f3a"
             ],
             [
              0.8888888888888888,
              "#fdca26"
             ],
             [
              1,
              "#f0f921"
             ]
            ],
            "type": "histogram2dcontour"
           }
          ],
          "mesh3d": [
           {
            "colorbar": {
             "outlinewidth": 0,
             "ticks": ""
            },
            "type": "mesh3d"
           }
          ],
          "parcoords": [
           {
            "line": {
             "colorbar": {
              "outlinewidth": 0,
              "ticks": ""
             }
            },
            "type": "parcoords"
           }
          ],
          "scatter": [
           {
            "marker": {
             "colorbar": {
              "outlinewidth": 0,
              "ticks": ""
             }
            },
            "type": "scatter"
           }
          ],
          "scatter3d": [
           {
            "line": {
             "colorbar": {
              "outlinewidth": 0,
              "ticks": ""
             }
            },
            "marker": {
             "colorbar": {
              "outlinewidth": 0,
              "ticks": ""
             }
            },
            "type": "scatter3d"
           }
          ],
          "scattercarpet": [
           {
            "marker": {
             "colorbar": {
              "outlinewidth": 0,
              "ticks": ""
             }
            },
            "type": "scattercarpet"
           }
          ],
          "scattergeo": [
           {
            "marker": {
             "colorbar": {
              "outlinewidth": 0,
              "ticks": ""
             }
            },
            "type": "scattergeo"
           }
          ],
          "scattergl": [
           {
            "marker": {
             "colorbar": {
              "outlinewidth": 0,
              "ticks": ""
             }
            },
            "type": "scattergl"
           }
          ],
          "scattermapbox": [
           {
            "marker": {
             "colorbar": {
              "outlinewidth": 0,
              "ticks": ""
             }
            },
            "type": "scattermapbox"
           }
          ],
          "scatterpolar": [
           {
            "marker": {
             "colorbar": {
              "outlinewidth": 0,
              "ticks": ""
             }
            },
            "type": "scatterpolar"
           }
          ],
          "scatterpolargl": [
           {
            "marker": {
             "colorbar": {
              "outlinewidth": 0,
              "ticks": ""
             }
            },
            "type": "scatterpolargl"
           }
          ],
          "scatterternary": [
           {
            "marker": {
             "colorbar": {
              "outlinewidth": 0,
              "ticks": ""
             }
            },
            "type": "scatterternary"
           }
          ],
          "surface": [
           {
            "colorbar": {
             "outlinewidth": 0,
             "ticks": ""
            },
            "colorscale": [
             [
              0,
              "#0d0887"
             ],
             [
              0.1111111111111111,
              "#46039f"
             ],
             [
              0.2222222222222222,
              "#7201a8"
             ],
             [
              0.3333333333333333,
              "#9c179e"
             ],
             [
              0.4444444444444444,
              "#bd3786"
             ],
             [
              0.5555555555555556,
              "#d8576b"
             ],
             [
              0.6666666666666666,
              "#ed7953"
             ],
             [
              0.7777777777777778,
              "#fb9f3a"
             ],
             [
              0.8888888888888888,
              "#fdca26"
             ],
             [
              1,
              "#f0f921"
             ]
            ],
            "type": "surface"
           }
          ],
          "table": [
           {
            "cells": {
             "fill": {
              "color": "#EBF0F8"
             },
             "line": {
              "color": "white"
             }
            },
            "header": {
             "fill": {
              "color": "#C8D4E3"
             },
             "line": {
              "color": "white"
             }
            },
            "type": "table"
           }
          ]
         },
         "layout": {
          "annotationdefaults": {
           "arrowcolor": "#2a3f5f",
           "arrowhead": 0,
           "arrowwidth": 1
          },
          "colorscale": {
           "diverging": [
            [
             0,
             "#8e0152"
            ],
            [
             0.1,
             "#c51b7d"
            ],
            [
             0.2,
             "#de77ae"
            ],
            [
             0.3,
             "#f1b6da"
            ],
            [
             0.4,
             "#fde0ef"
            ],
            [
             0.5,
             "#f7f7f7"
            ],
            [
             0.6,
             "#e6f5d0"
            ],
            [
             0.7,
             "#b8e186"
            ],
            [
             0.8,
             "#7fbc41"
            ],
            [
             0.9,
             "#4d9221"
            ],
            [
             1,
             "#276419"
            ]
           ],
           "sequential": [
            [
             0,
             "#0d0887"
            ],
            [
             0.1111111111111111,
             "#46039f"
            ],
            [
             0.2222222222222222,
             "#7201a8"
            ],
            [
             0.3333333333333333,
             "#9c179e"
            ],
            [
             0.4444444444444444,
             "#bd3786"
            ],
            [
             0.5555555555555556,
             "#d8576b"
            ],
            [
             0.6666666666666666,
             "#ed7953"
            ],
            [
             0.7777777777777778,
             "#fb9f3a"
            ],
            [
             0.8888888888888888,
             "#fdca26"
            ],
            [
             1,
             "#f0f921"
            ]
           ],
           "sequentialminus": [
            [
             0,
             "#0d0887"
            ],
            [
             0.1111111111111111,
             "#46039f"
            ],
            [
             0.2222222222222222,
             "#7201a8"
            ],
            [
             0.3333333333333333,
             "#9c179e"
            ],
            [
             0.4444444444444444,
             "#bd3786"
            ],
            [
             0.5555555555555556,
             "#d8576b"
            ],
            [
             0.6666666666666666,
             "#ed7953"
            ],
            [
             0.7777777777777778,
             "#fb9f3a"
            ],
            [
             0.8888888888888888,
             "#fdca26"
            ],
            [
             1,
             "#f0f921"
            ]
           ]
          },
          "colorway": [
           "#636efa",
           "#EF553B",
           "#00cc96",
           "#ab63fa",
           "#FFA15A",
           "#19d3f3",
           "#FF6692",
           "#B6E880",
           "#FF97FF",
           "#FECB52"
          ],
          "font": {
           "color": "#2a3f5f"
          },
          "geo": {
           "bgcolor": "white",
           "lakecolor": "white",
           "landcolor": "#E5ECF6",
           "showlakes": true,
           "showland": true,
           "subunitcolor": "white"
          },
          "hoverlabel": {
           "align": "left"
          },
          "hovermode": "closest",
          "mapbox": {
           "style": "light"
          },
          "paper_bgcolor": "white",
          "plot_bgcolor": "#E5ECF6",
          "polar": {
           "angularaxis": {
            "gridcolor": "white",
            "linecolor": "white",
            "ticks": ""
           },
           "bgcolor": "#E5ECF6",
           "radialaxis": {
            "gridcolor": "white",
            "linecolor": "white",
            "ticks": ""
           }
          },
          "scene": {
           "xaxis": {
            "backgroundcolor": "#E5ECF6",
            "gridcolor": "white",
            "gridwidth": 2,
            "linecolor": "white",
            "showbackground": true,
            "ticks": "",
            "zerolinecolor": "white"
           },
           "yaxis": {
            "backgroundcolor": "#E5ECF6",
            "gridcolor": "white",
            "gridwidth": 2,
            "linecolor": "white",
            "showbackground": true,
            "ticks": "",
            "zerolinecolor": "white"
           },
           "zaxis": {
            "backgroundcolor": "#E5ECF6",
            "gridcolor": "white",
            "gridwidth": 2,
            "linecolor": "white",
            "showbackground": true,
            "ticks": "",
            "zerolinecolor": "white"
           }
          },
          "shapedefaults": {
           "line": {
            "color": "#2a3f5f"
           }
          },
          "ternary": {
           "aaxis": {
            "gridcolor": "white",
            "linecolor": "white",
            "ticks": ""
           },
           "baxis": {
            "gridcolor": "white",
            "linecolor": "white",
            "ticks": ""
           },
           "bgcolor": "#E5ECF6",
           "caxis": {
            "gridcolor": "white",
            "linecolor": "white",
            "ticks": ""
           }
          },
          "title": {
           "x": 0.05
          },
          "xaxis": {
           "automargin": true,
           "gridcolor": "white",
           "linecolor": "white",
           "ticks": "",
           "zerolinecolor": "white",
           "zerolinewidth": 2
          },
          "yaxis": {
           "automargin": true,
           "gridcolor": "white",
           "linecolor": "white",
           "ticks": "",
           "zerolinecolor": "white",
           "zerolinewidth": 2
          }
         }
        },
        "xaxis": {
         "title": {
          "text": "Date"
         }
        },
        "yaxis": {
         "title": {
          "text": "Number of cases"
         }
        }
       }
      },
      "text/html": [
       "<div>\n",
       "        \n",
       "        \n",
       "            <div id=\"6fab75e4-f802-497d-8cb4-0f79071ccd01\" class=\"plotly-graph-div\" style=\"height:525px; width:100%;\"></div>\n",
       "            <script type=\"text/javascript\">\n",
       "                require([\"plotly\"], function(Plotly) {\n",
       "                    window.PLOTLYENV=window.PLOTLYENV || {};\n",
       "                    \n",
       "                if (document.getElementById(\"6fab75e4-f802-497d-8cb4-0f79071ccd01\")) {\n",
       "                    Plotly.newPlot(\n",
       "                        '6fab75e4-f802-497d-8cb4-0f79071ccd01',\n",
       "                        [{\"mode\": \"lines+markers\", \"text\": [1.0, 2.0, 2.0, 1.0, 22.0, 2.0, 4.0, 5.0, 9.0, 15.0, 7.0, 12.0, 9.0, 11.0, 10.0, 14.0, 20.0, 25.0, 27.0, 58.0, 78.0, 69.0, 94.0, 74.0, 86.0, 73.0, 153.0, 136.0, 120.0, 187.0, 309.0, 425.0, 485.0, 563.0, 567.0, 614.0, 489.0, 573.0, 565.0, 813.0, 871.0, 854.0, 758.0, 1243.0, 1031.0, 886.0, 1061.0, 922.0, 1371.0, 1581.0, 738.0], \"type\": \"scatter\", \"x\": [\"2020-01-30T00:00:00\", \"2020-02-02T00:00:00\", \"2020-02-03T00:00:00\", \"2020-03-03T00:00:00\", \"2020-03-04T00:00:00\", \"2020-03-05T00:00:00\", \"2020-03-07T00:00:00\", \"2020-03-08T00:00:00\", \"2020-03-09T00:00:00\", \"2020-03-10T00:00:00\", \"2020-03-11T00:00:00\", \"2020-03-12T00:00:00\", \"2020-03-13T00:00:00\", \"2020-03-14T00:00:00\", \"2020-03-15T00:00:00\", \"2020-03-16T00:00:00\", \"2020-03-17T00:00:00\", \"2020-03-18T00:00:00\", \"2020-03-19T00:00:00\", \"2020-03-20T00:00:00\", \"2020-03-21T00:00:00\", \"2020-03-22T00:00:00\", \"2020-03-23T00:00:00\", \"2020-03-24T00:00:00\", \"2020-03-25T00:00:00\", \"2020-03-26T00:00:00\", \"2020-03-27T00:00:00\", \"2020-03-28T00:00:00\", \"2020-03-29T00:00:00\", \"2020-03-30T00:00:00\", \"2020-03-31T00:00:00\", \"2020-04-01T00:00:00\", \"2020-04-02T00:00:00\", \"2020-04-03T00:00:00\", \"2020-04-04T00:00:00\", \"2020-04-05T00:00:00\", \"2020-04-06T00:00:00\", \"2020-04-07T00:00:00\", \"2020-04-08T00:00:00\", \"2020-04-09T00:00:00\", \"2020-04-10T00:00:00\", \"2020-04-11T00:00:00\", \"2020-04-12T00:00:00\", \"2020-04-13T00:00:00\", \"2020-04-14T00:00:00\", \"2020-04-15T00:00:00\", \"2020-04-16T00:00:00\", \"2020-04-17T00:00:00\", \"2020-04-18T00:00:00\", \"2020-04-19T00:00:00\", \"2020-04-20T00:00:00\"], \"y\": [1, 2, 2, 1, 22, 2, 4, 5, 9, 15, 7, 12, 9, 11, 10, 14, 20, 25, 27, 58, 78, 69, 94, 74, 86, 73, 153, 136, 120, 187, 309, 425, 485, 563, 567, 614, 489, 573, 565, 813, 871, 854, 758, 1243, 1031, 886, 1061, 922, 1371, 1581, 738]}],\n",
       "                        {\"template\": {\"data\": {\"bar\": [{\"error_x\": {\"color\": \"#2a3f5f\"}, \"error_y\": {\"color\": \"#2a3f5f\"}, \"marker\": {\"line\": {\"color\": \"#E5ECF6\", \"width\": 0.5}}, \"type\": \"bar\"}], \"barpolar\": [{\"marker\": {\"line\": {\"color\": \"#E5ECF6\", \"width\": 0.5}}, \"type\": \"barpolar\"}], \"carpet\": [{\"aaxis\": {\"endlinecolor\": \"#2a3f5f\", \"gridcolor\": \"white\", \"linecolor\": \"white\", \"minorgridcolor\": \"white\", \"startlinecolor\": \"#2a3f5f\"}, \"baxis\": {\"endlinecolor\": \"#2a3f5f\", \"gridcolor\": \"white\", \"linecolor\": \"white\", \"minorgridcolor\": \"white\", \"startlinecolor\": \"#2a3f5f\"}, \"type\": \"carpet\"}], \"choropleth\": [{\"colorbar\": {\"outlinewidth\": 0, \"ticks\": \"\"}, \"type\": \"choropleth\"}], \"contour\": [{\"colorbar\": {\"outlinewidth\": 0, \"ticks\": \"\"}, \"colorscale\": [[0.0, \"#0d0887\"], [0.1111111111111111, \"#46039f\"], [0.2222222222222222, \"#7201a8\"], [0.3333333333333333, \"#9c179e\"], [0.4444444444444444, \"#bd3786\"], [0.5555555555555556, \"#d8576b\"], [0.6666666666666666, \"#ed7953\"], [0.7777777777777778, \"#fb9f3a\"], [0.8888888888888888, \"#fdca26\"], [1.0, \"#f0f921\"]], \"type\": \"contour\"}], \"contourcarpet\": [{\"colorbar\": {\"outlinewidth\": 0, \"ticks\": \"\"}, \"type\": \"contourcarpet\"}], \"heatmap\": [{\"colorbar\": {\"outlinewidth\": 0, \"ticks\": \"\"}, \"colorscale\": [[0.0, \"#0d0887\"], [0.1111111111111111, \"#46039f\"], [0.2222222222222222, \"#7201a8\"], [0.3333333333333333, \"#9c179e\"], [0.4444444444444444, \"#bd3786\"], [0.5555555555555556, \"#d8576b\"], [0.6666666666666666, \"#ed7953\"], [0.7777777777777778, \"#fb9f3a\"], [0.8888888888888888, \"#fdca26\"], [1.0, \"#f0f921\"]], \"type\": \"heatmap\"}], \"heatmapgl\": [{\"colorbar\": {\"outlinewidth\": 0, \"ticks\": \"\"}, \"colorscale\": [[0.0, \"#0d0887\"], [0.1111111111111111, \"#46039f\"], [0.2222222222222222, \"#7201a8\"], [0.3333333333333333, \"#9c179e\"], [0.4444444444444444, \"#bd3786\"], [0.5555555555555556, \"#d8576b\"], [0.6666666666666666, \"#ed7953\"], [0.7777777777777778, \"#fb9f3a\"], [0.8888888888888888, \"#fdca26\"], [1.0, \"#f0f921\"]], \"type\": \"heatmapgl\"}], \"histogram\": [{\"marker\": {\"colorbar\": {\"outlinewidth\": 0, \"ticks\": \"\"}}, \"type\": \"histogram\"}], \"histogram2d\": [{\"colorbar\": {\"outlinewidth\": 0, \"ticks\": \"\"}, \"colorscale\": [[0.0, \"#0d0887\"], [0.1111111111111111, \"#46039f\"], [0.2222222222222222, \"#7201a8\"], [0.3333333333333333, \"#9c179e\"], [0.4444444444444444, \"#bd3786\"], [0.5555555555555556, \"#d8576b\"], [0.6666666666666666, \"#ed7953\"], [0.7777777777777778, \"#fb9f3a\"], [0.8888888888888888, \"#fdca26\"], [1.0, \"#f0f921\"]], \"type\": \"histogram2d\"}], \"histogram2dcontour\": [{\"colorbar\": {\"outlinewidth\": 0, \"ticks\": \"\"}, \"colorscale\": [[0.0, \"#0d0887\"], [0.1111111111111111, \"#46039f\"], [0.2222222222222222, \"#7201a8\"], [0.3333333333333333, \"#9c179e\"], [0.4444444444444444, \"#bd3786\"], [0.5555555555555556, \"#d8576b\"], [0.6666666666666666, \"#ed7953\"], [0.7777777777777778, \"#fb9f3a\"], [0.8888888888888888, \"#fdca26\"], [1.0, \"#f0f921\"]], \"type\": \"histogram2dcontour\"}], \"mesh3d\": [{\"colorbar\": {\"outlinewidth\": 0, \"ticks\": \"\"}, \"type\": \"mesh3d\"}], \"parcoords\": [{\"line\": {\"colorbar\": {\"outlinewidth\": 0, \"ticks\": \"\"}}, \"type\": \"parcoords\"}], \"scatter\": [{\"marker\": {\"colorbar\": {\"outlinewidth\": 0, \"ticks\": \"\"}}, \"type\": \"scatter\"}], \"scatter3d\": [{\"line\": {\"colorbar\": {\"outlinewidth\": 0, \"ticks\": \"\"}}, \"marker\": {\"colorbar\": {\"outlinewidth\": 0, \"ticks\": \"\"}}, \"type\": \"scatter3d\"}], \"scattercarpet\": [{\"marker\": {\"colorbar\": {\"outlinewidth\": 0, \"ticks\": \"\"}}, \"type\": \"scattercarpet\"}], \"scattergeo\": [{\"marker\": {\"colorbar\": {\"outlinewidth\": 0, \"ticks\": \"\"}}, \"type\": \"scattergeo\"}], \"scattergl\": [{\"marker\": {\"colorbar\": {\"outlinewidth\": 0, \"ticks\": \"\"}}, \"type\": \"scattergl\"}], \"scattermapbox\": [{\"marker\": {\"colorbar\": {\"outlinewidth\": 0, \"ticks\": \"\"}}, \"type\": \"scattermapbox\"}], \"scatterpolar\": [{\"marker\": {\"colorbar\": {\"outlinewidth\": 0, \"ticks\": \"\"}}, \"type\": \"scatterpolar\"}], \"scatterpolargl\": [{\"marker\": {\"colorbar\": {\"outlinewidth\": 0, \"ticks\": \"\"}}, \"type\": \"scatterpolargl\"}], \"scatterternary\": [{\"marker\": {\"colorbar\": {\"outlinewidth\": 0, \"ticks\": \"\"}}, \"type\": \"scatterternary\"}], \"surface\": [{\"colorbar\": {\"outlinewidth\": 0, \"ticks\": \"\"}, \"colorscale\": [[0.0, \"#0d0887\"], [0.1111111111111111, \"#46039f\"], [0.2222222222222222, \"#7201a8\"], [0.3333333333333333, \"#9c179e\"], [0.4444444444444444, \"#bd3786\"], [0.5555555555555556, \"#d8576b\"], [0.6666666666666666, \"#ed7953\"], [0.7777777777777778, \"#fb9f3a\"], [0.8888888888888888, \"#fdca26\"], [1.0, \"#f0f921\"]], \"type\": \"surface\"}], \"table\": [{\"cells\": {\"fill\": {\"color\": \"#EBF0F8\"}, \"line\": {\"color\": \"white\"}}, \"header\": {\"fill\": {\"color\": \"#C8D4E3\"}, \"line\": {\"color\": \"white\"}}, \"type\": \"table\"}]}, \"layout\": {\"annotationdefaults\": {\"arrowcolor\": \"#2a3f5f\", \"arrowhead\": 0, \"arrowwidth\": 1}, \"colorscale\": {\"diverging\": [[0, \"#8e0152\"], [0.1, \"#c51b7d\"], [0.2, \"#de77ae\"], [0.3, \"#f1b6da\"], [0.4, \"#fde0ef\"], [0.5, \"#f7f7f7\"], [0.6, \"#e6f5d0\"], [0.7, \"#b8e186\"], [0.8, \"#7fbc41\"], [0.9, \"#4d9221\"], [1, \"#276419\"]], \"sequential\": [[0.0, \"#0d0887\"], [0.1111111111111111, \"#46039f\"], [0.2222222222222222, \"#7201a8\"], [0.3333333333333333, \"#9c179e\"], [0.4444444444444444, \"#bd3786\"], [0.5555555555555556, \"#d8576b\"], [0.6666666666666666, \"#ed7953\"], [0.7777777777777778, \"#fb9f3a\"], [0.8888888888888888, \"#fdca26\"], [1.0, \"#f0f921\"]], \"sequentialminus\": [[0.0, \"#0d0887\"], [0.1111111111111111, \"#46039f\"], [0.2222222222222222, \"#7201a8\"], [0.3333333333333333, \"#9c179e\"], [0.4444444444444444, \"#bd3786\"], [0.5555555555555556, \"#d8576b\"], [0.6666666666666666, \"#ed7953\"], [0.7777777777777778, \"#fb9f3a\"], [0.8888888888888888, \"#fdca26\"], [1.0, \"#f0f921\"]]}, \"colorway\": [\"#636efa\", \"#EF553B\", \"#00cc96\", \"#ab63fa\", \"#FFA15A\", \"#19d3f3\", \"#FF6692\", \"#B6E880\", \"#FF97FF\", \"#FECB52\"], \"font\": {\"color\": \"#2a3f5f\"}, \"geo\": {\"bgcolor\": \"white\", \"lakecolor\": \"white\", \"landcolor\": \"#E5ECF6\", \"showlakes\": true, \"showland\": true, \"subunitcolor\": \"white\"}, \"hoverlabel\": {\"align\": \"left\"}, \"hovermode\": \"closest\", \"mapbox\": {\"style\": \"light\"}, \"paper_bgcolor\": \"white\", \"plot_bgcolor\": \"#E5ECF6\", \"polar\": {\"angularaxis\": {\"gridcolor\": \"white\", \"linecolor\": \"white\", \"ticks\": \"\"}, \"bgcolor\": \"#E5ECF6\", \"radialaxis\": {\"gridcolor\": \"white\", \"linecolor\": \"white\", \"ticks\": \"\"}}, \"scene\": {\"xaxis\": {\"backgroundcolor\": \"#E5ECF6\", \"gridcolor\": \"white\", \"gridwidth\": 2, \"linecolor\": \"white\", \"showbackground\": true, \"ticks\": \"\", \"zerolinecolor\": \"white\"}, \"yaxis\": {\"backgroundcolor\": \"#E5ECF6\", \"gridcolor\": \"white\", \"gridwidth\": 2, \"linecolor\": \"white\", \"showbackground\": true, \"ticks\": \"\", \"zerolinecolor\": \"white\"}, \"zaxis\": {\"backgroundcolor\": \"#E5ECF6\", \"gridcolor\": \"white\", \"gridwidth\": 2, \"linecolor\": \"white\", \"showbackground\": true, \"ticks\": \"\", \"zerolinecolor\": \"white\"}}, \"shapedefaults\": {\"line\": {\"color\": \"#2a3f5f\"}}, \"ternary\": {\"aaxis\": {\"gridcolor\": \"white\", \"linecolor\": \"white\", \"ticks\": \"\"}, \"baxis\": {\"gridcolor\": \"white\", \"linecolor\": \"white\", \"ticks\": \"\"}, \"bgcolor\": \"#E5ECF6\", \"caxis\": {\"gridcolor\": \"white\", \"linecolor\": \"white\", \"ticks\": \"\"}}, \"title\": {\"x\": 0.05}, \"xaxis\": {\"automargin\": true, \"gridcolor\": \"white\", \"linecolor\": \"white\", \"ticks\": \"\", \"zerolinecolor\": \"white\", \"zerolinewidth\": 2}, \"yaxis\": {\"automargin\": true, \"gridcolor\": \"white\", \"linecolor\": \"white\", \"ticks\": \"\", \"zerolinecolor\": \"white\", \"zerolinewidth\": 2}}}, \"xaxis\": {\"title\": {\"text\": \"Date\"}}, \"yaxis\": {\"title\": {\"text\": \"Number of cases\"}}},\n",
       "                        {\"responsive\": true}\n",
       "                    ).then(function(){\n",
       "                            \n",
       "var gd = document.getElementById('6fab75e4-f802-497d-8cb4-0f79071ccd01');\n",
       "var x = new MutationObserver(function (mutations, observer) {{\n",
       "        var display = window.getComputedStyle(gd).display;\n",
       "        if (!display || display === 'none') {{\n",
       "            console.log([gd, 'removed!']);\n",
       "            Plotly.purge(gd);\n",
       "            observer.disconnect();\n",
       "        }}\n",
       "}});\n",
       "\n",
       "// Listen for the removal of the full notebook cells\n",
       "var notebookContainer = gd.closest('#notebook-container');\n",
       "if (notebookContainer) {{\n",
       "    x.observe(notebookContainer, {childList: true});\n",
       "}}\n",
       "\n",
       "// Listen for the clearing of the current output cell\n",
       "var outputEl = gd.closest('.output');\n",
       "if (outputEl) {{\n",
       "    x.observe(outputEl, {childList: true});\n",
       "}}\n",
       "\n",
       "                        })\n",
       "                };\n",
       "                });\n",
       "            </script>\n",
       "        </div>"
      ]
     },
     "metadata": {},
     "output_type": "display_data"
    }
   ],
   "source": [
    "fig=go.Figure(data=data, layout=layout)\n",
    "fig.show()"
   ]
  },
  {
   "cell_type": "code",
   "execution_count": 93,
   "metadata": {},
   "outputs": [
    {
     "data": {
      "application/vnd.plotly.v1+json": {
       "config": {
        "plotlyServerURL": "https://plot.ly"
       },
       "data": [
        {
         "mode": "lines+markers",
         "text": [
          "Ahmadabad",
          "Ajmer",
          "Anantapur",
          "Anantnag",
          "Andaman and Nicobar Islands",
          "Andhra Pradesh",
          "Aravalli",
          "Ariyalur",
          "Arunachal Pradesh",
          "Assam",
          "Baleshwar",
          "Bandipore",
          "Banswara",
          "Baramula",
          "Bhadrak",
          "Bidar",
          "Bihar",
          "Bokaro",
          "Chandigarh",
          "Chennai",
          "Chhattisgarh",
          "Chittoor",
          "Dehradun",
          "Delhi",
          "Dindigul",
          "East Godavari",
          "Gadag",
          "Goa",
          "Gujarat",
          "Guntur",
          "Haryana",
          "Himachal Pradesh",
          "Jaipur",
          "Jajapur",
          "Jalandhar",
          "Jammu and Kashmir",
          "Jharkhand",
          "Jhunjhunu",
          "Jodhpur",
          "Kachchh",
          "Kalaburagi",
          "Kannur",
          "Karnataka",
          "Kerala",
          "Kota",
          "Krishna",
          "Kupwara",
          "Kurnool",
          "Ladakh",
          "Madhya Pradesh",
          "Maharashtra",
          "Mahesana",
          "Mahisagar",
          "Manipur",
          "Meghalaya",
          "Mizoram",
          "Munger",
          "Nagaland",
          "Nagapattinam",
          "Nagaur",
          "Odisha",
          "Panch Mahals",
          "Panchkula",
          "Perambalur",
          "Puducherry",
          "Pudukkottai",
          "Punjab",
          "Rajasthan",
          "Rajkot",
          "Ramanathapuram",
          "Sivaganga",
          "South Andaman",
          "Sundargarh",
          "Surat",
          "Tamil Nadu",
          "Telangana",
          "Tenkasi",
          "Thiruvallur",
          "Thiruvarur",
          "Thoothukkudi",
          "Tiruchirappalli",
          "Tiruppur",
          "Tripura",
          "Uttar Pradesh",
          "Uttarakhand",
          "Vadodara",
          "Vijayapura",
          "Viluppuram",
          "West Bengal",
          "Y.S.R."
         ],
         "type": "scatter",
         "x": [
          "Ahmadabad",
          "Ajmer",
          "Anantapur",
          "Anantnag",
          "Andaman and Nicobar Islands",
          "Andhra Pradesh",
          "Aravalli",
          "Ariyalur",
          "Arunachal Pradesh",
          "Assam",
          "Baleshwar",
          "Bandipore",
          "Banswara",
          "Baramula",
          "Bhadrak",
          "Bidar",
          "Bihar",
          "Bokaro",
          "Chandigarh",
          "Chennai",
          "Chhattisgarh",
          "Chittoor",
          "Dehradun",
          "Delhi",
          "Dindigul",
          "East Godavari",
          "Gadag",
          "Goa",
          "Gujarat",
          "Guntur",
          "Haryana",
          "Himachal Pradesh",
          "Jaipur",
          "Jajapur",
          "Jalandhar",
          "Jammu and Kashmir",
          "Jharkhand",
          "Jhunjhunu",
          "Jodhpur",
          "Kachchh",
          "Kalaburagi",
          "Kannur",
          "Karnataka",
          "Kerala",
          "Kota",
          "Krishna",
          "Kupwara",
          "Kurnool",
          "Ladakh",
          "Madhya Pradesh",
          "Maharashtra",
          "Mahesana",
          "Mahisagar",
          "Manipur",
          "Meghalaya",
          "Mizoram",
          "Munger",
          "Nagaland",
          "Nagapattinam",
          "Nagaur",
          "Odisha",
          "Panch Mahals",
          "Panchkula",
          "Perambalur",
          "Puducherry",
          "Pudukkottai",
          "Punjab",
          "Rajasthan",
          "Rajkot",
          "Ramanathapuram",
          "Sivaganga",
          "South Andaman",
          "Sundargarh",
          "Surat",
          "Tamil Nadu",
          "Telangana",
          "Tenkasi",
          "Thiruvallur",
          "Thiruvarur",
          "Thoothukkudi",
          "Tiruchirappalli",
          "Tiruppur",
          "Tripura",
          "Uttar Pradesh",
          "Uttarakhand",
          "Vadodara",
          "Vijayapura",
          "Viluppuram",
          "West Bengal",
          "Y.S.R."
         ],
         "y": [
          91,
          1,
          4,
          5,
          15,
          647,
          6,
          2,
          1,
          34,
          2,
          10,
          1,
          1,
          5,
          1,
          93,
          1,
          26,
          18,
          36,
          25,
          2,
          1893,
          2,
          2,
          1,
          7,
          1743,
          20,
          250,
          39,
          43,
          5,
          1,
          350,
          41,
          2,
          6,
          2,
          5,
          6,
          390,
          401,
          3,
          5,
          2,
          16,
          18,
          1407,
          4200,
          1,
          1,
          2,
          11,
          1,
          3,
          1,
          1,
          2,
          61,
          2,
          1,
          1,
          7,
          1,
          244,
          1478,
          2,
          1,
          1,
          1,
          1,
          2,
          1477,
          858,
          4,
          2,
          1,
          1,
          4,
          1,
          2,
          1099,
          42,
          1,
          11,
          3,
          310,
          3
         ]
        }
       ],
       "layout": {
        "template": {
         "data": {
          "bar": [
           {
            "error_x": {
             "color": "#2a3f5f"
            },
            "error_y": {
             "color": "#2a3f5f"
            },
            "marker": {
             "line": {
              "color": "#E5ECF6",
              "width": 0.5
             }
            },
            "type": "bar"
           }
          ],
          "barpolar": [
           {
            "marker": {
             "line": {
              "color": "#E5ECF6",
              "width": 0.5
             }
            },
            "type": "barpolar"
           }
          ],
          "carpet": [
           {
            "aaxis": {
             "endlinecolor": "#2a3f5f",
             "gridcolor": "white",
             "linecolor": "white",
             "minorgridcolor": "white",
             "startlinecolor": "#2a3f5f"
            },
            "baxis": {
             "endlinecolor": "#2a3f5f",
             "gridcolor": "white",
             "linecolor": "white",
             "minorgridcolor": "white",
             "startlinecolor": "#2a3f5f"
            },
            "type": "carpet"
           }
          ],
          "choropleth": [
           {
            "colorbar": {
             "outlinewidth": 0,
             "ticks": ""
            },
            "type": "choropleth"
           }
          ],
          "contour": [
           {
            "colorbar": {
             "outlinewidth": 0,
             "ticks": ""
            },
            "colorscale": [
             [
              0,
              "#0d0887"
             ],
             [
              0.1111111111111111,
              "#46039f"
             ],
             [
              0.2222222222222222,
              "#7201a8"
             ],
             [
              0.3333333333333333,
              "#9c179e"
             ],
             [
              0.4444444444444444,
              "#bd3786"
             ],
             [
              0.5555555555555556,
              "#d8576b"
             ],
             [
              0.6666666666666666,
              "#ed7953"
             ],
             [
              0.7777777777777778,
              "#fb9f3a"
             ],
             [
              0.8888888888888888,
              "#fdca26"
             ],
             [
              1,
              "#f0f921"
             ]
            ],
            "type": "contour"
           }
          ],
          "contourcarpet": [
           {
            "colorbar": {
             "outlinewidth": 0,
             "ticks": ""
            },
            "type": "contourcarpet"
           }
          ],
          "heatmap": [
           {
            "colorbar": {
             "outlinewidth": 0,
             "ticks": ""
            },
            "colorscale": [
             [
              0,
              "#0d0887"
             ],
             [
              0.1111111111111111,
              "#46039f"
             ],
             [
              0.2222222222222222,
              "#7201a8"
             ],
             [
              0.3333333333333333,
              "#9c179e"
             ],
             [
              0.4444444444444444,
              "#bd3786"
             ],
             [
              0.5555555555555556,
              "#d8576b"
             ],
             [
              0.6666666666666666,
              "#ed7953"
             ],
             [
              0.7777777777777778,
              "#fb9f3a"
             ],
             [
              0.8888888888888888,
              "#fdca26"
             ],
             [
              1,
              "#f0f921"
             ]
            ],
            "type": "heatmap"
           }
          ],
          "heatmapgl": [
           {
            "colorbar": {
             "outlinewidth": 0,
             "ticks": ""
            },
            "colorscale": [
             [
              0,
              "#0d0887"
             ],
             [
              0.1111111111111111,
              "#46039f"
             ],
             [
              0.2222222222222222,
              "#7201a8"
             ],
             [
              0.3333333333333333,
              "#9c179e"
             ],
             [
              0.4444444444444444,
              "#bd3786"
             ],
             [
              0.5555555555555556,
              "#d8576b"
             ],
             [
              0.6666666666666666,
              "#ed7953"
             ],
             [
              0.7777777777777778,
              "#fb9f3a"
             ],
             [
              0.8888888888888888,
              "#fdca26"
             ],
             [
              1,
              "#f0f921"
             ]
            ],
            "type": "heatmapgl"
           }
          ],
          "histogram": [
           {
            "marker": {
             "colorbar": {
              "outlinewidth": 0,
              "ticks": ""
             }
            },
            "type": "histogram"
           }
          ],
          "histogram2d": [
           {
            "colorbar": {
             "outlinewidth": 0,
             "ticks": ""
            },
            "colorscale": [
             [
              0,
              "#0d0887"
             ],
             [
              0.1111111111111111,
              "#46039f"
             ],
             [
              0.2222222222222222,
              "#7201a8"
             ],
             [
              0.3333333333333333,
              "#9c179e"
             ],
             [
              0.4444444444444444,
              "#bd3786"
             ],
             [
              0.5555555555555556,
              "#d8576b"
             ],
             [
              0.6666666666666666,
              "#ed7953"
             ],
             [
              0.7777777777777778,
              "#fb9f3a"
             ],
             [
              0.8888888888888888,
              "#fdca26"
             ],
             [
              1,
              "#f0f921"
             ]
            ],
            "type": "histogram2d"
           }
          ],
          "histogram2dcontour": [
           {
            "colorbar": {
             "outlinewidth": 0,
             "ticks": ""
            },
            "colorscale": [
             [
              0,
              "#0d0887"
             ],
             [
              0.1111111111111111,
              "#46039f"
             ],
             [
              0.2222222222222222,
              "#7201a8"
             ],
             [
              0.3333333333333333,
              "#9c179e"
             ],
             [
              0.4444444444444444,
              "#bd3786"
             ],
             [
              0.5555555555555556,
              "#d8576b"
             ],
             [
              0.6666666666666666,
              "#ed7953"
             ],
             [
              0.7777777777777778,
              "#fb9f3a"
             ],
             [
              0.8888888888888888,
              "#fdca26"
             ],
             [
              1,
              "#f0f921"
             ]
            ],
            "type": "histogram2dcontour"
           }
          ],
          "mesh3d": [
           {
            "colorbar": {
             "outlinewidth": 0,
             "ticks": ""
            },
            "type": "mesh3d"
           }
          ],
          "parcoords": [
           {
            "line": {
             "colorbar": {
              "outlinewidth": 0,
              "ticks": ""
             }
            },
            "type": "parcoords"
           }
          ],
          "scatter": [
           {
            "marker": {
             "colorbar": {
              "outlinewidth": 0,
              "ticks": ""
             }
            },
            "type": "scatter"
           }
          ],
          "scatter3d": [
           {
            "line": {
             "colorbar": {
              "outlinewidth": 0,
              "ticks": ""
             }
            },
            "marker": {
             "colorbar": {
              "outlinewidth": 0,
              "ticks": ""
             }
            },
            "type": "scatter3d"
           }
          ],
          "scattercarpet": [
           {
            "marker": {
             "colorbar": {
              "outlinewidth": 0,
              "ticks": ""
             }
            },
            "type": "scattercarpet"
           }
          ],
          "scattergeo": [
           {
            "marker": {
             "colorbar": {
              "outlinewidth": 0,
              "ticks": ""
             }
            },
            "type": "scattergeo"
           }
          ],
          "scattergl": [
           {
            "marker": {
             "colorbar": {
              "outlinewidth": 0,
              "ticks": ""
             }
            },
            "type": "scattergl"
           }
          ],
          "scattermapbox": [
           {
            "marker": {
             "colorbar": {
              "outlinewidth": 0,
              "ticks": ""
             }
            },
            "type": "scattermapbox"
           }
          ],
          "scatterpolar": [
           {
            "marker": {
             "colorbar": {
              "outlinewidth": 0,
              "ticks": ""
             }
            },
            "type": "scatterpolar"
           }
          ],
          "scatterpolargl": [
           {
            "marker": {
             "colorbar": {
              "outlinewidth": 0,
              "ticks": ""
             }
            },
            "type": "scatterpolargl"
           }
          ],
          "scatterternary": [
           {
            "marker": {
             "colorbar": {
              "outlinewidth": 0,
              "ticks": ""
             }
            },
            "type": "scatterternary"
           }
          ],
          "surface": [
           {
            "colorbar": {
             "outlinewidth": 0,
             "ticks": ""
            },
            "colorscale": [
             [
              0,
              "#0d0887"
             ],
             [
              0.1111111111111111,
              "#46039f"
             ],
             [
              0.2222222222222222,
              "#7201a8"
             ],
             [
              0.3333333333333333,
              "#9c179e"
             ],
             [
              0.4444444444444444,
              "#bd3786"
             ],
             [
              0.5555555555555556,
              "#d8576b"
             ],
             [
              0.6666666666666666,
              "#ed7953"
             ],
             [
              0.7777777777777778,
              "#fb9f3a"
             ],
             [
              0.8888888888888888,
              "#fdca26"
             ],
             [
              1,
              "#f0f921"
             ]
            ],
            "type": "surface"
           }
          ],
          "table": [
           {
            "cells": {
             "fill": {
              "color": "#EBF0F8"
             },
             "line": {
              "color": "white"
             }
            },
            "header": {
             "fill": {
              "color": "#C8D4E3"
             },
             "line": {
              "color": "white"
             }
            },
            "type": "table"
           }
          ]
         },
         "layout": {
          "annotationdefaults": {
           "arrowcolor": "#2a3f5f",
           "arrowhead": 0,
           "arrowwidth": 1
          },
          "colorscale": {
           "diverging": [
            [
             0,
             "#8e0152"
            ],
            [
             0.1,
             "#c51b7d"
            ],
            [
             0.2,
             "#de77ae"
            ],
            [
             0.3,
             "#f1b6da"
            ],
            [
             0.4,
             "#fde0ef"
            ],
            [
             0.5,
             "#f7f7f7"
            ],
            [
             0.6,
             "#e6f5d0"
            ],
            [
             0.7,
             "#b8e186"
            ],
            [
             0.8,
             "#7fbc41"
            ],
            [
             0.9,
             "#4d9221"
            ],
            [
             1,
             "#276419"
            ]
           ],
           "sequential": [
            [
             0,
             "#0d0887"
            ],
            [
             0.1111111111111111,
             "#46039f"
            ],
            [
             0.2222222222222222,
             "#7201a8"
            ],
            [
             0.3333333333333333,
             "#9c179e"
            ],
            [
             0.4444444444444444,
             "#bd3786"
            ],
            [
             0.5555555555555556,
             "#d8576b"
            ],
            [
             0.6666666666666666,
             "#ed7953"
            ],
            [
             0.7777777777777778,
             "#fb9f3a"
            ],
            [
             0.8888888888888888,
             "#fdca26"
            ],
            [
             1,
             "#f0f921"
            ]
           ],
           "sequentialminus": [
            [
             0,
             "#0d0887"
            ],
            [
             0.1111111111111111,
             "#46039f"
            ],
            [
             0.2222222222222222,
             "#7201a8"
            ],
            [
             0.3333333333333333,
             "#9c179e"
            ],
            [
             0.4444444444444444,
             "#bd3786"
            ],
            [
             0.5555555555555556,
             "#d8576b"
            ],
            [
             0.6666666666666666,
             "#ed7953"
            ],
            [
             0.7777777777777778,
             "#fb9f3a"
            ],
            [
             0.8888888888888888,
             "#fdca26"
            ],
            [
             1,
             "#f0f921"
            ]
           ]
          },
          "colorway": [
           "#636efa",
           "#EF553B",
           "#00cc96",
           "#ab63fa",
           "#FFA15A",
           "#19d3f3",
           "#FF6692",
           "#B6E880",
           "#FF97FF",
           "#FECB52"
          ],
          "font": {
           "color": "#2a3f5f"
          },
          "geo": {
           "bgcolor": "white",
           "lakecolor": "white",
           "landcolor": "#E5ECF6",
           "showlakes": true,
           "showland": true,
           "subunitcolor": "white"
          },
          "hoverlabel": {
           "align": "left"
          },
          "hovermode": "closest",
          "mapbox": {
           "style": "light"
          },
          "paper_bgcolor": "white",
          "plot_bgcolor": "#E5ECF6",
          "polar": {
           "angularaxis": {
            "gridcolor": "white",
            "linecolor": "white",
            "ticks": ""
           },
           "bgcolor": "#E5ECF6",
           "radialaxis": {
            "gridcolor": "white",
            "linecolor": "white",
            "ticks": ""
           }
          },
          "scene": {
           "xaxis": {
            "backgroundcolor": "#E5ECF6",
            "gridcolor": "white",
            "gridwidth": 2,
            "linecolor": "white",
            "showbackground": true,
            "ticks": "",
            "zerolinecolor": "white"
           },
           "yaxis": {
            "backgroundcolor": "#E5ECF6",
            "gridcolor": "white",
            "gridwidth": 2,
            "linecolor": "white",
            "showbackground": true,
            "ticks": "",
            "zerolinecolor": "white"
           },
           "zaxis": {
            "backgroundcolor": "#E5ECF6",
            "gridcolor": "white",
            "gridwidth": 2,
            "linecolor": "white",
            "showbackground": true,
            "ticks": "",
            "zerolinecolor": "white"
           }
          },
          "shapedefaults": {
           "line": {
            "color": "#2a3f5f"
           }
          },
          "ternary": {
           "aaxis": {
            "gridcolor": "white",
            "linecolor": "white",
            "ticks": ""
           },
           "baxis": {
            "gridcolor": "white",
            "linecolor": "white",
            "ticks": ""
           },
           "bgcolor": "#E5ECF6",
           "caxis": {
            "gridcolor": "white",
            "linecolor": "white",
            "ticks": ""
           }
          },
          "title": {
           "x": 0.05
          },
          "xaxis": {
           "automargin": true,
           "gridcolor": "white",
           "linecolor": "white",
           "ticks": "",
           "zerolinecolor": "white",
           "zerolinewidth": 2
          },
          "yaxis": {
           "automargin": true,
           "gridcolor": "white",
           "linecolor": "white",
           "ticks": "",
           "zerolinecolor": "white",
           "zerolinewidth": 2
          }
         }
        },
        "xaxis": {
         "title": {
          "text": "Date"
         }
        },
        "yaxis": {
         "title": {
          "text": "Number of cases"
         }
        }
       }
      },
      "text/html": [
       "<div>\n",
       "        \n",
       "        \n",
       "            <div id=\"61f992fb-66e6-43af-857f-8588ffdddc3e\" class=\"plotly-graph-div\" style=\"height:525px; width:100%;\"></div>\n",
       "            <script type=\"text/javascript\">\n",
       "                require([\"plotly\"], function(Plotly) {\n",
       "                    window.PLOTLYENV=window.PLOTLYENV || {};\n",
       "                    \n",
       "                if (document.getElementById(\"61f992fb-66e6-43af-857f-8588ffdddc3e\")) {\n",
       "                    Plotly.newPlot(\n",
       "                        '61f992fb-66e6-43af-857f-8588ffdddc3e',\n",
       "                        [{\"mode\": \"lines+markers\", \"text\": [\"Ahmadabad\", \"Ajmer\", \"Anantapur\", \"Anantnag\", \"Andaman and Nicobar Islands\", \"Andhra Pradesh\", \"Aravalli\", \"Ariyalur\", \"Arunachal Pradesh\", \"Assam\", \"Baleshwar\", \"Bandipore\", \"Banswara\", \"Baramula\", \"Bhadrak\", \"Bidar\", \"Bihar\", \"Bokaro\", \"Chandigarh\", \"Chennai\", \"Chhattisgarh\", \"Chittoor\", \"Dehradun\", \"Delhi\", \"Dindigul\", \"East Godavari\", \"Gadag\", \"Goa\", \"Gujarat\", \"Guntur\", \"Haryana\", \"Himachal Pradesh\", \"Jaipur\", \"Jajapur\", \"Jalandhar\", \"Jammu and Kashmir\", \"Jharkhand\", \"Jhunjhunu\", \"Jodhpur\", \"Kachchh\", \"Kalaburagi\", \"Kannur\", \"Karnataka\", \"Kerala\", \"Kota\", \"Krishna\", \"Kupwara\", \"Kurnool\", \"Ladakh\", \"Madhya Pradesh\", \"Maharashtra\", \"Mahesana\", \"Mahisagar\", \"Manipur\", \"Meghalaya\", \"Mizoram\", \"Munger\", \"Nagaland\", \"Nagapattinam\", \"Nagaur\", \"Odisha\", \"Panch Mahals\", \"Panchkula\", \"Perambalur\", \"Puducherry\", \"Pudukkottai\", \"Punjab\", \"Rajasthan\", \"Rajkot\", \"Ramanathapuram\", \"Sivaganga\", \"South Andaman\", \"Sundargarh\", \"Surat\", \"Tamil Nadu\", \"Telangana\", \"Tenkasi\", \"Thiruvallur\", \"Thiruvarur\", \"Thoothukkudi\", \"Tiruchirappalli\", \"Tiruppur\", \"Tripura\", \"Uttar Pradesh\", \"Uttarakhand\", \"Vadodara\", \"Vijayapura\", \"Viluppuram\", \"West Bengal\", \"Y.S.R.\"], \"type\": \"scatter\", \"x\": [\"Ahmadabad\", \"Ajmer\", \"Anantapur\", \"Anantnag\", \"Andaman and Nicobar Islands\", \"Andhra Pradesh\", \"Aravalli\", \"Ariyalur\", \"Arunachal Pradesh\", \"Assam\", \"Baleshwar\", \"Bandipore\", \"Banswara\", \"Baramula\", \"Bhadrak\", \"Bidar\", \"Bihar\", \"Bokaro\", \"Chandigarh\", \"Chennai\", \"Chhattisgarh\", \"Chittoor\", \"Dehradun\", \"Delhi\", \"Dindigul\", \"East Godavari\", \"Gadag\", \"Goa\", \"Gujarat\", \"Guntur\", \"Haryana\", \"Himachal Pradesh\", \"Jaipur\", \"Jajapur\", \"Jalandhar\", \"Jammu and Kashmir\", \"Jharkhand\", \"Jhunjhunu\", \"Jodhpur\", \"Kachchh\", \"Kalaburagi\", \"Kannur\", \"Karnataka\", \"Kerala\", \"Kota\", \"Krishna\", \"Kupwara\", \"Kurnool\", \"Ladakh\", \"Madhya Pradesh\", \"Maharashtra\", \"Mahesana\", \"Mahisagar\", \"Manipur\", \"Meghalaya\", \"Mizoram\", \"Munger\", \"Nagaland\", \"Nagapattinam\", \"Nagaur\", \"Odisha\", \"Panch Mahals\", \"Panchkula\", \"Perambalur\", \"Puducherry\", \"Pudukkottai\", \"Punjab\", \"Rajasthan\", \"Rajkot\", \"Ramanathapuram\", \"Sivaganga\", \"South Andaman\", \"Sundargarh\", \"Surat\", \"Tamil Nadu\", \"Telangana\", \"Tenkasi\", \"Thiruvallur\", \"Thiruvarur\", \"Thoothukkudi\", \"Tiruchirappalli\", \"Tiruppur\", \"Tripura\", \"Uttar Pradesh\", \"Uttarakhand\", \"Vadodara\", \"Vijayapura\", \"Viluppuram\", \"West Bengal\", \"Y.S.R.\"], \"y\": [91, 1, 4, 5, 15, 647, 6, 2, 1, 34, 2, 10, 1, 1, 5, 1, 93, 1, 26, 18, 36, 25, 2, 1893, 2, 2, 1, 7, 1743, 20, 250, 39, 43, 5, 1, 350, 41, 2, 6, 2, 5, 6, 390, 401, 3, 5, 2, 16, 18, 1407, 4200, 1, 1, 2, 11, 1, 3, 1, 1, 2, 61, 2, 1, 1, 7, 1, 244, 1478, 2, 1, 1, 1, 1, 2, 1477, 858, 4, 2, 1, 1, 4, 1, 2, 1099, 42, 1, 11, 3, 310, 3]}],\n",
       "                        {\"template\": {\"data\": {\"bar\": [{\"error_x\": {\"color\": \"#2a3f5f\"}, \"error_y\": {\"color\": \"#2a3f5f\"}, \"marker\": {\"line\": {\"color\": \"#E5ECF6\", \"width\": 0.5}}, \"type\": \"bar\"}], \"barpolar\": [{\"marker\": {\"line\": {\"color\": \"#E5ECF6\", \"width\": 0.5}}, \"type\": \"barpolar\"}], \"carpet\": [{\"aaxis\": {\"endlinecolor\": \"#2a3f5f\", \"gridcolor\": \"white\", \"linecolor\": \"white\", \"minorgridcolor\": \"white\", \"startlinecolor\": \"#2a3f5f\"}, \"baxis\": {\"endlinecolor\": \"#2a3f5f\", \"gridcolor\": \"white\", \"linecolor\": \"white\", \"minorgridcolor\": \"white\", \"startlinecolor\": \"#2a3f5f\"}, \"type\": \"carpet\"}], \"choropleth\": [{\"colorbar\": {\"outlinewidth\": 0, \"ticks\": \"\"}, \"type\": \"choropleth\"}], \"contour\": [{\"colorbar\": {\"outlinewidth\": 0, \"ticks\": \"\"}, \"colorscale\": [[0.0, \"#0d0887\"], [0.1111111111111111, \"#46039f\"], [0.2222222222222222, \"#7201a8\"], [0.3333333333333333, \"#9c179e\"], [0.4444444444444444, \"#bd3786\"], [0.5555555555555556, \"#d8576b\"], [0.6666666666666666, \"#ed7953\"], [0.7777777777777778, \"#fb9f3a\"], [0.8888888888888888, \"#fdca26\"], [1.0, \"#f0f921\"]], \"type\": \"contour\"}], \"contourcarpet\": [{\"colorbar\": {\"outlinewidth\": 0, \"ticks\": \"\"}, \"type\": \"contourcarpet\"}], \"heatmap\": [{\"colorbar\": {\"outlinewidth\": 0, \"ticks\": \"\"}, \"colorscale\": [[0.0, \"#0d0887\"], [0.1111111111111111, \"#46039f\"], [0.2222222222222222, \"#7201a8\"], [0.3333333333333333, \"#9c179e\"], [0.4444444444444444, \"#bd3786\"], [0.5555555555555556, \"#d8576b\"], [0.6666666666666666, \"#ed7953\"], [0.7777777777777778, \"#fb9f3a\"], [0.8888888888888888, \"#fdca26\"], [1.0, \"#f0f921\"]], \"type\": \"heatmap\"}], \"heatmapgl\": [{\"colorbar\": {\"outlinewidth\": 0, \"ticks\": \"\"}, \"colorscale\": [[0.0, \"#0d0887\"], [0.1111111111111111, \"#46039f\"], [0.2222222222222222, \"#7201a8\"], [0.3333333333333333, \"#9c179e\"], [0.4444444444444444, \"#bd3786\"], [0.5555555555555556, \"#d8576b\"], [0.6666666666666666, \"#ed7953\"], [0.7777777777777778, \"#fb9f3a\"], [0.8888888888888888, \"#fdca26\"], [1.0, \"#f0f921\"]], \"type\": \"heatmapgl\"}], \"histogram\": [{\"marker\": {\"colorbar\": {\"outlinewidth\": 0, \"ticks\": \"\"}}, \"type\": \"histogram\"}], \"histogram2d\": [{\"colorbar\": {\"outlinewidth\": 0, \"ticks\": \"\"}, \"colorscale\": [[0.0, \"#0d0887\"], [0.1111111111111111, \"#46039f\"], [0.2222222222222222, \"#7201a8\"], [0.3333333333333333, \"#9c179e\"], [0.4444444444444444, \"#bd3786\"], [0.5555555555555556, \"#d8576b\"], [0.6666666666666666, \"#ed7953\"], [0.7777777777777778, \"#fb9f3a\"], [0.8888888888888888, \"#fdca26\"], [1.0, \"#f0f921\"]], \"type\": \"histogram2d\"}], \"histogram2dcontour\": [{\"colorbar\": {\"outlinewidth\": 0, \"ticks\": \"\"}, \"colorscale\": [[0.0, \"#0d0887\"], [0.1111111111111111, \"#46039f\"], [0.2222222222222222, \"#7201a8\"], [0.3333333333333333, \"#9c179e\"], [0.4444444444444444, \"#bd3786\"], [0.5555555555555556, \"#d8576b\"], [0.6666666666666666, \"#ed7953\"], [0.7777777777777778, \"#fb9f3a\"], [0.8888888888888888, \"#fdca26\"], [1.0, \"#f0f921\"]], \"type\": \"histogram2dcontour\"}], \"mesh3d\": [{\"colorbar\": {\"outlinewidth\": 0, \"ticks\": \"\"}, \"type\": \"mesh3d\"}], \"parcoords\": [{\"line\": {\"colorbar\": {\"outlinewidth\": 0, \"ticks\": \"\"}}, \"type\": \"parcoords\"}], \"scatter\": [{\"marker\": {\"colorbar\": {\"outlinewidth\": 0, \"ticks\": \"\"}}, \"type\": \"scatter\"}], \"scatter3d\": [{\"line\": {\"colorbar\": {\"outlinewidth\": 0, \"ticks\": \"\"}}, \"marker\": {\"colorbar\": {\"outlinewidth\": 0, \"ticks\": \"\"}}, \"type\": \"scatter3d\"}], \"scattercarpet\": [{\"marker\": {\"colorbar\": {\"outlinewidth\": 0, \"ticks\": \"\"}}, \"type\": \"scattercarpet\"}], \"scattergeo\": [{\"marker\": {\"colorbar\": {\"outlinewidth\": 0, \"ticks\": \"\"}}, \"type\": \"scattergeo\"}], \"scattergl\": [{\"marker\": {\"colorbar\": {\"outlinewidth\": 0, \"ticks\": \"\"}}, \"type\": \"scattergl\"}], \"scattermapbox\": [{\"marker\": {\"colorbar\": {\"outlinewidth\": 0, \"ticks\": \"\"}}, \"type\": \"scattermapbox\"}], \"scatterpolar\": [{\"marker\": {\"colorbar\": {\"outlinewidth\": 0, \"ticks\": \"\"}}, \"type\": \"scatterpolar\"}], \"scatterpolargl\": [{\"marker\": {\"colorbar\": {\"outlinewidth\": 0, \"ticks\": \"\"}}, \"type\": \"scatterpolargl\"}], \"scatterternary\": [{\"marker\": {\"colorbar\": {\"outlinewidth\": 0, \"ticks\": \"\"}}, \"type\": \"scatterternary\"}], \"surface\": [{\"colorbar\": {\"outlinewidth\": 0, \"ticks\": \"\"}, \"colorscale\": [[0.0, \"#0d0887\"], [0.1111111111111111, \"#46039f\"], [0.2222222222222222, \"#7201a8\"], [0.3333333333333333, \"#9c179e\"], [0.4444444444444444, \"#bd3786\"], [0.5555555555555556, \"#d8576b\"], [0.6666666666666666, \"#ed7953\"], [0.7777777777777778, \"#fb9f3a\"], [0.8888888888888888, \"#fdca26\"], [1.0, \"#f0f921\"]], \"type\": \"surface\"}], \"table\": [{\"cells\": {\"fill\": {\"color\": \"#EBF0F8\"}, \"line\": {\"color\": \"white\"}}, \"header\": {\"fill\": {\"color\": \"#C8D4E3\"}, \"line\": {\"color\": \"white\"}}, \"type\": \"table\"}]}, \"layout\": {\"annotationdefaults\": {\"arrowcolor\": \"#2a3f5f\", \"arrowhead\": 0, \"arrowwidth\": 1}, \"colorscale\": {\"diverging\": [[0, \"#8e0152\"], [0.1, \"#c51b7d\"], [0.2, \"#de77ae\"], [0.3, \"#f1b6da\"], [0.4, \"#fde0ef\"], [0.5, \"#f7f7f7\"], [0.6, \"#e6f5d0\"], [0.7, \"#b8e186\"], [0.8, \"#7fbc41\"], [0.9, \"#4d9221\"], [1, \"#276419\"]], \"sequential\": [[0.0, \"#0d0887\"], [0.1111111111111111, \"#46039f\"], [0.2222222222222222, \"#7201a8\"], [0.3333333333333333, \"#9c179e\"], [0.4444444444444444, \"#bd3786\"], [0.5555555555555556, \"#d8576b\"], [0.6666666666666666, \"#ed7953\"], [0.7777777777777778, \"#fb9f3a\"], [0.8888888888888888, \"#fdca26\"], [1.0, \"#f0f921\"]], \"sequentialminus\": [[0.0, \"#0d0887\"], [0.1111111111111111, \"#46039f\"], [0.2222222222222222, \"#7201a8\"], [0.3333333333333333, \"#9c179e\"], [0.4444444444444444, \"#bd3786\"], [0.5555555555555556, \"#d8576b\"], [0.6666666666666666, \"#ed7953\"], [0.7777777777777778, \"#fb9f3a\"], [0.8888888888888888, \"#fdca26\"], [1.0, \"#f0f921\"]]}, \"colorway\": [\"#636efa\", \"#EF553B\", \"#00cc96\", \"#ab63fa\", \"#FFA15A\", \"#19d3f3\", \"#FF6692\", \"#B6E880\", \"#FF97FF\", \"#FECB52\"], \"font\": {\"color\": \"#2a3f5f\"}, \"geo\": {\"bgcolor\": \"white\", \"lakecolor\": \"white\", \"landcolor\": \"#E5ECF6\", \"showlakes\": true, \"showland\": true, \"subunitcolor\": \"white\"}, \"hoverlabel\": {\"align\": \"left\"}, \"hovermode\": \"closest\", \"mapbox\": {\"style\": \"light\"}, \"paper_bgcolor\": \"white\", \"plot_bgcolor\": \"#E5ECF6\", \"polar\": {\"angularaxis\": {\"gridcolor\": \"white\", \"linecolor\": \"white\", \"ticks\": \"\"}, \"bgcolor\": \"#E5ECF6\", \"radialaxis\": {\"gridcolor\": \"white\", \"linecolor\": \"white\", \"ticks\": \"\"}}, \"scene\": {\"xaxis\": {\"backgroundcolor\": \"#E5ECF6\", \"gridcolor\": \"white\", \"gridwidth\": 2, \"linecolor\": \"white\", \"showbackground\": true, \"ticks\": \"\", \"zerolinecolor\": \"white\"}, \"yaxis\": {\"backgroundcolor\": \"#E5ECF6\", \"gridcolor\": \"white\", \"gridwidth\": 2, \"linecolor\": \"white\", \"showbackground\": true, \"ticks\": \"\", \"zerolinecolor\": \"white\"}, \"zaxis\": {\"backgroundcolor\": \"#E5ECF6\", \"gridcolor\": \"white\", \"gridwidth\": 2, \"linecolor\": \"white\", \"showbackground\": true, \"ticks\": \"\", \"zerolinecolor\": \"white\"}}, \"shapedefaults\": {\"line\": {\"color\": \"#2a3f5f\"}}, \"ternary\": {\"aaxis\": {\"gridcolor\": \"white\", \"linecolor\": \"white\", \"ticks\": \"\"}, \"baxis\": {\"gridcolor\": \"white\", \"linecolor\": \"white\", \"ticks\": \"\"}, \"bgcolor\": \"#E5ECF6\", \"caxis\": {\"gridcolor\": \"white\", \"linecolor\": \"white\", \"ticks\": \"\"}}, \"title\": {\"x\": 0.05}, \"xaxis\": {\"automargin\": true, \"gridcolor\": \"white\", \"linecolor\": \"white\", \"ticks\": \"\", \"zerolinecolor\": \"white\", \"zerolinewidth\": 2}, \"yaxis\": {\"automargin\": true, \"gridcolor\": \"white\", \"linecolor\": \"white\", \"ticks\": \"\", \"zerolinecolor\": \"white\", \"zerolinewidth\": 2}}}, \"xaxis\": {\"title\": {\"text\": \"Date\"}}, \"yaxis\": {\"title\": {\"text\": \"Number of cases\"}}},\n",
       "                        {\"responsive\": true}\n",
       "                    ).then(function(){\n",
       "                            \n",
       "var gd = document.getElementById('61f992fb-66e6-43af-857f-8588ffdddc3e');\n",
       "var x = new MutationObserver(function (mutations, observer) {{\n",
       "        var display = window.getComputedStyle(gd).display;\n",
       "        if (!display || display === 'none') {{\n",
       "            console.log([gd, 'removed!']);\n",
       "            Plotly.purge(gd);\n",
       "            observer.disconnect();\n",
       "        }}\n",
       "}});\n",
       "\n",
       "// Listen for the removal of the full notebook cells\n",
       "var notebookContainer = gd.closest('#notebook-container');\n",
       "if (notebookContainer) {{\n",
       "    x.observe(notebookContainer, {childList: true});\n",
       "}}\n",
       "\n",
       "// Listen for the clearing of the current output cell\n",
       "var outputEl = gd.closest('.output');\n",
       "if (outputEl) {{\n",
       "    x.observe(outputEl, {childList: true});\n",
       "}}\n",
       "\n",
       "                        })\n",
       "                };\n",
       "                });\n",
       "            </script>\n",
       "        </div>"
      ]
     },
     "metadata": {},
     "output_type": "display_data"
    }
   ],
   "source": [
    "fig=go.Figure(data=data1, layout=layout)\n",
    "fig.show()"
   ]
  },
  {
   "cell_type": "code",
   "execution_count": 101,
   "metadata": {},
   "outputs": [],
   "source": [
    "df2_Guj=df2[df2['Detected State']=='Gujarat']"
   ]
  },
  {
   "cell_type": "code",
   "execution_count": 102,
   "metadata": {
    "scrolled": true
   },
   "outputs": [
    {
     "data": {
      "text/html": [
       "<div>\n",
       "<style scoped>\n",
       "    .dataframe tbody tr th:only-of-type {\n",
       "        vertical-align: middle;\n",
       "    }\n",
       "\n",
       "    .dataframe tbody tr th {\n",
       "        vertical-align: top;\n",
       "    }\n",
       "\n",
       "    .dataframe thead th {\n",
       "        text-align: right;\n",
       "    }\n",
       "</style>\n",
       "<table border=\"1\" class=\"dataframe\">\n",
       "  <thead>\n",
       "    <tr style=\"text-align: right;\">\n",
       "      <th></th>\n",
       "      <th>Date Announced</th>\n",
       "      <th>Detected State</th>\n",
       "      <th>Patient Number</th>\n",
       "    </tr>\n",
       "  </thead>\n",
       "  <tbody>\n",
       "    <tr>\n",
       "      <td>74</td>\n",
       "      <td>2020-03-19</td>\n",
       "      <td>Gujarat</td>\n",
       "      <td>2</td>\n",
       "    </tr>\n",
       "    <tr>\n",
       "      <td>87</td>\n",
       "      <td>2020-03-20</td>\n",
       "      <td>Gujarat</td>\n",
       "      <td>5</td>\n",
       "    </tr>\n",
       "    <tr>\n",
       "      <td>101</td>\n",
       "      <td>2020-03-21</td>\n",
       "      <td>Gujarat</td>\n",
       "      <td>7</td>\n",
       "    </tr>\n",
       "    <tr>\n",
       "      <td>117</td>\n",
       "      <td>2020-03-22</td>\n",
       "      <td>Gujarat</td>\n",
       "      <td>4</td>\n",
       "    </tr>\n",
       "    <tr>\n",
       "      <td>132</td>\n",
       "      <td>2020-03-23</td>\n",
       "      <td>Gujarat</td>\n",
       "      <td>12</td>\n",
       "    </tr>\n",
       "    <tr>\n",
       "      <td>145</td>\n",
       "      <td>2020-03-24</td>\n",
       "      <td>Gujarat</td>\n",
       "      <td>6</td>\n",
       "    </tr>\n",
       "    <tr>\n",
       "      <td>163</td>\n",
       "      <td>2020-03-25</td>\n",
       "      <td>Gujarat</td>\n",
       "      <td>2</td>\n",
       "    </tr>\n",
       "    <tr>\n",
       "      <td>182</td>\n",
       "      <td>2020-03-26</td>\n",
       "      <td>Gujarat</td>\n",
       "      <td>6</td>\n",
       "    </tr>\n",
       "    <tr>\n",
       "      <td>201</td>\n",
       "      <td>2020-03-27</td>\n",
       "      <td>Gujarat</td>\n",
       "      <td>3</td>\n",
       "    </tr>\n",
       "    <tr>\n",
       "      <td>219</td>\n",
       "      <td>2020-03-28</td>\n",
       "      <td>Gujarat</td>\n",
       "      <td>8</td>\n",
       "    </tr>\n",
       "    <tr>\n",
       "      <td>236</td>\n",
       "      <td>2020-03-29</td>\n",
       "      <td>Gujarat</td>\n",
       "      <td>8</td>\n",
       "    </tr>\n",
       "    <tr>\n",
       "      <td>252</td>\n",
       "      <td>2020-03-30</td>\n",
       "      <td>Gujarat</td>\n",
       "      <td>7</td>\n",
       "    </tr>\n",
       "    <tr>\n",
       "      <td>271</td>\n",
       "      <td>2020-03-31</td>\n",
       "      <td>Gujarat</td>\n",
       "      <td>4</td>\n",
       "    </tr>\n",
       "    <tr>\n",
       "      <td>291</td>\n",
       "      <td>2020-04-01</td>\n",
       "      <td>Gujarat</td>\n",
       "      <td>13</td>\n",
       "    </tr>\n",
       "    <tr>\n",
       "      <td>310</td>\n",
       "      <td>2020-04-02</td>\n",
       "      <td>Gujarat</td>\n",
       "      <td>1</td>\n",
       "    </tr>\n",
       "    <tr>\n",
       "      <td>332</td>\n",
       "      <td>2020-04-03</td>\n",
       "      <td>Gujarat</td>\n",
       "      <td>7</td>\n",
       "    </tr>\n",
       "    <tr>\n",
       "      <td>353</td>\n",
       "      <td>2020-04-04</td>\n",
       "      <td>Gujarat</td>\n",
       "      <td>13</td>\n",
       "    </tr>\n",
       "    <tr>\n",
       "      <td>369</td>\n",
       "      <td>2020-04-05</td>\n",
       "      <td>Gujarat</td>\n",
       "      <td>20</td>\n",
       "    </tr>\n",
       "    <tr>\n",
       "      <td>388</td>\n",
       "      <td>2020-04-06</td>\n",
       "      <td>Gujarat</td>\n",
       "      <td>18</td>\n",
       "    </tr>\n",
       "    <tr>\n",
       "      <td>409</td>\n",
       "      <td>2020-04-07</td>\n",
       "      <td>Gujarat</td>\n",
       "      <td>29</td>\n",
       "    </tr>\n",
       "    <tr>\n",
       "      <td>428</td>\n",
       "      <td>2020-04-08</td>\n",
       "      <td>Gujarat</td>\n",
       "      <td>11</td>\n",
       "    </tr>\n",
       "    <tr>\n",
       "      <td>447</td>\n",
       "      <td>2020-04-09</td>\n",
       "      <td>Gujarat</td>\n",
       "      <td>76</td>\n",
       "    </tr>\n",
       "    <tr>\n",
       "      <td>467</td>\n",
       "      <td>2020-04-10</td>\n",
       "      <td>Gujarat</td>\n",
       "      <td>116</td>\n",
       "    </tr>\n",
       "    <tr>\n",
       "      <td>489</td>\n",
       "      <td>2020-04-11</td>\n",
       "      <td>Gujarat</td>\n",
       "      <td>90</td>\n",
       "    </tr>\n",
       "    <tr>\n",
       "      <td>509</td>\n",
       "      <td>2020-04-12</td>\n",
       "      <td>Gujarat</td>\n",
       "      <td>48</td>\n",
       "    </tr>\n",
       "    <tr>\n",
       "      <td>528</td>\n",
       "      <td>2020-04-13</td>\n",
       "      <td>Gujarat</td>\n",
       "      <td>56</td>\n",
       "    </tr>\n",
       "    <tr>\n",
       "      <td>549</td>\n",
       "      <td>2020-04-14</td>\n",
       "      <td>Gujarat</td>\n",
       "      <td>78</td>\n",
       "    </tr>\n",
       "    <tr>\n",
       "      <td>569</td>\n",
       "      <td>2020-04-15</td>\n",
       "      <td>Gujarat</td>\n",
       "      <td>116</td>\n",
       "    </tr>\n",
       "    <tr>\n",
       "      <td>591</td>\n",
       "      <td>2020-04-16</td>\n",
       "      <td>Gujarat</td>\n",
       "      <td>163</td>\n",
       "    </tr>\n",
       "    <tr>\n",
       "      <td>610</td>\n",
       "      <td>2020-04-17</td>\n",
       "      <td>Gujarat</td>\n",
       "      <td>170</td>\n",
       "    </tr>\n",
       "    <tr>\n",
       "      <td>631</td>\n",
       "      <td>2020-04-18</td>\n",
       "      <td>Gujarat</td>\n",
       "      <td>277</td>\n",
       "    </tr>\n",
       "    <tr>\n",
       "      <td>656</td>\n",
       "      <td>2020-04-19</td>\n",
       "      <td>Gujarat</td>\n",
       "      <td>367</td>\n",
       "    </tr>\n",
       "  </tbody>\n",
       "</table>\n",
       "</div>"
      ],
      "text/plain": [
       "    Date Announced Detected State  Patient Number\n",
       "74      2020-03-19        Gujarat               2\n",
       "87      2020-03-20        Gujarat               5\n",
       "101     2020-03-21        Gujarat               7\n",
       "117     2020-03-22        Gujarat               4\n",
       "132     2020-03-23        Gujarat              12\n",
       "145     2020-03-24        Gujarat               6\n",
       "163     2020-03-25        Gujarat               2\n",
       "182     2020-03-26        Gujarat               6\n",
       "201     2020-03-27        Gujarat               3\n",
       "219     2020-03-28        Gujarat               8\n",
       "236     2020-03-29        Gujarat               8\n",
       "252     2020-03-30        Gujarat               7\n",
       "271     2020-03-31        Gujarat               4\n",
       "291     2020-04-01        Gujarat              13\n",
       "310     2020-04-02        Gujarat               1\n",
       "332     2020-04-03        Gujarat               7\n",
       "353     2020-04-04        Gujarat              13\n",
       "369     2020-04-05        Gujarat              20\n",
       "388     2020-04-06        Gujarat              18\n",
       "409     2020-04-07        Gujarat              29\n",
       "428     2020-04-08        Gujarat              11\n",
       "447     2020-04-09        Gujarat              76\n",
       "467     2020-04-10        Gujarat             116\n",
       "489     2020-04-11        Gujarat              90\n",
       "509     2020-04-12        Gujarat              48\n",
       "528     2020-04-13        Gujarat              56\n",
       "549     2020-04-14        Gujarat              78\n",
       "569     2020-04-15        Gujarat             116\n",
       "591     2020-04-16        Gujarat             163\n",
       "610     2020-04-17        Gujarat             170\n",
       "631     2020-04-18        Gujarat             277\n",
       "656     2020-04-19        Gujarat             367"
      ]
     },
     "execution_count": 102,
     "metadata": {},
     "output_type": "execute_result"
    }
   ],
   "source": [
    "df2_Guj"
   ]
  },
  {
   "cell_type": "code",
   "execution_count": 103,
   "metadata": {},
   "outputs": [
    {
     "data": {
      "text/plain": [
       "array(['Kerala', 'Delhi', 'Telangana', 'Rajasthan', 'Haryana',\n",
       "       'Uttar Pradesh', 'Ladakh', 'Tamil Nadu', 'Jammu and Kashmir',\n",
       "       'Karnataka', 'Maharashtra', 'Punjab', 'Andhra Pradesh',\n",
       "       'Uttarakhand', 'Odisha', 'Puducherry', 'West Bengal', 'Chandigarh',\n",
       "       'Chhattisgarh', 'Gujarat', 'Himachal Pradesh', 'Madhya Pradesh',\n",
       "       'Bihar', 'Manipur', 'Goa', 'Mizoram',\n",
       "       'Andaman and Nicobar Islands', 'Assam', 'Jharkhand',\n",
       "       'Arunachal Pradesh', 'Tripura', 'Nagaland', 'Meghalaya',\n",
       "       'Bandipore', 'Baramula', 'Dehradun', 'Munger', 'Nagaur',\n",
       "       'Ahmadabad', 'Ajmer', 'Anantapur', 'Anantnag', 'Aravalli',\n",
       "       'Ariyalur', 'Baleshwar', 'Banswara', 'Bhadrak', 'Bidar', 'Bokaro',\n",
       "       'Chennai', 'Chittoor', 'Dindigul', 'East Godavari', 'Gadag',\n",
       "       'Guntur', 'Jaipur', 'Jajapur', 'Jalandhar', 'Jhunjhunu', 'Jodhpur',\n",
       "       'Kachchh', 'Kalaburagi', 'Kannur', 'Kota', 'Krishna', 'Kupwara',\n",
       "       'Kurnool', 'Mahesana', 'Mahisagar', 'Nagapattinam', 'Panch Mahals',\n",
       "       'Panchkula', 'Perambalur', 'Pudukkottai', 'Rajkot',\n",
       "       'Ramanathapuram', 'Sivaganga', 'South Andaman', 'Sundargarh',\n",
       "       'Surat', 'Tenkasi', 'Thiruvallur', 'Thiruvarur', 'Thoothukkudi',\n",
       "       'Tiruchirappalli', 'Tiruppur', 'Vadodara', 'Vijayapura',\n",
       "       'Viluppuram', 'Y.S.R.'], dtype=object)"
      ]
     },
     "execution_count": 103,
     "metadata": {},
     "output_type": "execute_result"
    }
   ],
   "source": [
    "df2['Detected State'].unique()"
   ]
  },
  {
   "cell_type": "code",
   "execution_count": 104,
   "metadata": {},
   "outputs": [],
   "source": [
    "df2_deli=df2[df2['Detected State']=='Delhi']"
   ]
  },
  {
   "cell_type": "code",
   "execution_count": 105,
   "metadata": {},
   "outputs": [
    {
     "data": {
      "text/html": [
       "<div>\n",
       "<style scoped>\n",
       "    .dataframe tbody tr th:only-of-type {\n",
       "        vertical-align: middle;\n",
       "    }\n",
       "\n",
       "    .dataframe tbody tr th {\n",
       "        vertical-align: top;\n",
       "    }\n",
       "\n",
       "    .dataframe thead th {\n",
       "        text-align: right;\n",
       "    }\n",
       "</style>\n",
       "<table border=\"1\" class=\"dataframe\">\n",
       "  <thead>\n",
       "    <tr style=\"text-align: right;\">\n",
       "      <th></th>\n",
       "      <th>Date Announced</th>\n",
       "      <th>Detected State</th>\n",
       "      <th>Patient Number</th>\n",
       "    </tr>\n",
       "  </thead>\n",
       "  <tbody>\n",
       "    <tr>\n",
       "      <td>2</td>\n",
       "      <td>2020-02-03</td>\n",
       "      <td>Delhi</td>\n",
       "      <td>1</td>\n",
       "    </tr>\n",
       "    <tr>\n",
       "      <td>8</td>\n",
       "      <td>2020-03-05</td>\n",
       "      <td>Delhi</td>\n",
       "      <td>1</td>\n",
       "    </tr>\n",
       "    <tr>\n",
       "      <td>10</td>\n",
       "      <td>2020-03-07</td>\n",
       "      <td>Delhi</td>\n",
       "      <td>1</td>\n",
       "    </tr>\n",
       "    <tr>\n",
       "      <td>14</td>\n",
       "      <td>2020-03-09</td>\n",
       "      <td>Delhi</td>\n",
       "      <td>1</td>\n",
       "    </tr>\n",
       "    <tr>\n",
       "      <td>25</td>\n",
       "      <td>2020-03-11</td>\n",
       "      <td>Delhi</td>\n",
       "      <td>1</td>\n",
       "    </tr>\n",
       "    <tr>\n",
       "      <td>29</td>\n",
       "      <td>2020-03-12</td>\n",
       "      <td>Delhi</td>\n",
       "      <td>1</td>\n",
       "    </tr>\n",
       "    <tr>\n",
       "      <td>34</td>\n",
       "      <td>2020-03-13</td>\n",
       "      <td>Delhi</td>\n",
       "      <td>1</td>\n",
       "    </tr>\n",
       "    <tr>\n",
       "      <td>52</td>\n",
       "      <td>2020-03-17</td>\n",
       "      <td>Delhi</td>\n",
       "      <td>3</td>\n",
       "    </tr>\n",
       "    <tr>\n",
       "      <td>61</td>\n",
       "      <td>2020-03-18</td>\n",
       "      <td>Delhi</td>\n",
       "      <td>1</td>\n",
       "    </tr>\n",
       "    <tr>\n",
       "      <td>73</td>\n",
       "      <td>2020-03-19</td>\n",
       "      <td>Delhi</td>\n",
       "      <td>3</td>\n",
       "    </tr>\n",
       "    <tr>\n",
       "      <td>86</td>\n",
       "      <td>2020-03-20</td>\n",
       "      <td>Delhi</td>\n",
       "      <td>6</td>\n",
       "    </tr>\n",
       "    <tr>\n",
       "      <td>100</td>\n",
       "      <td>2020-03-21</td>\n",
       "      <td>Delhi</td>\n",
       "      <td>7</td>\n",
       "    </tr>\n",
       "    <tr>\n",
       "      <td>116</td>\n",
       "      <td>2020-03-22</td>\n",
       "      <td>Delhi</td>\n",
       "      <td>1</td>\n",
       "    </tr>\n",
       "    <tr>\n",
       "      <td>131</td>\n",
       "      <td>2020-03-23</td>\n",
       "      <td>Delhi</td>\n",
       "      <td>2</td>\n",
       "    </tr>\n",
       "    <tr>\n",
       "      <td>161</td>\n",
       "      <td>2020-03-25</td>\n",
       "      <td>Delhi</td>\n",
       "      <td>5</td>\n",
       "    </tr>\n",
       "    <tr>\n",
       "      <td>181</td>\n",
       "      <td>2020-03-26</td>\n",
       "      <td>Delhi</td>\n",
       "      <td>4</td>\n",
       "    </tr>\n",
       "    <tr>\n",
       "      <td>200</td>\n",
       "      <td>2020-03-27</td>\n",
       "      <td>Delhi</td>\n",
       "      <td>1</td>\n",
       "    </tr>\n",
       "    <tr>\n",
       "      <td>218</td>\n",
       "      <td>2020-03-28</td>\n",
       "      <td>Delhi</td>\n",
       "      <td>9</td>\n",
       "    </tr>\n",
       "    <tr>\n",
       "      <td>234</td>\n",
       "      <td>2020-03-29</td>\n",
       "      <td>Delhi</td>\n",
       "      <td>23</td>\n",
       "    </tr>\n",
       "    <tr>\n",
       "      <td>251</td>\n",
       "      <td>2020-03-30</td>\n",
       "      <td>Delhi</td>\n",
       "      <td>25</td>\n",
       "    </tr>\n",
       "    <tr>\n",
       "      <td>270</td>\n",
       "      <td>2020-03-31</td>\n",
       "      <td>Delhi</td>\n",
       "      <td>23</td>\n",
       "    </tr>\n",
       "    <tr>\n",
       "      <td>290</td>\n",
       "      <td>2020-04-01</td>\n",
       "      <td>Delhi</td>\n",
       "      <td>32</td>\n",
       "    </tr>\n",
       "    <tr>\n",
       "      <td>309</td>\n",
       "      <td>2020-04-02</td>\n",
       "      <td>Delhi</td>\n",
       "      <td>141</td>\n",
       "    </tr>\n",
       "    <tr>\n",
       "      <td>330</td>\n",
       "      <td>2020-04-03</td>\n",
       "      <td>Delhi</td>\n",
       "      <td>93</td>\n",
       "    </tr>\n",
       "    <tr>\n",
       "      <td>351</td>\n",
       "      <td>2020-04-04</td>\n",
       "      <td>Delhi</td>\n",
       "      <td>59</td>\n",
       "    </tr>\n",
       "    <tr>\n",
       "      <td>368</td>\n",
       "      <td>2020-04-05</td>\n",
       "      <td>Delhi</td>\n",
       "      <td>58</td>\n",
       "    </tr>\n",
       "    <tr>\n",
       "      <td>387</td>\n",
       "      <td>2020-04-06</td>\n",
       "      <td>Delhi</td>\n",
       "      <td>22</td>\n",
       "    </tr>\n",
       "    <tr>\n",
       "      <td>408</td>\n",
       "      <td>2020-04-07</td>\n",
       "      <td>Delhi</td>\n",
       "      <td>51</td>\n",
       "    </tr>\n",
       "    <tr>\n",
       "      <td>427</td>\n",
       "      <td>2020-04-08</td>\n",
       "      <td>Delhi</td>\n",
       "      <td>93</td>\n",
       "    </tr>\n",
       "    <tr>\n",
       "      <td>446</td>\n",
       "      <td>2020-04-09</td>\n",
       "      <td>Delhi</td>\n",
       "      <td>51</td>\n",
       "    </tr>\n",
       "    <tr>\n",
       "      <td>466</td>\n",
       "      <td>2020-04-10</td>\n",
       "      <td>Delhi</td>\n",
       "      <td>183</td>\n",
       "    </tr>\n",
       "    <tr>\n",
       "      <td>488</td>\n",
       "      <td>2020-04-11</td>\n",
       "      <td>Delhi</td>\n",
       "      <td>166</td>\n",
       "    </tr>\n",
       "    <tr>\n",
       "      <td>508</td>\n",
       "      <td>2020-04-12</td>\n",
       "      <td>Delhi</td>\n",
       "      <td>85</td>\n",
       "    </tr>\n",
       "    <tr>\n",
       "      <td>527</td>\n",
       "      <td>2020-04-13</td>\n",
       "      <td>Delhi</td>\n",
       "      <td>356</td>\n",
       "    </tr>\n",
       "    <tr>\n",
       "      <td>548</td>\n",
       "      <td>2020-04-14</td>\n",
       "      <td>Delhi</td>\n",
       "      <td>51</td>\n",
       "    </tr>\n",
       "    <tr>\n",
       "      <td>568</td>\n",
       "      <td>2020-04-15</td>\n",
       "      <td>Delhi</td>\n",
       "      <td>17</td>\n",
       "    </tr>\n",
       "    <tr>\n",
       "      <td>590</td>\n",
       "      <td>2020-04-16</td>\n",
       "      <td>Delhi</td>\n",
       "      <td>62</td>\n",
       "    </tr>\n",
       "    <tr>\n",
       "      <td>609</td>\n",
       "      <td>2020-04-17</td>\n",
       "      <td>Delhi</td>\n",
       "      <td>67</td>\n",
       "    </tr>\n",
       "    <tr>\n",
       "      <td>630</td>\n",
       "      <td>2020-04-18</td>\n",
       "      <td>Delhi</td>\n",
       "      <td>186</td>\n",
       "    </tr>\n",
       "  </tbody>\n",
       "</table>\n",
       "</div>"
      ],
      "text/plain": [
       "    Date Announced Detected State  Patient Number\n",
       "2       2020-02-03          Delhi               1\n",
       "8       2020-03-05          Delhi               1\n",
       "10      2020-03-07          Delhi               1\n",
       "14      2020-03-09          Delhi               1\n",
       "25      2020-03-11          Delhi               1\n",
       "29      2020-03-12          Delhi               1\n",
       "34      2020-03-13          Delhi               1\n",
       "52      2020-03-17          Delhi               3\n",
       "61      2020-03-18          Delhi               1\n",
       "73      2020-03-19          Delhi               3\n",
       "86      2020-03-20          Delhi               6\n",
       "100     2020-03-21          Delhi               7\n",
       "116     2020-03-22          Delhi               1\n",
       "131     2020-03-23          Delhi               2\n",
       "161     2020-03-25          Delhi               5\n",
       "181     2020-03-26          Delhi               4\n",
       "200     2020-03-27          Delhi               1\n",
       "218     2020-03-28          Delhi               9\n",
       "234     2020-03-29          Delhi              23\n",
       "251     2020-03-30          Delhi              25\n",
       "270     2020-03-31          Delhi              23\n",
       "290     2020-04-01          Delhi              32\n",
       "309     2020-04-02          Delhi             141\n",
       "330     2020-04-03          Delhi              93\n",
       "351     2020-04-04          Delhi              59\n",
       "368     2020-04-05          Delhi              58\n",
       "387     2020-04-06          Delhi              22\n",
       "408     2020-04-07          Delhi              51\n",
       "427     2020-04-08          Delhi              93\n",
       "446     2020-04-09          Delhi              51\n",
       "466     2020-04-10          Delhi             183\n",
       "488     2020-04-11          Delhi             166\n",
       "508     2020-04-12          Delhi              85\n",
       "527     2020-04-13          Delhi             356\n",
       "548     2020-04-14          Delhi              51\n",
       "568     2020-04-15          Delhi              17\n",
       "590     2020-04-16          Delhi              62\n",
       "609     2020-04-17          Delhi              67\n",
       "630     2020-04-18          Delhi             186"
      ]
     },
     "execution_count": 105,
     "metadata": {},
     "output_type": "execute_result"
    }
   ],
   "source": [
    "df2_deli"
   ]
  },
  {
   "cell_type": "code",
   "execution_count": 106,
   "metadata": {},
   "outputs": [],
   "source": [
    "df2_kerala=df2[df2['Detected State']=='Kerala']"
   ]
  },
  {
   "cell_type": "code",
   "execution_count": 108,
   "metadata": {},
   "outputs": [],
   "source": [
    "df2_Mah=df2[df2['Detected State']=='Maharashtra']"
   ]
  },
  {
   "cell_type": "code",
   "execution_count": 110,
   "metadata": {},
   "outputs": [],
   "source": [
    "mah=go.Scatter(\n",
    "    x=df2_Mah['Date Announced'],\n",
    "    y=df2_Mah['Patient Number'],\n",
    "    text=df2_Mah['Detected State'],\n",
    "    mode=\"lines+markers\"\n",
    ")\n"
   ]
  },
  {
   "cell_type": "code",
   "execution_count": 111,
   "metadata": {},
   "outputs": [],
   "source": [
    "guj=go.Scatter(\n",
    "    x=df2_Guj['Date Announced'],\n",
    "    y=df2_Guj['Patient Number'],\n",
    "    text=df2_Guj['Detected State'],\n",
    "    mode=\"lines+markers\"\n",
    ")"
   ]
  },
  {
   "cell_type": "code",
   "execution_count": 112,
   "metadata": {},
   "outputs": [],
   "source": [
    "Kerala=go.Scatter(\n",
    "    x=df2_kerala['Date Announced'],\n",
    "    y=df2_kerala['Patient Number'],\n",
    "    text=df2_kerala['Detected State'],\n",
    "    mode=\"lines+markers\"\n",
    ")"
   ]
  },
  {
   "cell_type": "code",
   "execution_count": 113,
   "metadata": {},
   "outputs": [],
   "source": [
    "delhi=go.Scatter(\n",
    "    x=df2_deli['Date Announced'],\n",
    "    y=df2_deli['Patient Number'],\n",
    "    text=df2_deli['Detected State'],\n",
    "    mode=\"lines+markers\"\n",
    ")"
   ]
  },
  {
   "cell_type": "code",
   "execution_count": 114,
   "metadata": {},
   "outputs": [],
   "source": [
    "data=[mah,guj,Kerala,delhi]"
   ]
  },
  {
   "cell_type": "code",
   "execution_count": null,
   "metadata": {},
   "outputs": [],
   "source": [
    "layout1=dict(\n",
    "    xaxis={\n",
    "        'title': \"Date\"\n",
    "\n",
    "    },\n",
    "    yaxis={\n",
    "        'title': \"Number of cases\"\n",
    "\n",
    "    }\n",
    ")\n"
   ]
  },
  {
   "cell_type": "code",
   "execution_count": 115,
   "metadata": {},
   "outputs": [
    {
     "data": {
      "application/vnd.plotly.v1+json": {
       "config": {
        "plotlyServerURL": "https://plot.ly"
       },
       "data": [
        {
         "mode": "lines+markers",
         "text": [
          "Maharashtra",
          "Maharashtra",
          "Maharashtra",
          "Maharashtra",
          "Maharashtra",
          "Maharashtra",
          "Maharashtra",
          "Maharashtra",
          "Maharashtra",
          "Maharashtra",
          "Maharashtra",
          "Maharashtra",
          "Maharashtra",
          "Maharashtra",
          "Maharashtra",
          "Maharashtra",
          "Maharashtra",
          "Maharashtra",
          "Maharashtra",
          "Maharashtra",
          "Maharashtra",
          "Maharashtra",
          "Maharashtra",
          "Maharashtra",
          "Maharashtra",
          "Maharashtra",
          "Maharashtra",
          "Maharashtra",
          "Maharashtra",
          "Maharashtra",
          "Maharashtra",
          "Maharashtra",
          "Maharashtra",
          "Maharashtra",
          "Maharashtra",
          "Maharashtra",
          "Maharashtra",
          "Maharashtra",
          "Maharashtra",
          "Maharashtra",
          "Maharashtra",
          "Maharashtra"
         ],
         "type": "scatter",
         "x": [
          "2020-03-09T00:00:00",
          "2020-03-10T00:00:00",
          "2020-03-11T00:00:00",
          "2020-03-12T00:00:00",
          "2020-03-13T00:00:00",
          "2020-03-14T00:00:00",
          "2020-03-15T00:00:00",
          "2020-03-16T00:00:00",
          "2020-03-17T00:00:00",
          "2020-03-18T00:00:00",
          "2020-03-19T00:00:00",
          "2020-03-20T00:00:00",
          "2020-03-21T00:00:00",
          "2020-03-22T00:00:00",
          "2020-03-23T00:00:00",
          "2020-03-24T00:00:00",
          "2020-03-25T00:00:00",
          "2020-03-26T00:00:00",
          "2020-03-27T00:00:00",
          "2020-03-28T00:00:00",
          "2020-03-29T00:00:00",
          "2020-03-30T00:00:00",
          "2020-03-31T00:00:00",
          "2020-04-01T00:00:00",
          "2020-04-02T00:00:00",
          "2020-04-03T00:00:00",
          "2020-04-04T00:00:00",
          "2020-04-05T00:00:00",
          "2020-04-06T00:00:00",
          "2020-04-07T00:00:00",
          "2020-04-08T00:00:00",
          "2020-04-09T00:00:00",
          "2020-04-10T00:00:00",
          "2020-04-11T00:00:00",
          "2020-04-12T00:00:00",
          "2020-04-13T00:00:00",
          "2020-04-14T00:00:00",
          "2020-04-15T00:00:00",
          "2020-04-16T00:00:00",
          "2020-04-17T00:00:00",
          "2020-04-18T00:00:00",
          "2020-04-19T00:00:00"
         ],
         "y": [
          2,
          3,
          5,
          4,
          3,
          9,
          6,
          7,
          2,
          4,
          3,
          4,
          12,
          10,
          15,
          18,
          15,
          3,
          28,
          28,
          22,
          17,
          82,
          33,
          88,
          67,
          145,
          113,
          120,
          150,
          117,
          229,
          210,
          187,
          221,
          352,
          346,
          236,
          285,
          120,
          327,
          552
         ]
        },
        {
         "mode": "lines+markers",
         "text": [
          "Gujarat",
          "Gujarat",
          "Gujarat",
          "Gujarat",
          "Gujarat",
          "Gujarat",
          "Gujarat",
          "Gujarat",
          "Gujarat",
          "Gujarat",
          "Gujarat",
          "Gujarat",
          "Gujarat",
          "Gujarat",
          "Gujarat",
          "Gujarat",
          "Gujarat",
          "Gujarat",
          "Gujarat",
          "Gujarat",
          "Gujarat",
          "Gujarat",
          "Gujarat",
          "Gujarat",
          "Gujarat",
          "Gujarat",
          "Gujarat",
          "Gujarat",
          "Gujarat",
          "Gujarat",
          "Gujarat",
          "Gujarat"
         ],
         "type": "scatter",
         "x": [
          "2020-03-19T00:00:00",
          "2020-03-20T00:00:00",
          "2020-03-21T00:00:00",
          "2020-03-22T00:00:00",
          "2020-03-23T00:00:00",
          "2020-03-24T00:00:00",
          "2020-03-25T00:00:00",
          "2020-03-26T00:00:00",
          "2020-03-27T00:00:00",
          "2020-03-28T00:00:00",
          "2020-03-29T00:00:00",
          "2020-03-30T00:00:00",
          "2020-03-31T00:00:00",
          "2020-04-01T00:00:00",
          "2020-04-02T00:00:00",
          "2020-04-03T00:00:00",
          "2020-04-04T00:00:00",
          "2020-04-05T00:00:00",
          "2020-04-06T00:00:00",
          "2020-04-07T00:00:00",
          "2020-04-08T00:00:00",
          "2020-04-09T00:00:00",
          "2020-04-10T00:00:00",
          "2020-04-11T00:00:00",
          "2020-04-12T00:00:00",
          "2020-04-13T00:00:00",
          "2020-04-14T00:00:00",
          "2020-04-15T00:00:00",
          "2020-04-16T00:00:00",
          "2020-04-17T00:00:00",
          "2020-04-18T00:00:00",
          "2020-04-19T00:00:00"
         ],
         "y": [
          2,
          5,
          7,
          4,
          12,
          6,
          2,
          6,
          3,
          8,
          8,
          7,
          4,
          13,
          1,
          7,
          13,
          20,
          18,
          29,
          11,
          76,
          116,
          90,
          48,
          56,
          78,
          116,
          163,
          170,
          277,
          367
         ]
        },
        {
         "mode": "lines+markers",
         "text": [
          "Kerala",
          "Kerala",
          "Kerala",
          "Kerala",
          "Kerala",
          "Kerala",
          "Kerala",
          "Kerala",
          "Kerala",
          "Kerala",
          "Kerala",
          "Kerala",
          "Kerala",
          "Kerala",
          "Kerala",
          "Kerala",
          "Kerala",
          "Kerala",
          "Kerala",
          "Kerala",
          "Kerala",
          "Kerala",
          "Kerala",
          "Kerala",
          "Kerala",
          "Kerala",
          "Kerala",
          "Kerala",
          "Kerala",
          "Kerala",
          "Kerala",
          "Kerala",
          "Kerala",
          "Kerala",
          "Kerala",
          "Kerala",
          "Kerala",
          "Kerala",
          "Kerala",
          "Kerala",
          "Kerala"
         ],
         "type": "scatter",
         "x": [
          "2020-01-30T00:00:00",
          "2020-02-02T00:00:00",
          "2020-03-08T00:00:00",
          "2020-03-09T00:00:00",
          "2020-03-10T00:00:00",
          "2020-03-12T00:00:00",
          "2020-03-13T00:00:00",
          "2020-03-15T00:00:00",
          "2020-03-16T00:00:00",
          "2020-03-19T00:00:00",
          "2020-03-20T00:00:00",
          "2020-03-21T00:00:00",
          "2020-03-22T00:00:00",
          "2020-03-23T00:00:00",
          "2020-03-24T00:00:00",
          "2020-03-25T00:00:00",
          "2020-03-26T00:00:00",
          "2020-03-27T00:00:00",
          "2020-03-28T00:00:00",
          "2020-03-29T00:00:00",
          "2020-03-30T00:00:00",
          "2020-03-31T00:00:00",
          "2020-04-01T00:00:00",
          "2020-04-02T00:00:00",
          "2020-04-03T00:00:00",
          "2020-04-04T00:00:00",
          "2020-04-05T00:00:00",
          "2020-04-06T00:00:00",
          "2020-04-07T00:00:00",
          "2020-04-08T00:00:00",
          "2020-04-09T00:00:00",
          "2020-04-10T00:00:00",
          "2020-04-11T00:00:00",
          "2020-04-12T00:00:00",
          "2020-04-13T00:00:00",
          "2020-04-14T00:00:00",
          "2020-04-15T00:00:00",
          "2020-04-16T00:00:00",
          "2020-04-17T00:00:00",
          "2020-04-18T00:00:00",
          "2020-04-19T00:00:00"
         ],
         "y": [
          1,
          2,
          5,
          1,
          8,
          2,
          3,
          2,
          3,
          1,
          12,
          12,
          15,
          28,
          14,
          9,
          19,
          39,
          6,
          20,
          32,
          7,
          24,
          21,
          9,
          11,
          8,
          13,
          8,
          9,
          12,
          7,
          10,
          2,
          3,
          8,
          1,
          7,
          1,
          4,
          2
         ]
        },
        {
         "mode": "lines+markers",
         "text": [
          "Delhi",
          "Delhi",
          "Delhi",
          "Delhi",
          "Delhi",
          "Delhi",
          "Delhi",
          "Delhi",
          "Delhi",
          "Delhi",
          "Delhi",
          "Delhi",
          "Delhi",
          "Delhi",
          "Delhi",
          "Delhi",
          "Delhi",
          "Delhi",
          "Delhi",
          "Delhi",
          "Delhi",
          "Delhi",
          "Delhi",
          "Delhi",
          "Delhi",
          "Delhi",
          "Delhi",
          "Delhi",
          "Delhi",
          "Delhi",
          "Delhi",
          "Delhi",
          "Delhi",
          "Delhi",
          "Delhi",
          "Delhi",
          "Delhi",
          "Delhi",
          "Delhi"
         ],
         "type": "scatter",
         "x": [
          "2020-02-03T00:00:00",
          "2020-03-05T00:00:00",
          "2020-03-07T00:00:00",
          "2020-03-09T00:00:00",
          "2020-03-11T00:00:00",
          "2020-03-12T00:00:00",
          "2020-03-13T00:00:00",
          "2020-03-17T00:00:00",
          "2020-03-18T00:00:00",
          "2020-03-19T00:00:00",
          "2020-03-20T00:00:00",
          "2020-03-21T00:00:00",
          "2020-03-22T00:00:00",
          "2020-03-23T00:00:00",
          "2020-03-25T00:00:00",
          "2020-03-26T00:00:00",
          "2020-03-27T00:00:00",
          "2020-03-28T00:00:00",
          "2020-03-29T00:00:00",
          "2020-03-30T00:00:00",
          "2020-03-31T00:00:00",
          "2020-04-01T00:00:00",
          "2020-04-02T00:00:00",
          "2020-04-03T00:00:00",
          "2020-04-04T00:00:00",
          "2020-04-05T00:00:00",
          "2020-04-06T00:00:00",
          "2020-04-07T00:00:00",
          "2020-04-08T00:00:00",
          "2020-04-09T00:00:00",
          "2020-04-10T00:00:00",
          "2020-04-11T00:00:00",
          "2020-04-12T00:00:00",
          "2020-04-13T00:00:00",
          "2020-04-14T00:00:00",
          "2020-04-15T00:00:00",
          "2020-04-16T00:00:00",
          "2020-04-17T00:00:00",
          "2020-04-18T00:00:00"
         ],
         "y": [
          1,
          1,
          1,
          1,
          1,
          1,
          1,
          3,
          1,
          3,
          6,
          7,
          1,
          2,
          5,
          4,
          1,
          9,
          23,
          25,
          23,
          32,
          141,
          93,
          59,
          58,
          22,
          51,
          93,
          51,
          183,
          166,
          85,
          356,
          51,
          17,
          62,
          67,
          186
         ]
        }
       ],
       "layout": {
        "template": {
         "data": {
          "bar": [
           {
            "error_x": {
             "color": "#2a3f5f"
            },
            "error_y": {
             "color": "#2a3f5f"
            },
            "marker": {
             "line": {
              "color": "#E5ECF6",
              "width": 0.5
             }
            },
            "type": "bar"
           }
          ],
          "barpolar": [
           {
            "marker": {
             "line": {
              "color": "#E5ECF6",
              "width": 0.5
             }
            },
            "type": "barpolar"
           }
          ],
          "carpet": [
           {
            "aaxis": {
             "endlinecolor": "#2a3f5f",
             "gridcolor": "white",
             "linecolor": "white",
             "minorgridcolor": "white",
             "startlinecolor": "#2a3f5f"
            },
            "baxis": {
             "endlinecolor": "#2a3f5f",
             "gridcolor": "white",
             "linecolor": "white",
             "minorgridcolor": "white",
             "startlinecolor": "#2a3f5f"
            },
            "type": "carpet"
           }
          ],
          "choropleth": [
           {
            "colorbar": {
             "outlinewidth": 0,
             "ticks": ""
            },
            "type": "choropleth"
           }
          ],
          "contour": [
           {
            "colorbar": {
             "outlinewidth": 0,
             "ticks": ""
            },
            "colorscale": [
             [
              0,
              "#0d0887"
             ],
             [
              0.1111111111111111,
              "#46039f"
             ],
             [
              0.2222222222222222,
              "#7201a8"
             ],
             [
              0.3333333333333333,
              "#9c179e"
             ],
             [
              0.4444444444444444,
              "#bd3786"
             ],
             [
              0.5555555555555556,
              "#d8576b"
             ],
             [
              0.6666666666666666,
              "#ed7953"
             ],
             [
              0.7777777777777778,
              "#fb9f3a"
             ],
             [
              0.8888888888888888,
              "#fdca26"
             ],
             [
              1,
              "#f0f921"
             ]
            ],
            "type": "contour"
           }
          ],
          "contourcarpet": [
           {
            "colorbar": {
             "outlinewidth": 0,
             "ticks": ""
            },
            "type": "contourcarpet"
           }
          ],
          "heatmap": [
           {
            "colorbar": {
             "outlinewidth": 0,
             "ticks": ""
            },
            "colorscale": [
             [
              0,
              "#0d0887"
             ],
             [
              0.1111111111111111,
              "#46039f"
             ],
             [
              0.2222222222222222,
              "#7201a8"
             ],
             [
              0.3333333333333333,
              "#9c179e"
             ],
             [
              0.4444444444444444,
              "#bd3786"
             ],
             [
              0.5555555555555556,
              "#d8576b"
             ],
             [
              0.6666666666666666,
              "#ed7953"
             ],
             [
              0.7777777777777778,
              "#fb9f3a"
             ],
             [
              0.8888888888888888,
              "#fdca26"
             ],
             [
              1,
              "#f0f921"
             ]
            ],
            "type": "heatmap"
           }
          ],
          "heatmapgl": [
           {
            "colorbar": {
             "outlinewidth": 0,
             "ticks": ""
            },
            "colorscale": [
             [
              0,
              "#0d0887"
             ],
             [
              0.1111111111111111,
              "#46039f"
             ],
             [
              0.2222222222222222,
              "#7201a8"
             ],
             [
              0.3333333333333333,
              "#9c179e"
             ],
             [
              0.4444444444444444,
              "#bd3786"
             ],
             [
              0.5555555555555556,
              "#d8576b"
             ],
             [
              0.6666666666666666,
              "#ed7953"
             ],
             [
              0.7777777777777778,
              "#fb9f3a"
             ],
             [
              0.8888888888888888,
              "#fdca26"
             ],
             [
              1,
              "#f0f921"
             ]
            ],
            "type": "heatmapgl"
           }
          ],
          "histogram": [
           {
            "marker": {
             "colorbar": {
              "outlinewidth": 0,
              "ticks": ""
             }
            },
            "type": "histogram"
           }
          ],
          "histogram2d": [
           {
            "colorbar": {
             "outlinewidth": 0,
             "ticks": ""
            },
            "colorscale": [
             [
              0,
              "#0d0887"
             ],
             [
              0.1111111111111111,
              "#46039f"
             ],
             [
              0.2222222222222222,
              "#7201a8"
             ],
             [
              0.3333333333333333,
              "#9c179e"
             ],
             [
              0.4444444444444444,
              "#bd3786"
             ],
             [
              0.5555555555555556,
              "#d8576b"
             ],
             [
              0.6666666666666666,
              "#ed7953"
             ],
             [
              0.7777777777777778,
              "#fb9f3a"
             ],
             [
              0.8888888888888888,
              "#fdca26"
             ],
             [
              1,
              "#f0f921"
             ]
            ],
            "type": "histogram2d"
           }
          ],
          "histogram2dcontour": [
           {
            "colorbar": {
             "outlinewidth": 0,
             "ticks": ""
            },
            "colorscale": [
             [
              0,
              "#0d0887"
             ],
             [
              0.1111111111111111,
              "#46039f"
             ],
             [
              0.2222222222222222,
              "#7201a8"
             ],
             [
              0.3333333333333333,
              "#9c179e"
             ],
             [
              0.4444444444444444,
              "#bd3786"
             ],
             [
              0.5555555555555556,
              "#d8576b"
             ],
             [
              0.6666666666666666,
              "#ed7953"
             ],
             [
              0.7777777777777778,
              "#fb9f3a"
             ],
             [
              0.8888888888888888,
              "#fdca26"
             ],
             [
              1,
              "#f0f921"
             ]
            ],
            "type": "histogram2dcontour"
           }
          ],
          "mesh3d": [
           {
            "colorbar": {
             "outlinewidth": 0,
             "ticks": ""
            },
            "type": "mesh3d"
           }
          ],
          "parcoords": [
           {
            "line": {
             "colorbar": {
              "outlinewidth": 0,
              "ticks": ""
             }
            },
            "type": "parcoords"
           }
          ],
          "scatter": [
           {
            "marker": {
             "colorbar": {
              "outlinewidth": 0,
              "ticks": ""
             }
            },
            "type": "scatter"
           }
          ],
          "scatter3d": [
           {
            "line": {
             "colorbar": {
              "outlinewidth": 0,
              "ticks": ""
             }
            },
            "marker": {
             "colorbar": {
              "outlinewidth": 0,
              "ticks": ""
             }
            },
            "type": "scatter3d"
           }
          ],
          "scattercarpet": [
           {
            "marker": {
             "colorbar": {
              "outlinewidth": 0,
              "ticks": ""
             }
            },
            "type": "scattercarpet"
           }
          ],
          "scattergeo": [
           {
            "marker": {
             "colorbar": {
              "outlinewidth": 0,
              "ticks": ""
             }
            },
            "type": "scattergeo"
           }
          ],
          "scattergl": [
           {
            "marker": {
             "colorbar": {
              "outlinewidth": 0,
              "ticks": ""
             }
            },
            "type": "scattergl"
           }
          ],
          "scattermapbox": [
           {
            "marker": {
             "colorbar": {
              "outlinewidth": 0,
              "ticks": ""
             }
            },
            "type": "scattermapbox"
           }
          ],
          "scatterpolar": [
           {
            "marker": {
             "colorbar": {
              "outlinewidth": 0,
              "ticks": ""
             }
            },
            "type": "scatterpolar"
           }
          ],
          "scatterpolargl": [
           {
            "marker": {
             "colorbar": {
              "outlinewidth": 0,
              "ticks": ""
             }
            },
            "type": "scatterpolargl"
           }
          ],
          "scatterternary": [
           {
            "marker": {
             "colorbar": {
              "outlinewidth": 0,
              "ticks": ""
             }
            },
            "type": "scatterternary"
           }
          ],
          "surface": [
           {
            "colorbar": {
             "outlinewidth": 0,
             "ticks": ""
            },
            "colorscale": [
             [
              0,
              "#0d0887"
             ],
             [
              0.1111111111111111,
              "#46039f"
             ],
             [
              0.2222222222222222,
              "#7201a8"
             ],
             [
              0.3333333333333333,
              "#9c179e"
             ],
             [
              0.4444444444444444,
              "#bd3786"
             ],
             [
              0.5555555555555556,
              "#d8576b"
             ],
             [
              0.6666666666666666,
              "#ed7953"
             ],
             [
              0.7777777777777778,
              "#fb9f3a"
             ],
             [
              0.8888888888888888,
              "#fdca26"
             ],
             [
              1,
              "#f0f921"
             ]
            ],
            "type": "surface"
           }
          ],
          "table": [
           {
            "cells": {
             "fill": {
              "color": "#EBF0F8"
             },
             "line": {
              "color": "white"
             }
            },
            "header": {
             "fill": {
              "color": "#C8D4E3"
             },
             "line": {
              "color": "white"
             }
            },
            "type": "table"
           }
          ]
         },
         "layout": {
          "annotationdefaults": {
           "arrowcolor": "#2a3f5f",
           "arrowhead": 0,
           "arrowwidth": 1
          },
          "colorscale": {
           "diverging": [
            [
             0,
             "#8e0152"
            ],
            [
             0.1,
             "#c51b7d"
            ],
            [
             0.2,
             "#de77ae"
            ],
            [
             0.3,
             "#f1b6da"
            ],
            [
             0.4,
             "#fde0ef"
            ],
            [
             0.5,
             "#f7f7f7"
            ],
            [
             0.6,
             "#e6f5d0"
            ],
            [
             0.7,
             "#b8e186"
            ],
            [
             0.8,
             "#7fbc41"
            ],
            [
             0.9,
             "#4d9221"
            ],
            [
             1,
             "#276419"
            ]
           ],
           "sequential": [
            [
             0,
             "#0d0887"
            ],
            [
             0.1111111111111111,
             "#46039f"
            ],
            [
             0.2222222222222222,
             "#7201a8"
            ],
            [
             0.3333333333333333,
             "#9c179e"
            ],
            [
             0.4444444444444444,
             "#bd3786"
            ],
            [
             0.5555555555555556,
             "#d8576b"
            ],
            [
             0.6666666666666666,
             "#ed7953"
            ],
            [
             0.7777777777777778,
             "#fb9f3a"
            ],
            [
             0.8888888888888888,
             "#fdca26"
            ],
            [
             1,
             "#f0f921"
            ]
           ],
           "sequentialminus": [
            [
             0,
             "#0d0887"
            ],
            [
             0.1111111111111111,
             "#46039f"
            ],
            [
             0.2222222222222222,
             "#7201a8"
            ],
            [
             0.3333333333333333,
             "#9c179e"
            ],
            [
             0.4444444444444444,
             "#bd3786"
            ],
            [
             0.5555555555555556,
             "#d8576b"
            ],
            [
             0.6666666666666666,
             "#ed7953"
            ],
            [
             0.7777777777777778,
             "#fb9f3a"
            ],
            [
             0.8888888888888888,
             "#fdca26"
            ],
            [
             1,
             "#f0f921"
            ]
           ]
          },
          "colorway": [
           "#636efa",
           "#EF553B",
           "#00cc96",
           "#ab63fa",
           "#FFA15A",
           "#19d3f3",
           "#FF6692",
           "#B6E880",
           "#FF97FF",
           "#FECB52"
          ],
          "font": {
           "color": "#2a3f5f"
          },
          "geo": {
           "bgcolor": "white",
           "lakecolor": "white",
           "landcolor": "#E5ECF6",
           "showlakes": true,
           "showland": true,
           "subunitcolor": "white"
          },
          "hoverlabel": {
           "align": "left"
          },
          "hovermode": "closest",
          "mapbox": {
           "style": "light"
          },
          "paper_bgcolor": "white",
          "plot_bgcolor": "#E5ECF6",
          "polar": {
           "angularaxis": {
            "gridcolor": "white",
            "linecolor": "white",
            "ticks": ""
           },
           "bgcolor": "#E5ECF6",
           "radialaxis": {
            "gridcolor": "white",
            "linecolor": "white",
            "ticks": ""
           }
          },
          "scene": {
           "xaxis": {
            "backgroundcolor": "#E5ECF6",
            "gridcolor": "white",
            "gridwidth": 2,
            "linecolor": "white",
            "showbackground": true,
            "ticks": "",
            "zerolinecolor": "white"
           },
           "yaxis": {
            "backgroundcolor": "#E5ECF6",
            "gridcolor": "white",
            "gridwidth": 2,
            "linecolor": "white",
            "showbackground": true,
            "ticks": "",
            "zerolinecolor": "white"
           },
           "zaxis": {
            "backgroundcolor": "#E5ECF6",
            "gridcolor": "white",
            "gridwidth": 2,
            "linecolor": "white",
            "showbackground": true,
            "ticks": "",
            "zerolinecolor": "white"
           }
          },
          "shapedefaults": {
           "line": {
            "color": "#2a3f5f"
           }
          },
          "ternary": {
           "aaxis": {
            "gridcolor": "white",
            "linecolor": "white",
            "ticks": ""
           },
           "baxis": {
            "gridcolor": "white",
            "linecolor": "white",
            "ticks": ""
           },
           "bgcolor": "#E5ECF6",
           "caxis": {
            "gridcolor": "white",
            "linecolor": "white",
            "ticks": ""
           }
          },
          "title": {
           "x": 0.05
          },
          "xaxis": {
           "automargin": true,
           "gridcolor": "white",
           "linecolor": "white",
           "ticks": "",
           "zerolinecolor": "white",
           "zerolinewidth": 2
          },
          "yaxis": {
           "automargin": true,
           "gridcolor": "white",
           "linecolor": "white",
           "ticks": "",
           "zerolinecolor": "white",
           "zerolinewidth": 2
          }
         }
        },
        "xaxis": {
         "title": {
          "text": "Date"
         }
        },
        "yaxis": {
         "title": {
          "text": "Number of cases"
         }
        }
       }
      },
      "text/html": [
       "<div>\n",
       "        \n",
       "        \n",
       "            <div id=\"856eb285-4907-494d-8f7a-c1e1bde88cb6\" class=\"plotly-graph-div\" style=\"height:525px; width:100%;\"></div>\n",
       "            <script type=\"text/javascript\">\n",
       "                require([\"plotly\"], function(Plotly) {\n",
       "                    window.PLOTLYENV=window.PLOTLYENV || {};\n",
       "                    \n",
       "                if (document.getElementById(\"856eb285-4907-494d-8f7a-c1e1bde88cb6\")) {\n",
       "                    Plotly.newPlot(\n",
       "                        '856eb285-4907-494d-8f7a-c1e1bde88cb6',\n",
       "                        [{\"mode\": \"lines+markers\", \"text\": [\"Maharashtra\", \"Maharashtra\", \"Maharashtra\", \"Maharashtra\", \"Maharashtra\", \"Maharashtra\", \"Maharashtra\", \"Maharashtra\", \"Maharashtra\", \"Maharashtra\", \"Maharashtra\", \"Maharashtra\", \"Maharashtra\", \"Maharashtra\", \"Maharashtra\", \"Maharashtra\", \"Maharashtra\", \"Maharashtra\", \"Maharashtra\", \"Maharashtra\", \"Maharashtra\", \"Maharashtra\", \"Maharashtra\", \"Maharashtra\", \"Maharashtra\", \"Maharashtra\", \"Maharashtra\", \"Maharashtra\", \"Maharashtra\", \"Maharashtra\", \"Maharashtra\", \"Maharashtra\", \"Maharashtra\", \"Maharashtra\", \"Maharashtra\", \"Maharashtra\", \"Maharashtra\", \"Maharashtra\", \"Maharashtra\", \"Maharashtra\", \"Maharashtra\", \"Maharashtra\"], \"type\": \"scatter\", \"x\": [\"2020-03-09T00:00:00\", \"2020-03-10T00:00:00\", \"2020-03-11T00:00:00\", \"2020-03-12T00:00:00\", \"2020-03-13T00:00:00\", \"2020-03-14T00:00:00\", \"2020-03-15T00:00:00\", \"2020-03-16T00:00:00\", \"2020-03-17T00:00:00\", \"2020-03-18T00:00:00\", \"2020-03-19T00:00:00\", \"2020-03-20T00:00:00\", \"2020-03-21T00:00:00\", \"2020-03-22T00:00:00\", \"2020-03-23T00:00:00\", \"2020-03-24T00:00:00\", \"2020-03-25T00:00:00\", \"2020-03-26T00:00:00\", \"2020-03-27T00:00:00\", \"2020-03-28T00:00:00\", \"2020-03-29T00:00:00\", \"2020-03-30T00:00:00\", \"2020-03-31T00:00:00\", \"2020-04-01T00:00:00\", \"2020-04-02T00:00:00\", \"2020-04-03T00:00:00\", \"2020-04-04T00:00:00\", \"2020-04-05T00:00:00\", \"2020-04-06T00:00:00\", \"2020-04-07T00:00:00\", \"2020-04-08T00:00:00\", \"2020-04-09T00:00:00\", \"2020-04-10T00:00:00\", \"2020-04-11T00:00:00\", \"2020-04-12T00:00:00\", \"2020-04-13T00:00:00\", \"2020-04-14T00:00:00\", \"2020-04-15T00:00:00\", \"2020-04-16T00:00:00\", \"2020-04-17T00:00:00\", \"2020-04-18T00:00:00\", \"2020-04-19T00:00:00\"], \"y\": [2, 3, 5, 4, 3, 9, 6, 7, 2, 4, 3, 4, 12, 10, 15, 18, 15, 3, 28, 28, 22, 17, 82, 33, 88, 67, 145, 113, 120, 150, 117, 229, 210, 187, 221, 352, 346, 236, 285, 120, 327, 552]}, {\"mode\": \"lines+markers\", \"text\": [\"Gujarat\", \"Gujarat\", \"Gujarat\", \"Gujarat\", \"Gujarat\", \"Gujarat\", \"Gujarat\", \"Gujarat\", \"Gujarat\", \"Gujarat\", \"Gujarat\", \"Gujarat\", \"Gujarat\", \"Gujarat\", \"Gujarat\", \"Gujarat\", \"Gujarat\", \"Gujarat\", \"Gujarat\", \"Gujarat\", \"Gujarat\", \"Gujarat\", \"Gujarat\", \"Gujarat\", \"Gujarat\", \"Gujarat\", \"Gujarat\", \"Gujarat\", \"Gujarat\", \"Gujarat\", \"Gujarat\", \"Gujarat\"], \"type\": \"scatter\", \"x\": [\"2020-03-19T00:00:00\", \"2020-03-20T00:00:00\", \"2020-03-21T00:00:00\", \"2020-03-22T00:00:00\", \"2020-03-23T00:00:00\", \"2020-03-24T00:00:00\", \"2020-03-25T00:00:00\", \"2020-03-26T00:00:00\", \"2020-03-27T00:00:00\", \"2020-03-28T00:00:00\", \"2020-03-29T00:00:00\", \"2020-03-30T00:00:00\", \"2020-03-31T00:00:00\", \"2020-04-01T00:00:00\", \"2020-04-02T00:00:00\", \"2020-04-03T00:00:00\", \"2020-04-04T00:00:00\", \"2020-04-05T00:00:00\", \"2020-04-06T00:00:00\", \"2020-04-07T00:00:00\", \"2020-04-08T00:00:00\", \"2020-04-09T00:00:00\", \"2020-04-10T00:00:00\", \"2020-04-11T00:00:00\", \"2020-04-12T00:00:00\", \"2020-04-13T00:00:00\", \"2020-04-14T00:00:00\", \"2020-04-15T00:00:00\", \"2020-04-16T00:00:00\", \"2020-04-17T00:00:00\", \"2020-04-18T00:00:00\", \"2020-04-19T00:00:00\"], \"y\": [2, 5, 7, 4, 12, 6, 2, 6, 3, 8, 8, 7, 4, 13, 1, 7, 13, 20, 18, 29, 11, 76, 116, 90, 48, 56, 78, 116, 163, 170, 277, 367]}, {\"mode\": \"lines+markers\", \"text\": [\"Kerala\", \"Kerala\", \"Kerala\", \"Kerala\", \"Kerala\", \"Kerala\", \"Kerala\", \"Kerala\", \"Kerala\", \"Kerala\", \"Kerala\", \"Kerala\", \"Kerala\", \"Kerala\", \"Kerala\", \"Kerala\", \"Kerala\", \"Kerala\", \"Kerala\", \"Kerala\", \"Kerala\", \"Kerala\", \"Kerala\", \"Kerala\", \"Kerala\", \"Kerala\", \"Kerala\", \"Kerala\", \"Kerala\", \"Kerala\", \"Kerala\", \"Kerala\", \"Kerala\", \"Kerala\", \"Kerala\", \"Kerala\", \"Kerala\", \"Kerala\", \"Kerala\", \"Kerala\", \"Kerala\"], \"type\": \"scatter\", \"x\": [\"2020-01-30T00:00:00\", \"2020-02-02T00:00:00\", \"2020-03-08T00:00:00\", \"2020-03-09T00:00:00\", \"2020-03-10T00:00:00\", \"2020-03-12T00:00:00\", \"2020-03-13T00:00:00\", \"2020-03-15T00:00:00\", \"2020-03-16T00:00:00\", \"2020-03-19T00:00:00\", \"2020-03-20T00:00:00\", \"2020-03-21T00:00:00\", \"2020-03-22T00:00:00\", \"2020-03-23T00:00:00\", \"2020-03-24T00:00:00\", \"2020-03-25T00:00:00\", \"2020-03-26T00:00:00\", \"2020-03-27T00:00:00\", \"2020-03-28T00:00:00\", \"2020-03-29T00:00:00\", \"2020-03-30T00:00:00\", \"2020-03-31T00:00:00\", \"2020-04-01T00:00:00\", \"2020-04-02T00:00:00\", \"2020-04-03T00:00:00\", \"2020-04-04T00:00:00\", \"2020-04-05T00:00:00\", \"2020-04-06T00:00:00\", \"2020-04-07T00:00:00\", \"2020-04-08T00:00:00\", \"2020-04-09T00:00:00\", \"2020-04-10T00:00:00\", \"2020-04-11T00:00:00\", \"2020-04-12T00:00:00\", \"2020-04-13T00:00:00\", \"2020-04-14T00:00:00\", \"2020-04-15T00:00:00\", \"2020-04-16T00:00:00\", \"2020-04-17T00:00:00\", \"2020-04-18T00:00:00\", \"2020-04-19T00:00:00\"], \"y\": [1, 2, 5, 1, 8, 2, 3, 2, 3, 1, 12, 12, 15, 28, 14, 9, 19, 39, 6, 20, 32, 7, 24, 21, 9, 11, 8, 13, 8, 9, 12, 7, 10, 2, 3, 8, 1, 7, 1, 4, 2]}, {\"mode\": \"lines+markers\", \"text\": [\"Delhi\", \"Delhi\", \"Delhi\", \"Delhi\", \"Delhi\", \"Delhi\", \"Delhi\", \"Delhi\", \"Delhi\", \"Delhi\", \"Delhi\", \"Delhi\", \"Delhi\", \"Delhi\", \"Delhi\", \"Delhi\", \"Delhi\", \"Delhi\", \"Delhi\", \"Delhi\", \"Delhi\", \"Delhi\", \"Delhi\", \"Delhi\", \"Delhi\", \"Delhi\", \"Delhi\", \"Delhi\", \"Delhi\", \"Delhi\", \"Delhi\", \"Delhi\", \"Delhi\", \"Delhi\", \"Delhi\", \"Delhi\", \"Delhi\", \"Delhi\", \"Delhi\"], \"type\": \"scatter\", \"x\": [\"2020-02-03T00:00:00\", \"2020-03-05T00:00:00\", \"2020-03-07T00:00:00\", \"2020-03-09T00:00:00\", \"2020-03-11T00:00:00\", \"2020-03-12T00:00:00\", \"2020-03-13T00:00:00\", \"2020-03-17T00:00:00\", \"2020-03-18T00:00:00\", \"2020-03-19T00:00:00\", \"2020-03-20T00:00:00\", \"2020-03-21T00:00:00\", \"2020-03-22T00:00:00\", \"2020-03-23T00:00:00\", \"2020-03-25T00:00:00\", \"2020-03-26T00:00:00\", \"2020-03-27T00:00:00\", \"2020-03-28T00:00:00\", \"2020-03-29T00:00:00\", \"2020-03-30T00:00:00\", \"2020-03-31T00:00:00\", \"2020-04-01T00:00:00\", \"2020-04-02T00:00:00\", \"2020-04-03T00:00:00\", \"2020-04-04T00:00:00\", \"2020-04-05T00:00:00\", \"2020-04-06T00:00:00\", \"2020-04-07T00:00:00\", \"2020-04-08T00:00:00\", \"2020-04-09T00:00:00\", \"2020-04-10T00:00:00\", \"2020-04-11T00:00:00\", \"2020-04-12T00:00:00\", \"2020-04-13T00:00:00\", \"2020-04-14T00:00:00\", \"2020-04-15T00:00:00\", \"2020-04-16T00:00:00\", \"2020-04-17T00:00:00\", \"2020-04-18T00:00:00\"], \"y\": [1, 1, 1, 1, 1, 1, 1, 3, 1, 3, 6, 7, 1, 2, 5, 4, 1, 9, 23, 25, 23, 32, 141, 93, 59, 58, 22, 51, 93, 51, 183, 166, 85, 356, 51, 17, 62, 67, 186]}],\n",
       "                        {\"template\": {\"data\": {\"bar\": [{\"error_x\": {\"color\": \"#2a3f5f\"}, \"error_y\": {\"color\": \"#2a3f5f\"}, \"marker\": {\"line\": {\"color\": \"#E5ECF6\", \"width\": 0.5}}, \"type\": \"bar\"}], \"barpolar\": [{\"marker\": {\"line\": {\"color\": \"#E5ECF6\", \"width\": 0.5}}, \"type\": \"barpolar\"}], \"carpet\": [{\"aaxis\": {\"endlinecolor\": \"#2a3f5f\", \"gridcolor\": \"white\", \"linecolor\": \"white\", \"minorgridcolor\": \"white\", \"startlinecolor\": \"#2a3f5f\"}, \"baxis\": {\"endlinecolor\": \"#2a3f5f\", \"gridcolor\": \"white\", \"linecolor\": \"white\", \"minorgridcolor\": \"white\", \"startlinecolor\": \"#2a3f5f\"}, \"type\": \"carpet\"}], \"choropleth\": [{\"colorbar\": {\"outlinewidth\": 0, \"ticks\": \"\"}, \"type\": \"choropleth\"}], \"contour\": [{\"colorbar\": {\"outlinewidth\": 0, \"ticks\": \"\"}, \"colorscale\": [[0.0, \"#0d0887\"], [0.1111111111111111, \"#46039f\"], [0.2222222222222222, \"#7201a8\"], [0.3333333333333333, \"#9c179e\"], [0.4444444444444444, \"#bd3786\"], [0.5555555555555556, \"#d8576b\"], [0.6666666666666666, \"#ed7953\"], [0.7777777777777778, \"#fb9f3a\"], [0.8888888888888888, \"#fdca26\"], [1.0, \"#f0f921\"]], \"type\": \"contour\"}], \"contourcarpet\": [{\"colorbar\": {\"outlinewidth\": 0, \"ticks\": \"\"}, \"type\": \"contourcarpet\"}], \"heatmap\": [{\"colorbar\": {\"outlinewidth\": 0, \"ticks\": \"\"}, \"colorscale\": [[0.0, \"#0d0887\"], [0.1111111111111111, \"#46039f\"], [0.2222222222222222, \"#7201a8\"], [0.3333333333333333, \"#9c179e\"], [0.4444444444444444, \"#bd3786\"], [0.5555555555555556, \"#d8576b\"], [0.6666666666666666, \"#ed7953\"], [0.7777777777777778, \"#fb9f3a\"], [0.8888888888888888, \"#fdca26\"], [1.0, \"#f0f921\"]], \"type\": \"heatmap\"}], \"heatmapgl\": [{\"colorbar\": {\"outlinewidth\": 0, \"ticks\": \"\"}, \"colorscale\": [[0.0, \"#0d0887\"], [0.1111111111111111, \"#46039f\"], [0.2222222222222222, \"#7201a8\"], [0.3333333333333333, \"#9c179e\"], [0.4444444444444444, \"#bd3786\"], [0.5555555555555556, \"#d8576b\"], [0.6666666666666666, \"#ed7953\"], [0.7777777777777778, \"#fb9f3a\"], [0.8888888888888888, \"#fdca26\"], [1.0, \"#f0f921\"]], \"type\": \"heatmapgl\"}], \"histogram\": [{\"marker\": {\"colorbar\": {\"outlinewidth\": 0, \"ticks\": \"\"}}, \"type\": \"histogram\"}], \"histogram2d\": [{\"colorbar\": {\"outlinewidth\": 0, \"ticks\": \"\"}, \"colorscale\": [[0.0, \"#0d0887\"], [0.1111111111111111, \"#46039f\"], [0.2222222222222222, \"#7201a8\"], [0.3333333333333333, \"#9c179e\"], [0.4444444444444444, \"#bd3786\"], [0.5555555555555556, \"#d8576b\"], [0.6666666666666666, \"#ed7953\"], [0.7777777777777778, \"#fb9f3a\"], [0.8888888888888888, \"#fdca26\"], [1.0, \"#f0f921\"]], \"type\": \"histogram2d\"}], \"histogram2dcontour\": [{\"colorbar\": {\"outlinewidth\": 0, \"ticks\": \"\"}, \"colorscale\": [[0.0, \"#0d0887\"], [0.1111111111111111, \"#46039f\"], [0.2222222222222222, \"#7201a8\"], [0.3333333333333333, \"#9c179e\"], [0.4444444444444444, \"#bd3786\"], [0.5555555555555556, \"#d8576b\"], [0.6666666666666666, \"#ed7953\"], [0.7777777777777778, \"#fb9f3a\"], [0.8888888888888888, \"#fdca26\"], [1.0, \"#f0f921\"]], \"type\": \"histogram2dcontour\"}], \"mesh3d\": [{\"colorbar\": {\"outlinewidth\": 0, \"ticks\": \"\"}, \"type\": \"mesh3d\"}], \"parcoords\": [{\"line\": {\"colorbar\": {\"outlinewidth\": 0, \"ticks\": \"\"}}, \"type\": \"parcoords\"}], \"scatter\": [{\"marker\": {\"colorbar\": {\"outlinewidth\": 0, \"ticks\": \"\"}}, \"type\": \"scatter\"}], \"scatter3d\": [{\"line\": {\"colorbar\": {\"outlinewidth\": 0, \"ticks\": \"\"}}, \"marker\": {\"colorbar\": {\"outlinewidth\": 0, \"ticks\": \"\"}}, \"type\": \"scatter3d\"}], \"scattercarpet\": [{\"marker\": {\"colorbar\": {\"outlinewidth\": 0, \"ticks\": \"\"}}, \"type\": \"scattercarpet\"}], \"scattergeo\": [{\"marker\": {\"colorbar\": {\"outlinewidth\": 0, \"ticks\": \"\"}}, \"type\": \"scattergeo\"}], \"scattergl\": [{\"marker\": {\"colorbar\": {\"outlinewidth\": 0, \"ticks\": \"\"}}, \"type\": \"scattergl\"}], \"scattermapbox\": [{\"marker\": {\"colorbar\": {\"outlinewidth\": 0, \"ticks\": \"\"}}, \"type\": \"scattermapbox\"}], \"scatterpolar\": [{\"marker\": {\"colorbar\": {\"outlinewidth\": 0, \"ticks\": \"\"}}, \"type\": \"scatterpolar\"}], \"scatterpolargl\": [{\"marker\": {\"colorbar\": {\"outlinewidth\": 0, \"ticks\": \"\"}}, \"type\": \"scatterpolargl\"}], \"scatterternary\": [{\"marker\": {\"colorbar\": {\"outlinewidth\": 0, \"ticks\": \"\"}}, \"type\": \"scatterternary\"}], \"surface\": [{\"colorbar\": {\"outlinewidth\": 0, \"ticks\": \"\"}, \"colorscale\": [[0.0, \"#0d0887\"], [0.1111111111111111, \"#46039f\"], [0.2222222222222222, \"#7201a8\"], [0.3333333333333333, \"#9c179e\"], [0.4444444444444444, \"#bd3786\"], [0.5555555555555556, \"#d8576b\"], [0.6666666666666666, \"#ed7953\"], [0.7777777777777778, \"#fb9f3a\"], [0.8888888888888888, \"#fdca26\"], [1.0, \"#f0f921\"]], \"type\": \"surface\"}], \"table\": [{\"cells\": {\"fill\": {\"color\": \"#EBF0F8\"}, \"line\": {\"color\": \"white\"}}, \"header\": {\"fill\": {\"color\": \"#C8D4E3\"}, \"line\": {\"color\": \"white\"}}, \"type\": \"table\"}]}, \"layout\": {\"annotationdefaults\": {\"arrowcolor\": \"#2a3f5f\", \"arrowhead\": 0, \"arrowwidth\": 1}, \"colorscale\": {\"diverging\": [[0, \"#8e0152\"], [0.1, \"#c51b7d\"], [0.2, \"#de77ae\"], [0.3, \"#f1b6da\"], [0.4, \"#fde0ef\"], [0.5, \"#f7f7f7\"], [0.6, \"#e6f5d0\"], [0.7, \"#b8e186\"], [0.8, \"#7fbc41\"], [0.9, \"#4d9221\"], [1, \"#276419\"]], \"sequential\": [[0.0, \"#0d0887\"], [0.1111111111111111, \"#46039f\"], [0.2222222222222222, \"#7201a8\"], [0.3333333333333333, \"#9c179e\"], [0.4444444444444444, \"#bd3786\"], [0.5555555555555556, \"#d8576b\"], [0.6666666666666666, \"#ed7953\"], [0.7777777777777778, \"#fb9f3a\"], [0.8888888888888888, \"#fdca26\"], [1.0, \"#f0f921\"]], \"sequentialminus\": [[0.0, \"#0d0887\"], [0.1111111111111111, \"#46039f\"], [0.2222222222222222, \"#7201a8\"], [0.3333333333333333, \"#9c179e\"], [0.4444444444444444, \"#bd3786\"], [0.5555555555555556, \"#d8576b\"], [0.6666666666666666, \"#ed7953\"], [0.7777777777777778, \"#fb9f3a\"], [0.8888888888888888, \"#fdca26\"], [1.0, \"#f0f921\"]]}, \"colorway\": [\"#636efa\", \"#EF553B\", \"#00cc96\", \"#ab63fa\", \"#FFA15A\", \"#19d3f3\", \"#FF6692\", \"#B6E880\", \"#FF97FF\", \"#FECB52\"], \"font\": {\"color\": \"#2a3f5f\"}, \"geo\": {\"bgcolor\": \"white\", \"lakecolor\": \"white\", \"landcolor\": \"#E5ECF6\", \"showlakes\": true, \"showland\": true, \"subunitcolor\": \"white\"}, \"hoverlabel\": {\"align\": \"left\"}, \"hovermode\": \"closest\", \"mapbox\": {\"style\": \"light\"}, \"paper_bgcolor\": \"white\", \"plot_bgcolor\": \"#E5ECF6\", \"polar\": {\"angularaxis\": {\"gridcolor\": \"white\", \"linecolor\": \"white\", \"ticks\": \"\"}, \"bgcolor\": \"#E5ECF6\", \"radialaxis\": {\"gridcolor\": \"white\", \"linecolor\": \"white\", \"ticks\": \"\"}}, \"scene\": {\"xaxis\": {\"backgroundcolor\": \"#E5ECF6\", \"gridcolor\": \"white\", \"gridwidth\": 2, \"linecolor\": \"white\", \"showbackground\": true, \"ticks\": \"\", \"zerolinecolor\": \"white\"}, \"yaxis\": {\"backgroundcolor\": \"#E5ECF6\", \"gridcolor\": \"white\", \"gridwidth\": 2, \"linecolor\": \"white\", \"showbackground\": true, \"ticks\": \"\", \"zerolinecolor\": \"white\"}, \"zaxis\": {\"backgroundcolor\": \"#E5ECF6\", \"gridcolor\": \"white\", \"gridwidth\": 2, \"linecolor\": \"white\", \"showbackground\": true, \"ticks\": \"\", \"zerolinecolor\": \"white\"}}, \"shapedefaults\": {\"line\": {\"color\": \"#2a3f5f\"}}, \"ternary\": {\"aaxis\": {\"gridcolor\": \"white\", \"linecolor\": \"white\", \"ticks\": \"\"}, \"baxis\": {\"gridcolor\": \"white\", \"linecolor\": \"white\", \"ticks\": \"\"}, \"bgcolor\": \"#E5ECF6\", \"caxis\": {\"gridcolor\": \"white\", \"linecolor\": \"white\", \"ticks\": \"\"}}, \"title\": {\"x\": 0.05}, \"xaxis\": {\"automargin\": true, \"gridcolor\": \"white\", \"linecolor\": \"white\", \"ticks\": \"\", \"zerolinecolor\": \"white\", \"zerolinewidth\": 2}, \"yaxis\": {\"automargin\": true, \"gridcolor\": \"white\", \"linecolor\": \"white\", \"ticks\": \"\", \"zerolinecolor\": \"white\", \"zerolinewidth\": 2}}}, \"xaxis\": {\"title\": {\"text\": \"Date\"}}, \"yaxis\": {\"title\": {\"text\": \"Number of cases\"}}},\n",
       "                        {\"responsive\": true}\n",
       "                    ).then(function(){\n",
       "                            \n",
       "var gd = document.getElementById('856eb285-4907-494d-8f7a-c1e1bde88cb6');\n",
       "var x = new MutationObserver(function (mutations, observer) {{\n",
       "        var display = window.getComputedStyle(gd).display;\n",
       "        if (!display || display === 'none') {{\n",
       "            console.log([gd, 'removed!']);\n",
       "            Plotly.purge(gd);\n",
       "            observer.disconnect();\n",
       "        }}\n",
       "}});\n",
       "\n",
       "// Listen for the removal of the full notebook cells\n",
       "var notebookContainer = gd.closest('#notebook-container');\n",
       "if (notebookContainer) {{\n",
       "    x.observe(notebookContainer, {childList: true});\n",
       "}}\n",
       "\n",
       "// Listen for the clearing of the current output cell\n",
       "var outputEl = gd.closest('.output');\n",
       "if (outputEl) {{\n",
       "    x.observe(outputEl, {childList: true});\n",
       "}}\n",
       "\n",
       "                        })\n",
       "                };\n",
       "                });\n",
       "            </script>\n",
       "        </div>"
      ]
     },
     "metadata": {},
     "output_type": "display_data"
    }
   ],
   "source": [
    "fig=go.Figure(data=data, layout=layout)\n",
    "fig.show()"
   ]
  },
  {
   "cell_type": "code",
   "execution_count": 116,
   "metadata": {},
   "outputs": [
    {
     "data": {
      "application/vnd.plotly.v1+json": {
       "config": {
        "plotlyServerURL": "https://plot.ly"
       },
       "data": [
        {
         "labels": [
          "Kerala",
          "Kerala",
          "Delhi",
          "Telangana",
          "Rajasthan",
          "Haryana",
          "Rajasthan",
          "Uttar Pradesh",
          "Delhi",
          "Uttar Pradesh",
          "Delhi",
          "Ladakh",
          "Tamil Nadu",
          "Kerala",
          "Delhi",
          "Jammu and Kashmir",
          "Karnataka",
          "Kerala",
          "Maharashtra",
          "Punjab",
          "Uttar Pradesh",
          "Karnataka",
          "Kerala",
          "Maharashtra",
          "Rajasthan",
          "Delhi",
          "Ladakh",
          "Maharashtra",
          "Andhra Pradesh",
          "Delhi",
          "Karnataka",
          "Kerala",
          "Maharashtra",
          "Uttar Pradesh",
          "Delhi",
          "Jammu and Kashmir",
          "Kerala",
          "Maharashtra",
          "Uttar Pradesh",
          "Maharashtra",
          "Rajasthan",
          "Telangana",
          "Kerala",
          "Maharashtra",
          "Telangana",
          "Uttarakhand",
          "Jammu and Kashmir",
          "Karnataka",
          "Kerala",
          "Maharashtra",
          "Odisha",
          "Telangana",
          "Delhi",
          "Haryana",
          "Karnataka",
          "Ladakh",
          "Maharashtra",
          "Puducherry",
          "Telangana",
          "Uttar Pradesh",
          "West Bengal",
          "Delhi",
          "Haryana",
          "Jammu and Kashmir",
          "Karnataka",
          "Maharashtra",
          "Rajasthan",
          "Tamil Nadu",
          "Telangana",
          "Uttar Pradesh",
          "Andhra Pradesh",
          "Chandigarh",
          "Chhattisgarh",
          "Delhi",
          "Gujarat",
          "Karnataka",
          "Kerala",
          "Maharashtra",
          "Odisha",
          "Punjab",
          "Rajasthan",
          "Tamil Nadu",
          "Telangana",
          "Uttar Pradesh",
          "Uttarakhand",
          "Chandigarh",
          "Delhi",
          "Gujarat",
          "Haryana",
          "Himachal Pradesh",
          "Kerala",
          "Ladakh",
          "Madhya Pradesh",
          "Maharashtra",
          "Punjab",
          "Rajasthan",
          "Telangana",
          "Uttar Pradesh",
          "West Bengal",
          "Andhra Pradesh",
          "Delhi",
          "Gujarat",
          "Haryana",
          "Karnataka",
          "Kerala",
          "Ladakh",
          "Maharashtra",
          "Punjab",
          "Rajasthan",
          "Tamil Nadu",
          "Telangana",
          "Uttar Pradesh",
          "West Bengal",
          "Andhra Pradesh",
          "Bihar",
          "Chandigarh",
          "Delhi",
          "Gujarat",
          "Karnataka",
          "Kerala",
          "Madhya Pradesh",
          "Maharashtra",
          "Punjab",
          "Rajasthan",
          "Tamil Nadu",
          "Telangana",
          "Uttar Pradesh",
          "West Bengal",
          "Andhra Pradesh",
          "Bihar",
          "Chandigarh",
          "Delhi",
          "Gujarat",
          "Haryana",
          "Himachal Pradesh",
          "Karnataka",
          "Kerala",
          "Maharashtra",
          "Punjab",
          "Rajasthan",
          "Tamil Nadu",
          "Telangana",
          "Uttar Pradesh",
          "Uttarakhand",
          "Andhra Pradesh",
          "Gujarat",
          "Haryana",
          "Jammu and Kashmir",
          "Karnataka",
          "Kerala",
          "Madhya Pradesh",
          "Maharashtra",
          "Manipur",
          "Punjab",
          "Tamil Nadu",
          "Telangana",
          "Uttar Pradesh",
          "West Bengal",
          "Andhra Pradesh",
          "Bihar",
          "Chhattisgarh",
          "Delhi",
          "Goa",
          "Gujarat",
          "Haryana",
          "Jammu and Kashmir",
          "Karnataka",
          "Kerala",
          "Madhya Pradesh",
          "Maharashtra",
          "Mizoram",
          "Punjab",
          "Rajasthan",
          "Tamil Nadu",
          "Telangana",
          "Uttar Pradesh",
          "Uttarakhand",
          "Andaman and Nicobar Islands",
          "Andhra Pradesh",
          "Bihar",
          "Chhattisgarh",
          "Delhi",
          "Gujarat",
          "Haryana",
          "Jammu and Kashmir",
          "Karnataka",
          "Kerala",
          "Madhya Pradesh",
          "Maharashtra",
          "Odisha",
          "Punjab",
          "Rajasthan",
          "Tamil Nadu",
          "Telangana",
          "Uttar Pradesh",
          "West Bengal",
          "Andaman and Nicobar Islands",
          "Andhra Pradesh",
          "Bihar",
          "Chandigarh",
          "Delhi",
          "Gujarat",
          "Haryana",
          "Jammu and Kashmir",
          "Karnataka",
          "Kerala",
          "Madhya Pradesh",
          "Maharashtra",
          "Punjab",
          "Rajasthan",
          "Tamil Nadu",
          "Telangana",
          "Uttar Pradesh",
          "West Bengal",
          "Andaman and Nicobar Islands",
          "Andhra Pradesh",
          "Bihar",
          "Chhattisgarh",
          "Delhi",
          "Gujarat",
          "Haryana",
          "Jammu and Kashmir",
          "Karnataka",
          "Kerala",
          "Madhya Pradesh",
          "Maharashtra",
          "Rajasthan",
          "Tamil Nadu",
          "Telangana",
          "Uttar Pradesh",
          "Uttarakhand",
          "West Bengal",
          "Andhra Pradesh",
          "Bihar",
          "Delhi",
          "Goa",
          "Gujarat",
          "Jammu and Kashmir",
          "Karnataka",
          "Kerala",
          "Maharashtra",
          "Rajasthan",
          "Tamil Nadu",
          "Telangana",
          "Uttar Pradesh",
          "Uttarakhand",
          "West Bengal",
          "Andaman and Nicobar Islands",
          "Andhra Pradesh",
          "Chandigarh",
          "Chhattisgarh",
          "Delhi",
          "Gujarat",
          "Haryana",
          "Jammu and Kashmir",
          "Karnataka",
          "Kerala",
          "Madhya Pradesh",
          "Maharashtra",
          "Punjab",
          "Rajasthan",
          "Tamil Nadu",
          "Telangana",
          "Uttar Pradesh",
          "West Bengal",
          "Andhra Pradesh",
          "Assam",
          "Bihar",
          "Chandigarh",
          "Chhattisgarh",
          "Delhi",
          "Gujarat",
          "Haryana",
          "Jammu and Kashmir",
          "Jharkhand",
          "Karnataka",
          "Kerala",
          "Madhya Pradesh",
          "Maharashtra",
          "Odisha",
          "Punjab",
          "Rajasthan",
          "Tamil Nadu",
          "Telangana",
          "Uttar Pradesh",
          "West Bengal",
          "Andhra Pradesh",
          "Assam",
          "Bihar",
          "Chandigarh",
          "Delhi",
          "Gujarat",
          "Jammu and Kashmir",
          "Karnataka",
          "Kerala",
          "Madhya Pradesh",
          "Maharashtra",
          "Manipur",
          "Odisha",
          "Puducherry",
          "Punjab",
          "Rajasthan",
          "Tamil Nadu",
          "Telangana",
          "Uttar Pradesh",
          "Andhra Pradesh",
          "Arunachal Pradesh",
          "Bihar",
          "Chandigarh",
          "Delhi",
          "Gujarat",
          "Haryana",
          "Himachal Pradesh",
          "Jammu and Kashmir",
          "Jharkhand",
          "Karnataka",
          "Kerala",
          "Madhya Pradesh",
          "Maharashtra",
          "Puducherry",
          "Punjab",
          "Rajasthan",
          "Tamil Nadu",
          "Telangana",
          "Uttar Pradesh",
          "Uttarakhand",
          "West Bengal",
          "Andhra Pradesh",
          "Assam",
          "Bihar",
          "Delhi",
          "Goa",
          "Gujarat",
          "Haryana",
          "Jammu and Kashmir",
          "Karnataka",
          "Kerala",
          "Ladakh",
          "Madhya Pradesh",
          "Maharashtra",
          "Odisha",
          "Punjab",
          "Rajasthan",
          "Tamil Nadu",
          "Telangana",
          "Uttar Pradesh",
          "Uttarakhand",
          "Andhra Pradesh",
          "Assam",
          "Bihar",
          "Chhattisgarh",
          "Delhi",
          "Goa",
          "Gujarat",
          "Haryana",
          "Jammu and Kashmir",
          "Karnataka",
          "Kerala",
          "Madhya Pradesh",
          "Maharashtra",
          "Odisha",
          "Punjab",
          "Rajasthan",
          "Tamil Nadu",
          "Telangana",
          "Uttar Pradesh",
          "Uttarakhand",
          "Andhra Pradesh",
          "Delhi",
          "Gujarat",
          "Haryana",
          "Himachal Pradesh",
          "Jammu and Kashmir",
          "Jharkhand",
          "Karnataka",
          "Kerala",
          "Madhya Pradesh",
          "Maharashtra",
          "Odisha",
          "Punjab",
          "Rajasthan",
          "Tamil Nadu",
          "Telangana",
          "Uttar Pradesh",
          "Uttarakhand",
          "West Bengal",
          "Andhra Pradesh",
          "Delhi",
          "Gujarat",
          "Haryana",
          "Himachal Pradesh",
          "Jammu and Kashmir",
          "Jharkhand",
          "Karnataka",
          "Kerala",
          "Madhya Pradesh",
          "Maharashtra",
          "Odisha",
          "Punjab",
          "Rajasthan",
          "Tamil Nadu",
          "Telangana",
          "Tripura",
          "Uttar Pradesh",
          "Uttarakhand",
          "Andhra Pradesh",
          "Assam",
          "Bihar",
          "Delhi",
          "Gujarat",
          "Haryana",
          "Himachal Pradesh",
          "Jammu and Kashmir",
          "Karnataka",
          "Kerala",
          "Madhya Pradesh",
          "Maharashtra",
          "Odisha",
          "Punjab",
          "Rajasthan",
          "Tamil Nadu",
          "Telangana",
          "Uttar Pradesh",
          "West Bengal",
          "Andaman and Nicobar Islands",
          "Andhra Pradesh",
          "Bihar",
          "Delhi",
          "Gujarat",
          "Haryana",
          "Jammu and Kashmir",
          "Karnataka",
          "Kerala",
          "Madhya Pradesh",
          "Maharashtra",
          "Punjab",
          "Rajasthan",
          "Tamil Nadu",
          "Telangana",
          "Uttar Pradesh",
          "Uttarakhand",
          "West Bengal",
          "Andhra Pradesh",
          "Assam",
          "Bihar",
          "Chhattisgarh",
          "Delhi",
          "Gujarat",
          "Haryana",
          "Himachal Pradesh",
          "Jammu and Kashmir",
          "Jharkhand",
          "Karnataka",
          "Kerala",
          "Madhya Pradesh",
          "Maharashtra",
          "Odisha",
          "Punjab",
          "Rajasthan",
          "Tamil Nadu",
          "Telangana",
          "Uttar Pradesh",
          "West Bengal",
          "Andhra Pradesh",
          "Bihar",
          "Chandigarh",
          "Delhi",
          "Gujarat",
          "Haryana",
          "Jammu and Kashmir",
          "Jharkhand",
          "Karnataka",
          "Kerala",
          "Ladakh",
          "Madhya Pradesh",
          "Maharashtra",
          "Odisha",
          "Puducherry",
          "Punjab",
          "Rajasthan",
          "Tamil Nadu",
          "Telangana",
          "Tripura",
          "Uttar Pradesh",
          "West Bengal",
          "Andhra Pradesh",
          "Bihar",
          "Chhattisgarh",
          "Delhi",
          "Gujarat",
          "Haryana",
          "Himachal Pradesh",
          "Jammu and Kashmir",
          "Jharkhand",
          "Karnataka",
          "Kerala",
          "Madhya Pradesh",
          "Maharashtra",
          "Odisha",
          "Punjab",
          "Rajasthan",
          "Tamil Nadu",
          "Telangana",
          "Uttar Pradesh",
          "West Bengal",
          "Andhra Pradesh",
          "Chandigarh",
          "Chhattisgarh",
          "Delhi",
          "Gujarat",
          "Haryana",
          "Jammu and Kashmir",
          "Jharkhand",
          "Karnataka",
          "Kerala",
          "Madhya Pradesh",
          "Maharashtra",
          "Nagaland",
          "Punjab",
          "Rajasthan",
          "Tamil Nadu",
          "Telangana",
          "Uttar Pradesh",
          "West Bengal",
          "Andhra Pradesh",
          "Assam",
          "Bihar",
          "Delhi",
          "Gujarat",
          "Haryana",
          "Jammu and Kashmir",
          "Jharkhand",
          "Karnataka",
          "Kerala",
          "Ladakh",
          "Madhya Pradesh",
          "Maharashtra",
          "Meghalaya",
          "Odisha",
          "Punjab",
          "Rajasthan",
          "Tamil Nadu",
          "Telangana",
          "Uttar Pradesh",
          "West Bengal",
          "Andhra Pradesh",
          "Assam",
          "Chhattisgarh",
          "Delhi",
          "Gujarat",
          "Haryana",
          "Himachal Pradesh",
          "Jammu and Kashmir",
          "Jharkhand",
          "Karnataka",
          "Kerala",
          "Madhya Pradesh",
          "Maharashtra",
          "Odisha",
          "Punjab",
          "Rajasthan",
          "Tamil Nadu",
          "Telangana",
          "Uttar Pradesh",
          "Uttarakhand",
          "West Bengal",
          "Andhra Pradesh",
          "Bihar",
          "Delhi",
          "Gujarat",
          "Haryana",
          "Himachal Pradesh",
          "Jammu and Kashmir",
          "Jharkhand",
          "Karnataka",
          "Kerala",
          "Ladakh",
          "Madhya Pradesh",
          "Maharashtra",
          "Meghalaya",
          "Punjab",
          "Rajasthan",
          "Tamil Nadu",
          "Telangana",
          "Uttar Pradesh",
          "West Bengal",
          "Andhra Pradesh",
          "Assam",
          "Bihar",
          "Chhattisgarh",
          "Delhi",
          "Gujarat",
          "Haryana",
          "Jammu and Kashmir",
          "Jharkhand",
          "Karnataka",
          "Kerala",
          "Madhya Pradesh",
          "Maharashtra",
          "Meghalaya",
          "Punjab",
          "Rajasthan",
          "Tamil Nadu",
          "Telangana",
          "Uttar Pradesh",
          "West Bengal",
          "Andaman and Nicobar Islands",
          "Andhra Pradesh",
          "Bihar",
          "Delhi",
          "Gujarat",
          "Haryana",
          "Himachal Pradesh",
          "Jammu and Kashmir",
          "Jharkhand",
          "Karnataka",
          "Kerala",
          "Madhya Pradesh",
          "Maharashtra",
          "Punjab",
          "Rajasthan",
          "Tamil Nadu",
          "Telangana",
          "Uttar Pradesh",
          "Uttarakhand",
          "West Bengal",
          "Andaman and Nicobar Islands",
          "Andhra Pradesh",
          "Bihar",
          "Chandigarh",
          "Delhi",
          "Gujarat",
          "Haryana",
          "Himachal Pradesh",
          "Jammu and Kashmir",
          "Jharkhand",
          "Karnataka",
          "Kerala",
          "Madhya Pradesh",
          "Maharashtra",
          "Meghalaya",
          "Odisha",
          "Punjab",
          "Rajasthan",
          "Tamil Nadu",
          "Telangana",
          "Uttar Pradesh",
          "Uttarakhand",
          "West Bengal",
          "Andaman and Nicobar Islands",
          "Andhra Pradesh",
          "Bandipore",
          "Baramula",
          "Bihar",
          "Chandigarh",
          "Dehradun",
          "Gujarat",
          "Haryana",
          "Jammu and Kashmir",
          "Jharkhand",
          "Karnataka",
          "Kerala",
          "Madhya Pradesh",
          "Maharashtra",
          "Munger",
          "Nagaur",
          "Punjab",
          "Rajasthan",
          "Tamil Nadu",
          "Telangana",
          "Uttar Pradesh",
          "West Bengal",
          "Ahmadabad",
          "Ajmer",
          "Anantapur",
          "Anantnag",
          "Aravalli",
          "Ariyalur",
          "Baleshwar",
          "Bandipore",
          "Banswara",
          "Bhadrak",
          "Bidar",
          "Bokaro",
          "Chennai",
          "Chittoor",
          "Dindigul",
          "East Godavari",
          "Gadag",
          "Guntur",
          "Jaipur",
          "Jajapur",
          "Jalandhar",
          "Jhunjhunu",
          "Jodhpur",
          "Kachchh",
          "Kalaburagi",
          "Kannur",
          "Kota",
          "Krishna",
          "Kupwara",
          "Kurnool",
          "Mahesana",
          "Mahisagar",
          "Nagapattinam",
          "Nagaur",
          "Panch Mahals",
          "Panchkula",
          "Perambalur",
          "Pudukkottai",
          "Rajkot",
          "Ramanathapuram",
          "Sivaganga",
          "South Andaman",
          "Sundargarh",
          "Surat",
          "Tenkasi",
          "Thiruvallur",
          "Thiruvarur",
          "Thoothukkudi",
          "Tiruchirappalli",
          "Tiruppur",
          "Vadodara",
          "Vijayapura",
          "Viluppuram",
          "Y.S.R."
         ],
         "type": "pie",
         "values": [
          1,
          2,
          1,
          1,
          1,
          14,
          1,
          7,
          1,
          1,
          1,
          2,
          1,
          5,
          1,
          1,
          1,
          1,
          2,
          1,
          2,
          3,
          8,
          3,
          1,
          1,
          1,
          5,
          1,
          1,
          2,
          2,
          4,
          2,
          1,
          1,
          3,
          3,
          1,
          9,
          1,
          1,
          2,
          6,
          1,
          1,
          1,
          1,
          3,
          7,
          1,
          1,
          3,
          1,
          4,
          5,
          2,
          1,
          1,
          2,
          1,
          1,
          2,
          1,
          3,
          4,
          3,
          1,
          8,
          2,
          2,
          1,
          1,
          3,
          2,
          1,
          1,
          3,
          1,
          1,
          2,
          1,
          3,
          3,
          2,
          4,
          6,
          5,
          2,
          2,
          12,
          2,
          4,
          4,
          1,
          8,
          3,
          4,
          1,
          2,
          7,
          7,
          2,
          5,
          12,
          3,
          12,
          10,
          7,
          3,
          2,
          4,
          2,
          1,
          2,
          1,
          1,
          4,
          6,
          15,
          2,
          10,
          8,
          5,
          3,
          6,
          2,
          3,
          1,
          1,
          1,
          2,
          12,
          7,
          1,
          7,
          28,
          15,
          2,
          3,
          3,
          6,
          4,
          1,
          1,
          6,
          2,
          2,
          8,
          14,
          1,
          18,
          1,
          6,
          6,
          6,
          1,
          2,
          2,
          1,
          2,
          5,
          3,
          2,
          1,
          5,
          10,
          9,
          8,
          15,
          1,
          2,
          6,
          8,
          2,
          3,
          1,
          1,
          1,
          3,
          3,
          4,
          6,
          1,
          3,
          4,
          19,
          5,
          3,
          1,
          2,
          5,
          3,
          4,
          4,
          1,
          5,
          2,
          2,
          1,
          1,
          3,
          1,
          6,
          9,
          39,
          9,
          28,
          5,
          7,
          9,
          14,
          7,
          5,
          3,
          6,
          2,
          1,
          9,
          8,
          2,
          13,
          12,
          6,
          10,
          28,
          4,
          4,
          8,
          16,
          1,
          3,
          2,
          4,
          23,
          2,
          8,
          5,
          7,
          20,
          22,
          5,
          8,
          3,
          7,
          1,
          3,
          1,
          2,
          5,
          1,
          25,
          7,
          1,
          11,
          5,
          32,
          8,
          17,
          3,
          20,
          17,
          7,
          24,
          1,
          21,
          1,
          6,
          2,
          1,
          23,
          4,
          7,
          6,
          1,
          13,
          7,
          19,
          82,
          1,
          1,
          14,
          57,
          20,
          8,
          15,
          67,
          15,
          3,
          2,
          32,
          13,
          7,
          9,
          24,
          32,
          33,
          1,
          1,
          2,
          4,
          27,
          110,
          30,
          13,
          38,
          1,
          5,
          1,
          141,
          1,
          6,
          3,
          8,
          1,
          14,
          21,
          9,
          88,
          2,
          1,
          13,
          75,
          27,
          11,
          3,
          16,
          15,
          7,
          2,
          93,
          1,
          7,
          9,
          5,
          4,
          9,
          1,
          47,
          67,
          15,
          6,
          46,
          102,
          75,
          46,
          6,
          28,
          3,
          1,
          1,
          59,
          1,
          13,
          26,
          17,
          16,
          11,
          25,
          145,
          1,
          12,
          25,
          74,
          43,
          60,
          6,
          60,
          58,
          20,
          6,
          7,
          14,
          1,
          7,
          8,
          14,
          113,
          18,
          3,
          62,
          86,
          62,
          44,
          4,
          27,
          51,
          22,
          18,
          20,
          5,
          3,
          1,
          12,
          13,
          63,
          120,
          1,
          11,
          35,
          50,
          30,
          1,
          27,
          5,
          11,
          2,
          6,
          51,
          29,
          33,
          9,
          16,
          12,
          8,
          34,
          150,
          2,
          20,
          42,
          69,
          40,
          27,
          11,
          1,
          34,
          1,
          93,
          11,
          24,
          33,
          6,
          9,
          51,
          117,
          7,
          40,
          48,
          49,
          29,
          4,
          8,
          15,
          1,
          19,
          8,
          51,
          76,
          3,
          1,
          26,
          9,
          16,
          12,
          70,
          229,
          6,
          24,
          80,
          96,
          18,
          49,
          4,
          18,
          2,
          1,
          183,
          116,
          6,
          23,
          1,
          10,
          7,
          1,
          40,
          210,
          2,
          2,
          21,
          98,
          77,
          16,
          1,
          23,
          13,
          24,
          4,
          7,
          166,
          90,
          3,
          4,
          17,
          3,
          8,
          10,
          78,
          187,
          4,
          7,
          139,
          58,
          16,
          19,
          10,
          15,
          2,
          6,
          85,
          48,
          16,
          21,
          2,
          17,
          2,
          33,
          221,
          1,
          12,
          104,
          106,
          28,
          31,
          8,
          19,
          2,
          2,
          356,
          56,
          1,
          25,
          5,
          15,
          3,
          2,
          52,
          352,
          1,
          1,
          6,
          93,
          98,
          61,
          75,
          18,
          45,
          1,
          2,
          51,
          78,
          2,
          1,
          8,
          3,
          13,
          8,
          127,
          346,
          5,
          8,
          108,
          31,
          52,
          102,
          2,
          38,
          41,
          6,
          17,
          116,
          6,
          2,
          22,
          1,
          19,
          1,
          1,
          197,
          236,
          6,
          2,
          71,
          38,
          6,
          75,
          23,
          9,
          2,
          11,
          3,
          62,
          163,
          11,
          14,
          1,
          36,
          7,
          226,
          285,
          2,
          11,
          55,
          25,
          50,
          70,
          18,
          1,
          38,
          2,
          67,
          170,
          8,
          3,
          14,
          3,
          44,
          1,
          146,
          120,
          14,
          98,
          56,
          66,
          44,
          3,
          24,
          2,
          31,
          1,
          2,
          186,
          277,
          9,
          1,
          13,
          1,
          25,
          4,
          92,
          327,
          2,
          1,
          23,
          122,
          49,
          43,
          125,
          2,
          32,
          1,
          44,
          3,
          1,
          7,
          3,
          2,
          367,
          18,
          9,
          8,
          6,
          2,
          5,
          552,
          3,
          1,
          10,
          127,
          105,
          49,
          125,
          23,
          91,
          1,
          4,
          5,
          6,
          2,
          2,
          7,
          1,
          5,
          1,
          1,
          18,
          25,
          2,
          2,
          1,
          20,
          43,
          5,
          1,
          2,
          6,
          2,
          5,
          6,
          3,
          5,
          2,
          16,
          1,
          1,
          1,
          1,
          2,
          1,
          1,
          1,
          2,
          1,
          1,
          1,
          1,
          2,
          4,
          2,
          1,
          1,
          4,
          1,
          1,
          11,
          3,
          3
         ]
        }
       ],
       "layout": {
        "template": {
         "data": {
          "bar": [
           {
            "error_x": {
             "color": "#2a3f5f"
            },
            "error_y": {
             "color": "#2a3f5f"
            },
            "marker": {
             "line": {
              "color": "#E5ECF6",
              "width": 0.5
             }
            },
            "type": "bar"
           }
          ],
          "barpolar": [
           {
            "marker": {
             "line": {
              "color": "#E5ECF6",
              "width": 0.5
             }
            },
            "type": "barpolar"
           }
          ],
          "carpet": [
           {
            "aaxis": {
             "endlinecolor": "#2a3f5f",
             "gridcolor": "white",
             "linecolor": "white",
             "minorgridcolor": "white",
             "startlinecolor": "#2a3f5f"
            },
            "baxis": {
             "endlinecolor": "#2a3f5f",
             "gridcolor": "white",
             "linecolor": "white",
             "minorgridcolor": "white",
             "startlinecolor": "#2a3f5f"
            },
            "type": "carpet"
           }
          ],
          "choropleth": [
           {
            "colorbar": {
             "outlinewidth": 0,
             "ticks": ""
            },
            "type": "choropleth"
           }
          ],
          "contour": [
           {
            "colorbar": {
             "outlinewidth": 0,
             "ticks": ""
            },
            "colorscale": [
             [
              0,
              "#0d0887"
             ],
             [
              0.1111111111111111,
              "#46039f"
             ],
             [
              0.2222222222222222,
              "#7201a8"
             ],
             [
              0.3333333333333333,
              "#9c179e"
             ],
             [
              0.4444444444444444,
              "#bd3786"
             ],
             [
              0.5555555555555556,
              "#d8576b"
             ],
             [
              0.6666666666666666,
              "#ed7953"
             ],
             [
              0.7777777777777778,
              "#fb9f3a"
             ],
             [
              0.8888888888888888,
              "#fdca26"
             ],
             [
              1,
              "#f0f921"
             ]
            ],
            "type": "contour"
           }
          ],
          "contourcarpet": [
           {
            "colorbar": {
             "outlinewidth": 0,
             "ticks": ""
            },
            "type": "contourcarpet"
           }
          ],
          "heatmap": [
           {
            "colorbar": {
             "outlinewidth": 0,
             "ticks": ""
            },
            "colorscale": [
             [
              0,
              "#0d0887"
             ],
             [
              0.1111111111111111,
              "#46039f"
             ],
             [
              0.2222222222222222,
              "#7201a8"
             ],
             [
              0.3333333333333333,
              "#9c179e"
             ],
             [
              0.4444444444444444,
              "#bd3786"
             ],
             [
              0.5555555555555556,
              "#d8576b"
             ],
             [
              0.6666666666666666,
              "#ed7953"
             ],
             [
              0.7777777777777778,
              "#fb9f3a"
             ],
             [
              0.8888888888888888,
              "#fdca26"
             ],
             [
              1,
              "#f0f921"
             ]
            ],
            "type": "heatmap"
           }
          ],
          "heatmapgl": [
           {
            "colorbar": {
             "outlinewidth": 0,
             "ticks": ""
            },
            "colorscale": [
             [
              0,
              "#0d0887"
             ],
             [
              0.1111111111111111,
              "#46039f"
             ],
             [
              0.2222222222222222,
              "#7201a8"
             ],
             [
              0.3333333333333333,
              "#9c179e"
             ],
             [
              0.4444444444444444,
              "#bd3786"
             ],
             [
              0.5555555555555556,
              "#d8576b"
             ],
             [
              0.6666666666666666,
              "#ed7953"
             ],
             [
              0.7777777777777778,
              "#fb9f3a"
             ],
             [
              0.8888888888888888,
              "#fdca26"
             ],
             [
              1,
              "#f0f921"
             ]
            ],
            "type": "heatmapgl"
           }
          ],
          "histogram": [
           {
            "marker": {
             "colorbar": {
              "outlinewidth": 0,
              "ticks": ""
             }
            },
            "type": "histogram"
           }
          ],
          "histogram2d": [
           {
            "colorbar": {
             "outlinewidth": 0,
             "ticks": ""
            },
            "colorscale": [
             [
              0,
              "#0d0887"
             ],
             [
              0.1111111111111111,
              "#46039f"
             ],
             [
              0.2222222222222222,
              "#7201a8"
             ],
             [
              0.3333333333333333,
              "#9c179e"
             ],
             [
              0.4444444444444444,
              "#bd3786"
             ],
             [
              0.5555555555555556,
              "#d8576b"
             ],
             [
              0.6666666666666666,
              "#ed7953"
             ],
             [
              0.7777777777777778,
              "#fb9f3a"
             ],
             [
              0.8888888888888888,
              "#fdca26"
             ],
             [
              1,
              "#f0f921"
             ]
            ],
            "type": "histogram2d"
           }
          ],
          "histogram2dcontour": [
           {
            "colorbar": {
             "outlinewidth": 0,
             "ticks": ""
            },
            "colorscale": [
             [
              0,
              "#0d0887"
             ],
             [
              0.1111111111111111,
              "#46039f"
             ],
             [
              0.2222222222222222,
              "#7201a8"
             ],
             [
              0.3333333333333333,
              "#9c179e"
             ],
             [
              0.4444444444444444,
              "#bd3786"
             ],
             [
              0.5555555555555556,
              "#d8576b"
             ],
             [
              0.6666666666666666,
              "#ed7953"
             ],
             [
              0.7777777777777778,
              "#fb9f3a"
             ],
             [
              0.8888888888888888,
              "#fdca26"
             ],
             [
              1,
              "#f0f921"
             ]
            ],
            "type": "histogram2dcontour"
           }
          ],
          "mesh3d": [
           {
            "colorbar": {
             "outlinewidth": 0,
             "ticks": ""
            },
            "type": "mesh3d"
           }
          ],
          "parcoords": [
           {
            "line": {
             "colorbar": {
              "outlinewidth": 0,
              "ticks": ""
             }
            },
            "type": "parcoords"
           }
          ],
          "scatter": [
           {
            "marker": {
             "colorbar": {
              "outlinewidth": 0,
              "ticks": ""
             }
            },
            "type": "scatter"
           }
          ],
          "scatter3d": [
           {
            "line": {
             "colorbar": {
              "outlinewidth": 0,
              "ticks": ""
             }
            },
            "marker": {
             "colorbar": {
              "outlinewidth": 0,
              "ticks": ""
             }
            },
            "type": "scatter3d"
           }
          ],
          "scattercarpet": [
           {
            "marker": {
             "colorbar": {
              "outlinewidth": 0,
              "ticks": ""
             }
            },
            "type": "scattercarpet"
           }
          ],
          "scattergeo": [
           {
            "marker": {
             "colorbar": {
              "outlinewidth": 0,
              "ticks": ""
             }
            },
            "type": "scattergeo"
           }
          ],
          "scattergl": [
           {
            "marker": {
             "colorbar": {
              "outlinewidth": 0,
              "ticks": ""
             }
            },
            "type": "scattergl"
           }
          ],
          "scattermapbox": [
           {
            "marker": {
             "colorbar": {
              "outlinewidth": 0,
              "ticks": ""
             }
            },
            "type": "scattermapbox"
           }
          ],
          "scatterpolar": [
           {
            "marker": {
             "colorbar": {
              "outlinewidth": 0,
              "ticks": ""
             }
            },
            "type": "scatterpolar"
           }
          ],
          "scatterpolargl": [
           {
            "marker": {
             "colorbar": {
              "outlinewidth": 0,
              "ticks": ""
             }
            },
            "type": "scatterpolargl"
           }
          ],
          "scatterternary": [
           {
            "marker": {
             "colorbar": {
              "outlinewidth": 0,
              "ticks": ""
             }
            },
            "type": "scatterternary"
           }
          ],
          "surface": [
           {
            "colorbar": {
             "outlinewidth": 0,
             "ticks": ""
            },
            "colorscale": [
             [
              0,
              "#0d0887"
             ],
             [
              0.1111111111111111,
              "#46039f"
             ],
             [
              0.2222222222222222,
              "#7201a8"
             ],
             [
              0.3333333333333333,
              "#9c179e"
             ],
             [
              0.4444444444444444,
              "#bd3786"
             ],
             [
              0.5555555555555556,
              "#d8576b"
             ],
             [
              0.6666666666666666,
              "#ed7953"
             ],
             [
              0.7777777777777778,
              "#fb9f3a"
             ],
             [
              0.8888888888888888,
              "#fdca26"
             ],
             [
              1,
              "#f0f921"
             ]
            ],
            "type": "surface"
           }
          ],
          "table": [
           {
            "cells": {
             "fill": {
              "color": "#EBF0F8"
             },
             "line": {
              "color": "white"
             }
            },
            "header": {
             "fill": {
              "color": "#C8D4E3"
             },
             "line": {
              "color": "white"
             }
            },
            "type": "table"
           }
          ]
         },
         "layout": {
          "annotationdefaults": {
           "arrowcolor": "#2a3f5f",
           "arrowhead": 0,
           "arrowwidth": 1
          },
          "colorscale": {
           "diverging": [
            [
             0,
             "#8e0152"
            ],
            [
             0.1,
             "#c51b7d"
            ],
            [
             0.2,
             "#de77ae"
            ],
            [
             0.3,
             "#f1b6da"
            ],
            [
             0.4,
             "#fde0ef"
            ],
            [
             0.5,
             "#f7f7f7"
            ],
            [
             0.6,
             "#e6f5d0"
            ],
            [
             0.7,
             "#b8e186"
            ],
            [
             0.8,
             "#7fbc41"
            ],
            [
             0.9,
             "#4d9221"
            ],
            [
             1,
             "#276419"
            ]
           ],
           "sequential": [
            [
             0,
             "#0d0887"
            ],
            [
             0.1111111111111111,
             "#46039f"
            ],
            [
             0.2222222222222222,
             "#7201a8"
            ],
            [
             0.3333333333333333,
             "#9c179e"
            ],
            [
             0.4444444444444444,
             "#bd3786"
            ],
            [
             0.5555555555555556,
             "#d8576b"
            ],
            [
             0.6666666666666666,
             "#ed7953"
            ],
            [
             0.7777777777777778,
             "#fb9f3a"
            ],
            [
             0.8888888888888888,
             "#fdca26"
            ],
            [
             1,
             "#f0f921"
            ]
           ],
           "sequentialminus": [
            [
             0,
             "#0d0887"
            ],
            [
             0.1111111111111111,
             "#46039f"
            ],
            [
             0.2222222222222222,
             "#7201a8"
            ],
            [
             0.3333333333333333,
             "#9c179e"
            ],
            [
             0.4444444444444444,
             "#bd3786"
            ],
            [
             0.5555555555555556,
             "#d8576b"
            ],
            [
             0.6666666666666666,
             "#ed7953"
            ],
            [
             0.7777777777777778,
             "#fb9f3a"
            ],
            [
             0.8888888888888888,
             "#fdca26"
            ],
            [
             1,
             "#f0f921"
            ]
           ]
          },
          "colorway": [
           "#636efa",
           "#EF553B",
           "#00cc96",
           "#ab63fa",
           "#FFA15A",
           "#19d3f3",
           "#FF6692",
           "#B6E880",
           "#FF97FF",
           "#FECB52"
          ],
          "font": {
           "color": "#2a3f5f"
          },
          "geo": {
           "bgcolor": "white",
           "lakecolor": "white",
           "landcolor": "#E5ECF6",
           "showlakes": true,
           "showland": true,
           "subunitcolor": "white"
          },
          "hoverlabel": {
           "align": "left"
          },
          "hovermode": "closest",
          "mapbox": {
           "style": "light"
          },
          "paper_bgcolor": "white",
          "plot_bgcolor": "#E5ECF6",
          "polar": {
           "angularaxis": {
            "gridcolor": "white",
            "linecolor": "white",
            "ticks": ""
           },
           "bgcolor": "#E5ECF6",
           "radialaxis": {
            "gridcolor": "white",
            "linecolor": "white",
            "ticks": ""
           }
          },
          "scene": {
           "xaxis": {
            "backgroundcolor": "#E5ECF6",
            "gridcolor": "white",
            "gridwidth": 2,
            "linecolor": "white",
            "showbackground": true,
            "ticks": "",
            "zerolinecolor": "white"
           },
           "yaxis": {
            "backgroundcolor": "#E5ECF6",
            "gridcolor": "white",
            "gridwidth": 2,
            "linecolor": "white",
            "showbackground": true,
            "ticks": "",
            "zerolinecolor": "white"
           },
           "zaxis": {
            "backgroundcolor": "#E5ECF6",
            "gridcolor": "white",
            "gridwidth": 2,
            "linecolor": "white",
            "showbackground": true,
            "ticks": "",
            "zerolinecolor": "white"
           }
          },
          "shapedefaults": {
           "line": {
            "color": "#2a3f5f"
           }
          },
          "ternary": {
           "aaxis": {
            "gridcolor": "white",
            "linecolor": "white",
            "ticks": ""
           },
           "baxis": {
            "gridcolor": "white",
            "linecolor": "white",
            "ticks": ""
           },
           "bgcolor": "#E5ECF6",
           "caxis": {
            "gridcolor": "white",
            "linecolor": "white",
            "ticks": ""
           }
          },
          "title": {
           "x": 0.05
          },
          "xaxis": {
           "automargin": true,
           "gridcolor": "white",
           "linecolor": "white",
           "ticks": "",
           "zerolinecolor": "white",
           "zerolinewidth": 2
          },
          "yaxis": {
           "automargin": true,
           "gridcolor": "white",
           "linecolor": "white",
           "ticks": "",
           "zerolinecolor": "white",
           "zerolinewidth": 2
          }
         }
        }
       }
      },
      "text/html": [
       "<div>\n",
       "        \n",
       "        \n",
       "            <div id=\"dead341a-a5b0-49f5-b2bb-8ed207ae9bb6\" class=\"plotly-graph-div\" style=\"height:525px; width:100%;\"></div>\n",
       "            <script type=\"text/javascript\">\n",
       "                require([\"plotly\"], function(Plotly) {\n",
       "                    window.PLOTLYENV=window.PLOTLYENV || {};\n",
       "                    \n",
       "                if (document.getElementById(\"dead341a-a5b0-49f5-b2bb-8ed207ae9bb6\")) {\n",
       "                    Plotly.newPlot(\n",
       "                        'dead341a-a5b0-49f5-b2bb-8ed207ae9bb6',\n",
       "                        [{\"labels\": [\"Kerala\", \"Kerala\", \"Delhi\", \"Telangana\", \"Rajasthan\", \"Haryana\", \"Rajasthan\", \"Uttar Pradesh\", \"Delhi\", \"Uttar Pradesh\", \"Delhi\", \"Ladakh\", \"Tamil Nadu\", \"Kerala\", \"Delhi\", \"Jammu and Kashmir\", \"Karnataka\", \"Kerala\", \"Maharashtra\", \"Punjab\", \"Uttar Pradesh\", \"Karnataka\", \"Kerala\", \"Maharashtra\", \"Rajasthan\", \"Delhi\", \"Ladakh\", \"Maharashtra\", \"Andhra Pradesh\", \"Delhi\", \"Karnataka\", \"Kerala\", \"Maharashtra\", \"Uttar Pradesh\", \"Delhi\", \"Jammu and Kashmir\", \"Kerala\", \"Maharashtra\", \"Uttar Pradesh\", \"Maharashtra\", \"Rajasthan\", \"Telangana\", \"Kerala\", \"Maharashtra\", \"Telangana\", \"Uttarakhand\", \"Jammu and Kashmir\", \"Karnataka\", \"Kerala\", \"Maharashtra\", \"Odisha\", \"Telangana\", \"Delhi\", \"Haryana\", \"Karnataka\", \"Ladakh\", \"Maharashtra\", \"Puducherry\", \"Telangana\", \"Uttar Pradesh\", \"West Bengal\", \"Delhi\", \"Haryana\", \"Jammu and Kashmir\", \"Karnataka\", \"Maharashtra\", \"Rajasthan\", \"Tamil Nadu\", \"Telangana\", \"Uttar Pradesh\", \"Andhra Pradesh\", \"Chandigarh\", \"Chhattisgarh\", \"Delhi\", \"Gujarat\", \"Karnataka\", \"Kerala\", \"Maharashtra\", \"Odisha\", \"Punjab\", \"Rajasthan\", \"Tamil Nadu\", \"Telangana\", \"Uttar Pradesh\", \"Uttarakhand\", \"Chandigarh\", \"Delhi\", \"Gujarat\", \"Haryana\", \"Himachal Pradesh\", \"Kerala\", \"Ladakh\", \"Madhya Pradesh\", \"Maharashtra\", \"Punjab\", \"Rajasthan\", \"Telangana\", \"Uttar Pradesh\", \"West Bengal\", \"Andhra Pradesh\", \"Delhi\", \"Gujarat\", \"Haryana\", \"Karnataka\", \"Kerala\", \"Ladakh\", \"Maharashtra\", \"Punjab\", \"Rajasthan\", \"Tamil Nadu\", \"Telangana\", \"Uttar Pradesh\", \"West Bengal\", \"Andhra Pradesh\", \"Bihar\", \"Chandigarh\", \"Delhi\", \"Gujarat\", \"Karnataka\", \"Kerala\", \"Madhya Pradesh\", \"Maharashtra\", \"Punjab\", \"Rajasthan\", \"Tamil Nadu\", \"Telangana\", \"Uttar Pradesh\", \"West Bengal\", \"Andhra Pradesh\", \"Bihar\", \"Chandigarh\", \"Delhi\", \"Gujarat\", \"Haryana\", \"Himachal Pradesh\", \"Karnataka\", \"Kerala\", \"Maharashtra\", \"Punjab\", \"Rajasthan\", \"Tamil Nadu\", \"Telangana\", \"Uttar Pradesh\", \"Uttarakhand\", \"Andhra Pradesh\", \"Gujarat\", \"Haryana\", \"Jammu and Kashmir\", \"Karnataka\", \"Kerala\", \"Madhya Pradesh\", \"Maharashtra\", \"Manipur\", \"Punjab\", \"Tamil Nadu\", \"Telangana\", \"Uttar Pradesh\", \"West Bengal\", \"Andhra Pradesh\", \"Bihar\", \"Chhattisgarh\", \"Delhi\", \"Goa\", \"Gujarat\", \"Haryana\", \"Jammu and Kashmir\", \"Karnataka\", \"Kerala\", \"Madhya Pradesh\", \"Maharashtra\", \"Mizoram\", \"Punjab\", \"Rajasthan\", \"Tamil Nadu\", \"Telangana\", \"Uttar Pradesh\", \"Uttarakhand\", \"Andaman and Nicobar Islands\", \"Andhra Pradesh\", \"Bihar\", \"Chhattisgarh\", \"Delhi\", \"Gujarat\", \"Haryana\", \"Jammu and Kashmir\", \"Karnataka\", \"Kerala\", \"Madhya Pradesh\", \"Maharashtra\", \"Odisha\", \"Punjab\", \"Rajasthan\", \"Tamil Nadu\", \"Telangana\", \"Uttar Pradesh\", \"West Bengal\", \"Andaman and Nicobar Islands\", \"Andhra Pradesh\", \"Bihar\", \"Chandigarh\", \"Delhi\", \"Gujarat\", \"Haryana\", \"Jammu and Kashmir\", \"Karnataka\", \"Kerala\", \"Madhya Pradesh\", \"Maharashtra\", \"Punjab\", \"Rajasthan\", \"Tamil Nadu\", \"Telangana\", \"Uttar Pradesh\", \"West Bengal\", \"Andaman and Nicobar Islands\", \"Andhra Pradesh\", \"Bihar\", \"Chhattisgarh\", \"Delhi\", \"Gujarat\", \"Haryana\", \"Jammu and Kashmir\", \"Karnataka\", \"Kerala\", \"Madhya Pradesh\", \"Maharashtra\", \"Rajasthan\", \"Tamil Nadu\", \"Telangana\", \"Uttar Pradesh\", \"Uttarakhand\", \"West Bengal\", \"Andhra Pradesh\", \"Bihar\", \"Delhi\", \"Goa\", \"Gujarat\", \"Jammu and Kashmir\", \"Karnataka\", \"Kerala\", \"Maharashtra\", \"Rajasthan\", \"Tamil Nadu\", \"Telangana\", \"Uttar Pradesh\", \"Uttarakhand\", \"West Bengal\", \"Andaman and Nicobar Islands\", \"Andhra Pradesh\", \"Chandigarh\", \"Chhattisgarh\", \"Delhi\", \"Gujarat\", \"Haryana\", \"Jammu and Kashmir\", \"Karnataka\", \"Kerala\", \"Madhya Pradesh\", \"Maharashtra\", \"Punjab\", \"Rajasthan\", \"Tamil Nadu\", \"Telangana\", \"Uttar Pradesh\", \"West Bengal\", \"Andhra Pradesh\", \"Assam\", \"Bihar\", \"Chandigarh\", \"Chhattisgarh\", \"Delhi\", \"Gujarat\", \"Haryana\", \"Jammu and Kashmir\", \"Jharkhand\", \"Karnataka\", \"Kerala\", \"Madhya Pradesh\", \"Maharashtra\", \"Odisha\", \"Punjab\", \"Rajasthan\", \"Tamil Nadu\", \"Telangana\", \"Uttar Pradesh\", \"West Bengal\", \"Andhra Pradesh\", \"Assam\", \"Bihar\", \"Chandigarh\", \"Delhi\", \"Gujarat\", \"Jammu and Kashmir\", \"Karnataka\", \"Kerala\", \"Madhya Pradesh\", \"Maharashtra\", \"Manipur\", \"Odisha\", \"Puducherry\", \"Punjab\", \"Rajasthan\", \"Tamil Nadu\", \"Telangana\", \"Uttar Pradesh\", \"Andhra Pradesh\", \"Arunachal Pradesh\", \"Bihar\", \"Chandigarh\", \"Delhi\", \"Gujarat\", \"Haryana\", \"Himachal Pradesh\", \"Jammu and Kashmir\", \"Jharkhand\", \"Karnataka\", \"Kerala\", \"Madhya Pradesh\", \"Maharashtra\", \"Puducherry\", \"Punjab\", \"Rajasthan\", \"Tamil Nadu\", \"Telangana\", \"Uttar Pradesh\", \"Uttarakhand\", \"West Bengal\", \"Andhra Pradesh\", \"Assam\", \"Bihar\", \"Delhi\", \"Goa\", \"Gujarat\", \"Haryana\", \"Jammu and Kashmir\", \"Karnataka\", \"Kerala\", \"Ladakh\", \"Madhya Pradesh\", \"Maharashtra\", \"Odisha\", \"Punjab\", \"Rajasthan\", \"Tamil Nadu\", \"Telangana\", \"Uttar Pradesh\", \"Uttarakhand\", \"Andhra Pradesh\", \"Assam\", \"Bihar\", \"Chhattisgarh\", \"Delhi\", \"Goa\", \"Gujarat\", \"Haryana\", \"Jammu and Kashmir\", \"Karnataka\", \"Kerala\", \"Madhya Pradesh\", \"Maharashtra\", \"Odisha\", \"Punjab\", \"Rajasthan\", \"Tamil Nadu\", \"Telangana\", \"Uttar Pradesh\", \"Uttarakhand\", \"Andhra Pradesh\", \"Delhi\", \"Gujarat\", \"Haryana\", \"Himachal Pradesh\", \"Jammu and Kashmir\", \"Jharkhand\", \"Karnataka\", \"Kerala\", \"Madhya Pradesh\", \"Maharashtra\", \"Odisha\", \"Punjab\", \"Rajasthan\", \"Tamil Nadu\", \"Telangana\", \"Uttar Pradesh\", \"Uttarakhand\", \"West Bengal\", \"Andhra Pradesh\", \"Delhi\", \"Gujarat\", \"Haryana\", \"Himachal Pradesh\", \"Jammu and Kashmir\", \"Jharkhand\", \"Karnataka\", \"Kerala\", \"Madhya Pradesh\", \"Maharashtra\", \"Odisha\", \"Punjab\", \"Rajasthan\", \"Tamil Nadu\", \"Telangana\", \"Tripura\", \"Uttar Pradesh\", \"Uttarakhand\", \"Andhra Pradesh\", \"Assam\", \"Bihar\", \"Delhi\", \"Gujarat\", \"Haryana\", \"Himachal Pradesh\", \"Jammu and Kashmir\", \"Karnataka\", \"Kerala\", \"Madhya Pradesh\", \"Maharashtra\", \"Odisha\", \"Punjab\", \"Rajasthan\", \"Tamil Nadu\", \"Telangana\", \"Uttar Pradesh\", \"West Bengal\", \"Andaman and Nicobar Islands\", \"Andhra Pradesh\", \"Bihar\", \"Delhi\", \"Gujarat\", \"Haryana\", \"Jammu and Kashmir\", \"Karnataka\", \"Kerala\", \"Madhya Pradesh\", \"Maharashtra\", \"Punjab\", \"Rajasthan\", \"Tamil Nadu\", \"Telangana\", \"Uttar Pradesh\", \"Uttarakhand\", \"West Bengal\", \"Andhra Pradesh\", \"Assam\", \"Bihar\", \"Chhattisgarh\", \"Delhi\", \"Gujarat\", \"Haryana\", \"Himachal Pradesh\", \"Jammu and Kashmir\", \"Jharkhand\", \"Karnataka\", \"Kerala\", \"Madhya Pradesh\", \"Maharashtra\", \"Odisha\", \"Punjab\", \"Rajasthan\", \"Tamil Nadu\", \"Telangana\", \"Uttar Pradesh\", \"West Bengal\", \"Andhra Pradesh\", \"Bihar\", \"Chandigarh\", \"Delhi\", \"Gujarat\", \"Haryana\", \"Jammu and Kashmir\", \"Jharkhand\", \"Karnataka\", \"Kerala\", \"Ladakh\", \"Madhya Pradesh\", \"Maharashtra\", \"Odisha\", \"Puducherry\", \"Punjab\", \"Rajasthan\", \"Tamil Nadu\", \"Telangana\", \"Tripura\", \"Uttar Pradesh\", \"West Bengal\", \"Andhra Pradesh\", \"Bihar\", \"Chhattisgarh\", \"Delhi\", \"Gujarat\", \"Haryana\", \"Himachal Pradesh\", \"Jammu and Kashmir\", \"Jharkhand\", \"Karnataka\", \"Kerala\", \"Madhya Pradesh\", \"Maharashtra\", \"Odisha\", \"Punjab\", \"Rajasthan\", \"Tamil Nadu\", \"Telangana\", \"Uttar Pradesh\", \"West Bengal\", \"Andhra Pradesh\", \"Chandigarh\", \"Chhattisgarh\", \"Delhi\", \"Gujarat\", \"Haryana\", \"Jammu and Kashmir\", \"Jharkhand\", \"Karnataka\", \"Kerala\", \"Madhya Pradesh\", \"Maharashtra\", \"Nagaland\", \"Punjab\", \"Rajasthan\", \"Tamil Nadu\", \"Telangana\", \"Uttar Pradesh\", \"West Bengal\", \"Andhra Pradesh\", \"Assam\", \"Bihar\", \"Delhi\", \"Gujarat\", \"Haryana\", \"Jammu and Kashmir\", \"Jharkhand\", \"Karnataka\", \"Kerala\", \"Ladakh\", \"Madhya Pradesh\", \"Maharashtra\", \"Meghalaya\", \"Odisha\", \"Punjab\", \"Rajasthan\", \"Tamil Nadu\", \"Telangana\", \"Uttar Pradesh\", \"West Bengal\", \"Andhra Pradesh\", \"Assam\", \"Chhattisgarh\", \"Delhi\", \"Gujarat\", \"Haryana\", \"Himachal Pradesh\", \"Jammu and Kashmir\", \"Jharkhand\", \"Karnataka\", \"Kerala\", \"Madhya Pradesh\", \"Maharashtra\", \"Odisha\", \"Punjab\", \"Rajasthan\", \"Tamil Nadu\", \"Telangana\", \"Uttar Pradesh\", \"Uttarakhand\", \"West Bengal\", \"Andhra Pradesh\", \"Bihar\", \"Delhi\", \"Gujarat\", \"Haryana\", \"Himachal Pradesh\", \"Jammu and Kashmir\", \"Jharkhand\", \"Karnataka\", \"Kerala\", \"Ladakh\", \"Madhya Pradesh\", \"Maharashtra\", \"Meghalaya\", \"Punjab\", \"Rajasthan\", \"Tamil Nadu\", \"Telangana\", \"Uttar Pradesh\", \"West Bengal\", \"Andhra Pradesh\", \"Assam\", \"Bihar\", \"Chhattisgarh\", \"Delhi\", \"Gujarat\", \"Haryana\", \"Jammu and Kashmir\", \"Jharkhand\", \"Karnataka\", \"Kerala\", \"Madhya Pradesh\", \"Maharashtra\", \"Meghalaya\", \"Punjab\", \"Rajasthan\", \"Tamil Nadu\", \"Telangana\", \"Uttar Pradesh\", \"West Bengal\", \"Andaman and Nicobar Islands\", \"Andhra Pradesh\", \"Bihar\", \"Delhi\", \"Gujarat\", \"Haryana\", \"Himachal Pradesh\", \"Jammu and Kashmir\", \"Jharkhand\", \"Karnataka\", \"Kerala\", \"Madhya Pradesh\", \"Maharashtra\", \"Punjab\", \"Rajasthan\", \"Tamil Nadu\", \"Telangana\", \"Uttar Pradesh\", \"Uttarakhand\", \"West Bengal\", \"Andaman and Nicobar Islands\", \"Andhra Pradesh\", \"Bihar\", \"Chandigarh\", \"Delhi\", \"Gujarat\", \"Haryana\", \"Himachal Pradesh\", \"Jammu and Kashmir\", \"Jharkhand\", \"Karnataka\", \"Kerala\", \"Madhya Pradesh\", \"Maharashtra\", \"Meghalaya\", \"Odisha\", \"Punjab\", \"Rajasthan\", \"Tamil Nadu\", \"Telangana\", \"Uttar Pradesh\", \"Uttarakhand\", \"West Bengal\", \"Andaman and Nicobar Islands\", \"Andhra Pradesh\", \"Bandipore\", \"Baramula\", \"Bihar\", \"Chandigarh\", \"Dehradun\", \"Gujarat\", \"Haryana\", \"Jammu and Kashmir\", \"Jharkhand\", \"Karnataka\", \"Kerala\", \"Madhya Pradesh\", \"Maharashtra\", \"Munger\", \"Nagaur\", \"Punjab\", \"Rajasthan\", \"Tamil Nadu\", \"Telangana\", \"Uttar Pradesh\", \"West Bengal\", \"Ahmadabad\", \"Ajmer\", \"Anantapur\", \"Anantnag\", \"Aravalli\", \"Ariyalur\", \"Baleshwar\", \"Bandipore\", \"Banswara\", \"Bhadrak\", \"Bidar\", \"Bokaro\", \"Chennai\", \"Chittoor\", \"Dindigul\", \"East Godavari\", \"Gadag\", \"Guntur\", \"Jaipur\", \"Jajapur\", \"Jalandhar\", \"Jhunjhunu\", \"Jodhpur\", \"Kachchh\", \"Kalaburagi\", \"Kannur\", \"Kota\", \"Krishna\", \"Kupwara\", \"Kurnool\", \"Mahesana\", \"Mahisagar\", \"Nagapattinam\", \"Nagaur\", \"Panch Mahals\", \"Panchkula\", \"Perambalur\", \"Pudukkottai\", \"Rajkot\", \"Ramanathapuram\", \"Sivaganga\", \"South Andaman\", \"Sundargarh\", \"Surat\", \"Tenkasi\", \"Thiruvallur\", \"Thiruvarur\", \"Thoothukkudi\", \"Tiruchirappalli\", \"Tiruppur\", \"Vadodara\", \"Vijayapura\", \"Viluppuram\", \"Y.S.R.\"], \"type\": \"pie\", \"values\": [1, 2, 1, 1, 1, 14, 1, 7, 1, 1, 1, 2, 1, 5, 1, 1, 1, 1, 2, 1, 2, 3, 8, 3, 1, 1, 1, 5, 1, 1, 2, 2, 4, 2, 1, 1, 3, 3, 1, 9, 1, 1, 2, 6, 1, 1, 1, 1, 3, 7, 1, 1, 3, 1, 4, 5, 2, 1, 1, 2, 1, 1, 2, 1, 3, 4, 3, 1, 8, 2, 2, 1, 1, 3, 2, 1, 1, 3, 1, 1, 2, 1, 3, 3, 2, 4, 6, 5, 2, 2, 12, 2, 4, 4, 1, 8, 3, 4, 1, 2, 7, 7, 2, 5, 12, 3, 12, 10, 7, 3, 2, 4, 2, 1, 2, 1, 1, 4, 6, 15, 2, 10, 8, 5, 3, 6, 2, 3, 1, 1, 1, 2, 12, 7, 1, 7, 28, 15, 2, 3, 3, 6, 4, 1, 1, 6, 2, 2, 8, 14, 1, 18, 1, 6, 6, 6, 1, 2, 2, 1, 2, 5, 3, 2, 1, 5, 10, 9, 8, 15, 1, 2, 6, 8, 2, 3, 1, 1, 1, 3, 3, 4, 6, 1, 3, 4, 19, 5, 3, 1, 2, 5, 3, 4, 4, 1, 5, 2, 2, 1, 1, 3, 1, 6, 9, 39, 9, 28, 5, 7, 9, 14, 7, 5, 3, 6, 2, 1, 9, 8, 2, 13, 12, 6, 10, 28, 4, 4, 8, 16, 1, 3, 2, 4, 23, 2, 8, 5, 7, 20, 22, 5, 8, 3, 7, 1, 3, 1, 2, 5, 1, 25, 7, 1, 11, 5, 32, 8, 17, 3, 20, 17, 7, 24, 1, 21, 1, 6, 2, 1, 23, 4, 7, 6, 1, 13, 7, 19, 82, 1, 1, 14, 57, 20, 8, 15, 67, 15, 3, 2, 32, 13, 7, 9, 24, 32, 33, 1, 1, 2, 4, 27, 110, 30, 13, 38, 1, 5, 1, 141, 1, 6, 3, 8, 1, 14, 21, 9, 88, 2, 1, 13, 75, 27, 11, 3, 16, 15, 7, 2, 93, 1, 7, 9, 5, 4, 9, 1, 47, 67, 15, 6, 46, 102, 75, 46, 6, 28, 3, 1, 1, 59, 1, 13, 26, 17, 16, 11, 25, 145, 1, 12, 25, 74, 43, 60, 6, 60, 58, 20, 6, 7, 14, 1, 7, 8, 14, 113, 18, 3, 62, 86, 62, 44, 4, 27, 51, 22, 18, 20, 5, 3, 1, 12, 13, 63, 120, 1, 11, 35, 50, 30, 1, 27, 5, 11, 2, 6, 51, 29, 33, 9, 16, 12, 8, 34, 150, 2, 20, 42, 69, 40, 27, 11, 1, 34, 1, 93, 11, 24, 33, 6, 9, 51, 117, 7, 40, 48, 49, 29, 4, 8, 15, 1, 19, 8, 51, 76, 3, 1, 26, 9, 16, 12, 70, 229, 6, 24, 80, 96, 18, 49, 4, 18, 2, 1, 183, 116, 6, 23, 1, 10, 7, 1, 40, 210, 2, 2, 21, 98, 77, 16, 1, 23, 13, 24, 4, 7, 166, 90, 3, 4, 17, 3, 8, 10, 78, 187, 4, 7, 139, 58, 16, 19, 10, 15, 2, 6, 85, 48, 16, 21, 2, 17, 2, 33, 221, 1, 12, 104, 106, 28, 31, 8, 19, 2, 2, 356, 56, 1, 25, 5, 15, 3, 2, 52, 352, 1, 1, 6, 93, 98, 61, 75, 18, 45, 1, 2, 51, 78, 2, 1, 8, 3, 13, 8, 127, 346, 5, 8, 108, 31, 52, 102, 2, 38, 41, 6, 17, 116, 6, 2, 22, 1, 19, 1, 1, 197, 236, 6, 2, 71, 38, 6, 75, 23, 9, 2, 11, 3, 62, 163, 11, 14, 1, 36, 7, 226, 285, 2, 11, 55, 25, 50, 70, 18, 1, 38, 2, 67, 170, 8, 3, 14, 3, 44, 1, 146, 120, 14, 98, 56, 66, 44, 3, 24, 2, 31, 1, 2, 186, 277, 9, 1, 13, 1, 25, 4, 92, 327, 2, 1, 23, 122, 49, 43, 125, 2, 32, 1, 44, 3, 1, 7, 3, 2, 367, 18, 9, 8, 6, 2, 5, 552, 3, 1, 10, 127, 105, 49, 125, 23, 91, 1, 4, 5, 6, 2, 2, 7, 1, 5, 1, 1, 18, 25, 2, 2, 1, 20, 43, 5, 1, 2, 6, 2, 5, 6, 3, 5, 2, 16, 1, 1, 1, 1, 2, 1, 1, 1, 2, 1, 1, 1, 1, 2, 4, 2, 1, 1, 4, 1, 1, 11, 3, 3]}],\n",
       "                        {\"template\": {\"data\": {\"bar\": [{\"error_x\": {\"color\": \"#2a3f5f\"}, \"error_y\": {\"color\": \"#2a3f5f\"}, \"marker\": {\"line\": {\"color\": \"#E5ECF6\", \"width\": 0.5}}, \"type\": \"bar\"}], \"barpolar\": [{\"marker\": {\"line\": {\"color\": \"#E5ECF6\", \"width\": 0.5}}, \"type\": \"barpolar\"}], \"carpet\": [{\"aaxis\": {\"endlinecolor\": \"#2a3f5f\", \"gridcolor\": \"white\", \"linecolor\": \"white\", \"minorgridcolor\": \"white\", \"startlinecolor\": \"#2a3f5f\"}, \"baxis\": {\"endlinecolor\": \"#2a3f5f\", \"gridcolor\": \"white\", \"linecolor\": \"white\", \"minorgridcolor\": \"white\", \"startlinecolor\": \"#2a3f5f\"}, \"type\": \"carpet\"}], \"choropleth\": [{\"colorbar\": {\"outlinewidth\": 0, \"ticks\": \"\"}, \"type\": \"choropleth\"}], \"contour\": [{\"colorbar\": {\"outlinewidth\": 0, \"ticks\": \"\"}, \"colorscale\": [[0.0, \"#0d0887\"], [0.1111111111111111, \"#46039f\"], [0.2222222222222222, \"#7201a8\"], [0.3333333333333333, \"#9c179e\"], [0.4444444444444444, \"#bd3786\"], [0.5555555555555556, \"#d8576b\"], [0.6666666666666666, \"#ed7953\"], [0.7777777777777778, \"#fb9f3a\"], [0.8888888888888888, \"#fdca26\"], [1.0, \"#f0f921\"]], \"type\": \"contour\"}], \"contourcarpet\": [{\"colorbar\": {\"outlinewidth\": 0, \"ticks\": \"\"}, \"type\": \"contourcarpet\"}], \"heatmap\": [{\"colorbar\": {\"outlinewidth\": 0, \"ticks\": \"\"}, \"colorscale\": [[0.0, \"#0d0887\"], [0.1111111111111111, \"#46039f\"], [0.2222222222222222, \"#7201a8\"], [0.3333333333333333, \"#9c179e\"], [0.4444444444444444, \"#bd3786\"], [0.5555555555555556, \"#d8576b\"], [0.6666666666666666, \"#ed7953\"], [0.7777777777777778, \"#fb9f3a\"], [0.8888888888888888, \"#fdca26\"], [1.0, \"#f0f921\"]], \"type\": \"heatmap\"}], \"heatmapgl\": [{\"colorbar\": {\"outlinewidth\": 0, \"ticks\": \"\"}, \"colorscale\": [[0.0, \"#0d0887\"], [0.1111111111111111, \"#46039f\"], [0.2222222222222222, \"#7201a8\"], [0.3333333333333333, \"#9c179e\"], [0.4444444444444444, \"#bd3786\"], [0.5555555555555556, \"#d8576b\"], [0.6666666666666666, \"#ed7953\"], [0.7777777777777778, \"#fb9f3a\"], [0.8888888888888888, \"#fdca26\"], [1.0, \"#f0f921\"]], \"type\": \"heatmapgl\"}], \"histogram\": [{\"marker\": {\"colorbar\": {\"outlinewidth\": 0, \"ticks\": \"\"}}, \"type\": \"histogram\"}], \"histogram2d\": [{\"colorbar\": {\"outlinewidth\": 0, \"ticks\": \"\"}, \"colorscale\": [[0.0, \"#0d0887\"], [0.1111111111111111, \"#46039f\"], [0.2222222222222222, \"#7201a8\"], [0.3333333333333333, \"#9c179e\"], [0.4444444444444444, \"#bd3786\"], [0.5555555555555556, \"#d8576b\"], [0.6666666666666666, \"#ed7953\"], [0.7777777777777778, \"#fb9f3a\"], [0.8888888888888888, \"#fdca26\"], [1.0, \"#f0f921\"]], \"type\": \"histogram2d\"}], \"histogram2dcontour\": [{\"colorbar\": {\"outlinewidth\": 0, \"ticks\": \"\"}, \"colorscale\": [[0.0, \"#0d0887\"], [0.1111111111111111, \"#46039f\"], [0.2222222222222222, \"#7201a8\"], [0.3333333333333333, \"#9c179e\"], [0.4444444444444444, \"#bd3786\"], [0.5555555555555556, \"#d8576b\"], [0.6666666666666666, \"#ed7953\"], [0.7777777777777778, \"#fb9f3a\"], [0.8888888888888888, \"#fdca26\"], [1.0, \"#f0f921\"]], \"type\": \"histogram2dcontour\"}], \"mesh3d\": [{\"colorbar\": {\"outlinewidth\": 0, \"ticks\": \"\"}, \"type\": \"mesh3d\"}], \"parcoords\": [{\"line\": {\"colorbar\": {\"outlinewidth\": 0, \"ticks\": \"\"}}, \"type\": \"parcoords\"}], \"scatter\": [{\"marker\": {\"colorbar\": {\"outlinewidth\": 0, \"ticks\": \"\"}}, \"type\": \"scatter\"}], \"scatter3d\": [{\"line\": {\"colorbar\": {\"outlinewidth\": 0, \"ticks\": \"\"}}, \"marker\": {\"colorbar\": {\"outlinewidth\": 0, \"ticks\": \"\"}}, \"type\": \"scatter3d\"}], \"scattercarpet\": [{\"marker\": {\"colorbar\": {\"outlinewidth\": 0, \"ticks\": \"\"}}, \"type\": \"scattercarpet\"}], \"scattergeo\": [{\"marker\": {\"colorbar\": {\"outlinewidth\": 0, \"ticks\": \"\"}}, \"type\": \"scattergeo\"}], \"scattergl\": [{\"marker\": {\"colorbar\": {\"outlinewidth\": 0, \"ticks\": \"\"}}, \"type\": \"scattergl\"}], \"scattermapbox\": [{\"marker\": {\"colorbar\": {\"outlinewidth\": 0, \"ticks\": \"\"}}, \"type\": \"scattermapbox\"}], \"scatterpolar\": [{\"marker\": {\"colorbar\": {\"outlinewidth\": 0, \"ticks\": \"\"}}, \"type\": \"scatterpolar\"}], \"scatterpolargl\": [{\"marker\": {\"colorbar\": {\"outlinewidth\": 0, \"ticks\": \"\"}}, \"type\": \"scatterpolargl\"}], \"scatterternary\": [{\"marker\": {\"colorbar\": {\"outlinewidth\": 0, \"ticks\": \"\"}}, \"type\": \"scatterternary\"}], \"surface\": [{\"colorbar\": {\"outlinewidth\": 0, \"ticks\": \"\"}, \"colorscale\": [[0.0, \"#0d0887\"], [0.1111111111111111, \"#46039f\"], [0.2222222222222222, \"#7201a8\"], [0.3333333333333333, \"#9c179e\"], [0.4444444444444444, \"#bd3786\"], [0.5555555555555556, \"#d8576b\"], [0.6666666666666666, \"#ed7953\"], [0.7777777777777778, \"#fb9f3a\"], [0.8888888888888888, \"#fdca26\"], [1.0, \"#f0f921\"]], \"type\": \"surface\"}], \"table\": [{\"cells\": {\"fill\": {\"color\": \"#EBF0F8\"}, \"line\": {\"color\": \"white\"}}, \"header\": {\"fill\": {\"color\": \"#C8D4E3\"}, \"line\": {\"color\": \"white\"}}, \"type\": \"table\"}]}, \"layout\": {\"annotationdefaults\": {\"arrowcolor\": \"#2a3f5f\", \"arrowhead\": 0, \"arrowwidth\": 1}, \"colorscale\": {\"diverging\": [[0, \"#8e0152\"], [0.1, \"#c51b7d\"], [0.2, \"#de77ae\"], [0.3, \"#f1b6da\"], [0.4, \"#fde0ef\"], [0.5, \"#f7f7f7\"], [0.6, \"#e6f5d0\"], [0.7, \"#b8e186\"], [0.8, \"#7fbc41\"], [0.9, \"#4d9221\"], [1, \"#276419\"]], \"sequential\": [[0.0, \"#0d0887\"], [0.1111111111111111, \"#46039f\"], [0.2222222222222222, \"#7201a8\"], [0.3333333333333333, \"#9c179e\"], [0.4444444444444444, \"#bd3786\"], [0.5555555555555556, \"#d8576b\"], [0.6666666666666666, \"#ed7953\"], [0.7777777777777778, \"#fb9f3a\"], [0.8888888888888888, \"#fdca26\"], [1.0, \"#f0f921\"]], \"sequentialminus\": [[0.0, \"#0d0887\"], [0.1111111111111111, \"#46039f\"], [0.2222222222222222, \"#7201a8\"], [0.3333333333333333, \"#9c179e\"], [0.4444444444444444, \"#bd3786\"], [0.5555555555555556, \"#d8576b\"], [0.6666666666666666, \"#ed7953\"], [0.7777777777777778, \"#fb9f3a\"], [0.8888888888888888, \"#fdca26\"], [1.0, \"#f0f921\"]]}, \"colorway\": [\"#636efa\", \"#EF553B\", \"#00cc96\", \"#ab63fa\", \"#FFA15A\", \"#19d3f3\", \"#FF6692\", \"#B6E880\", \"#FF97FF\", \"#FECB52\"], \"font\": {\"color\": \"#2a3f5f\"}, \"geo\": {\"bgcolor\": \"white\", \"lakecolor\": \"white\", \"landcolor\": \"#E5ECF6\", \"showlakes\": true, \"showland\": true, \"subunitcolor\": \"white\"}, \"hoverlabel\": {\"align\": \"left\"}, \"hovermode\": \"closest\", \"mapbox\": {\"style\": \"light\"}, \"paper_bgcolor\": \"white\", \"plot_bgcolor\": \"#E5ECF6\", \"polar\": {\"angularaxis\": {\"gridcolor\": \"white\", \"linecolor\": \"white\", \"ticks\": \"\"}, \"bgcolor\": \"#E5ECF6\", \"radialaxis\": {\"gridcolor\": \"white\", \"linecolor\": \"white\", \"ticks\": \"\"}}, \"scene\": {\"xaxis\": {\"backgroundcolor\": \"#E5ECF6\", \"gridcolor\": \"white\", \"gridwidth\": 2, \"linecolor\": \"white\", \"showbackground\": true, \"ticks\": \"\", \"zerolinecolor\": \"white\"}, \"yaxis\": {\"backgroundcolor\": \"#E5ECF6\", \"gridcolor\": \"white\", \"gridwidth\": 2, \"linecolor\": \"white\", \"showbackground\": true, \"ticks\": \"\", \"zerolinecolor\": \"white\"}, \"zaxis\": {\"backgroundcolor\": \"#E5ECF6\", \"gridcolor\": \"white\", \"gridwidth\": 2, \"linecolor\": \"white\", \"showbackground\": true, \"ticks\": \"\", \"zerolinecolor\": \"white\"}}, \"shapedefaults\": {\"line\": {\"color\": \"#2a3f5f\"}}, \"ternary\": {\"aaxis\": {\"gridcolor\": \"white\", \"linecolor\": \"white\", \"ticks\": \"\"}, \"baxis\": {\"gridcolor\": \"white\", \"linecolor\": \"white\", \"ticks\": \"\"}, \"bgcolor\": \"#E5ECF6\", \"caxis\": {\"gridcolor\": \"white\", \"linecolor\": \"white\", \"ticks\": \"\"}}, \"title\": {\"x\": 0.05}, \"xaxis\": {\"automargin\": true, \"gridcolor\": \"white\", \"linecolor\": \"white\", \"ticks\": \"\", \"zerolinecolor\": \"white\", \"zerolinewidth\": 2}, \"yaxis\": {\"automargin\": true, \"gridcolor\": \"white\", \"linecolor\": \"white\", \"ticks\": \"\", \"zerolinecolor\": \"white\", \"zerolinewidth\": 2}}}},\n",
       "                        {\"responsive\": true}\n",
       "                    ).then(function(){\n",
       "                            \n",
       "var gd = document.getElementById('dead341a-a5b0-49f5-b2bb-8ed207ae9bb6');\n",
       "var x = new MutationObserver(function (mutations, observer) {{\n",
       "        var display = window.getComputedStyle(gd).display;\n",
       "        if (!display || display === 'none') {{\n",
       "            console.log([gd, 'removed!']);\n",
       "            Plotly.purge(gd);\n",
       "            observer.disconnect();\n",
       "        }}\n",
       "}});\n",
       "\n",
       "// Listen for the removal of the full notebook cells\n",
       "var notebookContainer = gd.closest('#notebook-container');\n",
       "if (notebookContainer) {{\n",
       "    x.observe(notebookContainer, {childList: true});\n",
       "}}\n",
       "\n",
       "// Listen for the clearing of the current output cell\n",
       "var outputEl = gd.closest('.output');\n",
       "if (outputEl) {{\n",
       "    x.observe(outputEl, {childList: true});\n",
       "}}\n",
       "\n",
       "                        })\n",
       "                };\n",
       "                });\n",
       "            </script>\n",
       "        </div>"
      ]
     },
     "metadata": {},
     "output_type": "display_data"
    }
   ],
   "source": [
    "fig = go.Figure(data=[go.Pie(labels=df2['Detected State'], values=df2['Patient Number'])])\n",
    "fig.show()"
   ]
  },
  {
   "cell_type": "code",
   "execution_count": null,
   "metadata": {},
   "outputs": [],
   "source": []
  }
 ],
 "metadata": {
  "kernelspec": {
   "display_name": "Python 3",
   "language": "python",
   "name": "python3"
  },
  "language_info": {
   "codemirror_mode": {
    "name": "ipython",
    "version": 3
   },
   "file_extension": ".py",
   "mimetype": "text/x-python",
   "name": "python",
   "nbconvert_exporter": "python",
   "pygments_lexer": "ipython3",
   "version": "3.7.4"
  }
 },
 "nbformat": 4,
 "nbformat_minor": 2
}
